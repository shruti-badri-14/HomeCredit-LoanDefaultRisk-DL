{
 "cells": [
  {
   "cell_type": "markdown",
   "id": "903b910c",
   "metadata": {
    "papermill": {
     "duration": 0.006839,
     "end_time": "2024-04-24T00:40:22.899286",
     "exception": false,
     "start_time": "2024-04-24T00:40:22.892447",
     "status": "completed"
    },
    "tags": []
   },
   "source": [
    "# Baseline Model - Team 7"
   ]
  },
  {
   "cell_type": "code",
   "execution_count": 1,
   "id": "5f62169e",
   "metadata": {
    "_cell_guid": "b1076dfc-b9ad-4769-8c92-a6c4dae69d19",
    "_kg_hide-input": true,
    "_kg_hide-output": true,
    "_uuid": "8f2839f25d086af736a60e9eeb907d3b93b6e0e5",
    "execution": {
     "iopub.execute_input": "2024-04-24T00:40:22.912922Z",
     "iopub.status.busy": "2024-04-24T00:40:22.912522Z",
     "iopub.status.idle": "2024-04-24T00:40:25.278328Z",
     "shell.execute_reply": "2024-04-24T00:40:25.277308Z"
    },
    "papermill": {
     "duration": 2.37654,
     "end_time": "2024-04-24T00:40:25.281780",
     "exception": false,
     "start_time": "2024-04-24T00:40:22.905240",
     "status": "completed"
    },
    "tags": []
   },
   "outputs": [
    {
     "name": "stdout",
     "output_type": "stream",
     "text": [
      "/kaggle/input/home-credit-credit-risk-model-stability/sample_submission.csv\n",
      "/kaggle/input/home-credit-credit-risk-model-stability/feature_definitions.csv\n",
      "/kaggle/input/home-credit-credit-risk-model-stability/parquet_files/test/test_deposit_1.parquet\n",
      "/kaggle/input/home-credit-credit-risk-model-stability/parquet_files/test/test_applprev_2.parquet\n",
      "/kaggle/input/home-credit-credit-risk-model-stability/parquet_files/test/test_static_cb_0.parquet\n",
      "/kaggle/input/home-credit-credit-risk-model-stability/parquet_files/test/test_static_0_0.parquet\n",
      "/kaggle/input/home-credit-credit-risk-model-stability/parquet_files/test/test_credit_bureau_a_1_3.parquet\n",
      "/kaggle/input/home-credit-credit-risk-model-stability/parquet_files/test/test_credit_bureau_a_1_2.parquet\n",
      "/kaggle/input/home-credit-credit-risk-model-stability/parquet_files/test/test_tax_registry_b_1.parquet\n",
      "/kaggle/input/home-credit-credit-risk-model-stability/parquet_files/test/test_static_0_2.parquet\n",
      "/kaggle/input/home-credit-credit-risk-model-stability/parquet_files/test/test_credit_bureau_a_2_3.parquet\n",
      "/kaggle/input/home-credit-credit-risk-model-stability/parquet_files/test/test_credit_bureau_a_2_9.parquet\n",
      "/kaggle/input/home-credit-credit-risk-model-stability/parquet_files/test/test_debitcard_1.parquet\n",
      "/kaggle/input/home-credit-credit-risk-model-stability/parquet_files/test/test_credit_bureau_a_1_1.parquet\n",
      "/kaggle/input/home-credit-credit-risk-model-stability/parquet_files/test/test_credit_bureau_a_2_2.parquet\n",
      "/kaggle/input/home-credit-credit-risk-model-stability/parquet_files/test/test_credit_bureau_a_2_11.parquet\n",
      "/kaggle/input/home-credit-credit-risk-model-stability/parquet_files/test/test_applprev_1_2.parquet\n",
      "/kaggle/input/home-credit-credit-risk-model-stability/parquet_files/test/test_credit_bureau_a_2_1.parquet\n",
      "/kaggle/input/home-credit-credit-risk-model-stability/parquet_files/test/test_credit_bureau_a_1_4.parquet\n",
      "/kaggle/input/home-credit-credit-risk-model-stability/parquet_files/test/test_tax_registry_c_1.parquet\n",
      "/kaggle/input/home-credit-credit-risk-model-stability/parquet_files/test/test_applprev_1_0.parquet\n",
      "/kaggle/input/home-credit-credit-risk-model-stability/parquet_files/test/test_tax_registry_a_1.parquet\n",
      "/kaggle/input/home-credit-credit-risk-model-stability/parquet_files/test/test_credit_bureau_a_2_6.parquet\n",
      "/kaggle/input/home-credit-credit-risk-model-stability/parquet_files/test/test_credit_bureau_a_2_5.parquet\n",
      "/kaggle/input/home-credit-credit-risk-model-stability/parquet_files/test/test_credit_bureau_b_1.parquet\n",
      "/kaggle/input/home-credit-credit-risk-model-stability/parquet_files/test/test_other_1.parquet\n",
      "/kaggle/input/home-credit-credit-risk-model-stability/parquet_files/test/test_static_0_1.parquet\n",
      "/kaggle/input/home-credit-credit-risk-model-stability/parquet_files/test/test_credit_bureau_a_2_0.parquet\n",
      "/kaggle/input/home-credit-credit-risk-model-stability/parquet_files/test/test_applprev_1_1.parquet\n",
      "/kaggle/input/home-credit-credit-risk-model-stability/parquet_files/test/test_base.parquet\n",
      "/kaggle/input/home-credit-credit-risk-model-stability/parquet_files/test/test_person_1.parquet\n",
      "/kaggle/input/home-credit-credit-risk-model-stability/parquet_files/test/test_credit_bureau_a_2_7.parquet\n",
      "/kaggle/input/home-credit-credit-risk-model-stability/parquet_files/test/test_credit_bureau_a_2_10.parquet\n",
      "/kaggle/input/home-credit-credit-risk-model-stability/parquet_files/test/test_credit_bureau_b_2.parquet\n",
      "/kaggle/input/home-credit-credit-risk-model-stability/parquet_files/test/test_credit_bureau_a_2_8.parquet\n",
      "/kaggle/input/home-credit-credit-risk-model-stability/parquet_files/test/test_credit_bureau_a_1_0.parquet\n",
      "/kaggle/input/home-credit-credit-risk-model-stability/parquet_files/test/test_credit_bureau_a_2_4.parquet\n",
      "/kaggle/input/home-credit-credit-risk-model-stability/parquet_files/test/test_person_2.parquet\n",
      "/kaggle/input/home-credit-credit-risk-model-stability/parquet_files/train/train_tax_registry_c_1.parquet\n",
      "/kaggle/input/home-credit-credit-risk-model-stability/parquet_files/train/train_static_0_0.parquet\n",
      "/kaggle/input/home-credit-credit-risk-model-stability/parquet_files/train/train_credit_bureau_a_1_3.parquet\n",
      "/kaggle/input/home-credit-credit-risk-model-stability/parquet_files/train/train_credit_bureau_b_2.parquet\n",
      "/kaggle/input/home-credit-credit-risk-model-stability/parquet_files/train/train_applprev_1_1.parquet\n",
      "/kaggle/input/home-credit-credit-risk-model-stability/parquet_files/train/train_static_cb_0.parquet\n",
      "/kaggle/input/home-credit-credit-risk-model-stability/parquet_files/train/train_other_1.parquet\n",
      "/kaggle/input/home-credit-credit-risk-model-stability/parquet_files/train/train_credit_bureau_a_2_6.parquet\n",
      "/kaggle/input/home-credit-credit-risk-model-stability/parquet_files/train/train_tax_registry_a_1.parquet\n",
      "/kaggle/input/home-credit-credit-risk-model-stability/parquet_files/train/train_tax_registry_b_1.parquet\n",
      "/kaggle/input/home-credit-credit-risk-model-stability/parquet_files/train/train_credit_bureau_a_2_1.parquet\n",
      "/kaggle/input/home-credit-credit-risk-model-stability/parquet_files/train/train_person_1.parquet\n",
      "/kaggle/input/home-credit-credit-risk-model-stability/parquet_files/train/train_person_2.parquet\n",
      "/kaggle/input/home-credit-credit-risk-model-stability/parquet_files/train/train_credit_bureau_b_1.parquet\n",
      "/kaggle/input/home-credit-credit-risk-model-stability/parquet_files/train/train_credit_bureau_a_2_0.parquet\n",
      "/kaggle/input/home-credit-credit-risk-model-stability/parquet_files/train/train_credit_bureau_a_2_7.parquet\n",
      "/kaggle/input/home-credit-credit-risk-model-stability/parquet_files/train/train_deposit_1.parquet\n",
      "/kaggle/input/home-credit-credit-risk-model-stability/parquet_files/train/train_debitcard_1.parquet\n",
      "/kaggle/input/home-credit-credit-risk-model-stability/parquet_files/train/train_credit_bureau_a_2_5.parquet\n",
      "/kaggle/input/home-credit-credit-risk-model-stability/parquet_files/train/train_credit_bureau_a_2_2.parquet\n",
      "/kaggle/input/home-credit-credit-risk-model-stability/parquet_files/train/train_credit_bureau_a_2_4.parquet\n",
      "/kaggle/input/home-credit-credit-risk-model-stability/parquet_files/train/train_base.parquet\n",
      "/kaggle/input/home-credit-credit-risk-model-stability/parquet_files/train/train_credit_bureau_a_2_9.parquet\n",
      "/kaggle/input/home-credit-credit-risk-model-stability/parquet_files/train/train_credit_bureau_a_2_3.parquet\n",
      "/kaggle/input/home-credit-credit-risk-model-stability/parquet_files/train/train_applprev_2.parquet\n",
      "/kaggle/input/home-credit-credit-risk-model-stability/parquet_files/train/train_credit_bureau_a_2_10.parquet\n",
      "/kaggle/input/home-credit-credit-risk-model-stability/parquet_files/train/train_credit_bureau_a_2_8.parquet\n",
      "/kaggle/input/home-credit-credit-risk-model-stability/parquet_files/train/train_credit_bureau_a_1_2.parquet\n",
      "/kaggle/input/home-credit-credit-risk-model-stability/parquet_files/train/train_static_0_1.parquet\n",
      "/kaggle/input/home-credit-credit-risk-model-stability/parquet_files/train/train_credit_bureau_a_1_0.parquet\n",
      "/kaggle/input/home-credit-credit-risk-model-stability/parquet_files/train/train_credit_bureau_a_1_1.parquet\n",
      "/kaggle/input/home-credit-credit-risk-model-stability/parquet_files/train/train_applprev_1_0.parquet\n",
      "/kaggle/input/home-credit-credit-risk-model-stability/csv_files/test/test_credit_bureau_a_2_6.csv\n",
      "/kaggle/input/home-credit-credit-risk-model-stability/csv_files/test/test_credit_bureau_a_2_11.csv\n",
      "/kaggle/input/home-credit-credit-risk-model-stability/csv_files/test/test_credit_bureau_a_2_0.csv\n",
      "/kaggle/input/home-credit-credit-risk-model-stability/csv_files/test/test_credit_bureau_a_2_9.csv\n",
      "/kaggle/input/home-credit-credit-risk-model-stability/csv_files/test/test_base.csv\n",
      "/kaggle/input/home-credit-credit-risk-model-stability/csv_files/test/test_credit_bureau_a_1_1.csv\n",
      "/kaggle/input/home-credit-credit-risk-model-stability/csv_files/test/test_credit_bureau_b_2.csv\n",
      "/kaggle/input/home-credit-credit-risk-model-stability/csv_files/test/test_credit_bureau_a_2_10.csv\n",
      "/kaggle/input/home-credit-credit-risk-model-stability/csv_files/test/test_credit_bureau_a_2_4.csv\n",
      "/kaggle/input/home-credit-credit-risk-model-stability/csv_files/test/test_static_0_0.csv\n",
      "/kaggle/input/home-credit-credit-risk-model-stability/csv_files/test/test_static_cb_0.csv\n",
      "/kaggle/input/home-credit-credit-risk-model-stability/csv_files/test/test_credit_bureau_a_2_2.csv\n",
      "/kaggle/input/home-credit-credit-risk-model-stability/csv_files/test/test_credit_bureau_b_1.csv\n",
      "/kaggle/input/home-credit-credit-risk-model-stability/csv_files/test/test_tax_registry_b_1.csv\n",
      "/kaggle/input/home-credit-credit-risk-model-stability/csv_files/test/test_person_2.csv\n",
      "/kaggle/input/home-credit-credit-risk-model-stability/csv_files/test/test_person_1.csv\n",
      "/kaggle/input/home-credit-credit-risk-model-stability/csv_files/test/test_credit_bureau_a_2_8.csv\n",
      "/kaggle/input/home-credit-credit-risk-model-stability/csv_files/test/test_applprev_1_2.csv\n",
      "/kaggle/input/home-credit-credit-risk-model-stability/csv_files/test/test_applprev_1_1.csv\n",
      "/kaggle/input/home-credit-credit-risk-model-stability/csv_files/test/test_credit_bureau_a_1_0.csv\n",
      "/kaggle/input/home-credit-credit-risk-model-stability/csv_files/test/test_applprev_2.csv\n",
      "/kaggle/input/home-credit-credit-risk-model-stability/csv_files/test/test_credit_bureau_a_2_7.csv\n",
      "/kaggle/input/home-credit-credit-risk-model-stability/csv_files/test/test_other_1.csv\n",
      "/kaggle/input/home-credit-credit-risk-model-stability/csv_files/test/test_tax_registry_c_1.csv\n",
      "/kaggle/input/home-credit-credit-risk-model-stability/csv_files/test/test_credit_bureau_a_1_3.csv\n",
      "/kaggle/input/home-credit-credit-risk-model-stability/csv_files/test/test_static_0_2.csv\n",
      "/kaggle/input/home-credit-credit-risk-model-stability/csv_files/test/test_credit_bureau_a_2_5.csv\n",
      "/kaggle/input/home-credit-credit-risk-model-stability/csv_files/test/test_credit_bureau_a_1_2.csv\n",
      "/kaggle/input/home-credit-credit-risk-model-stability/csv_files/test/test_debitcard_1.csv\n",
      "/kaggle/input/home-credit-credit-risk-model-stability/csv_files/test/test_credit_bureau_a_1_4.csv\n",
      "/kaggle/input/home-credit-credit-risk-model-stability/csv_files/test/test_deposit_1.csv\n",
      "/kaggle/input/home-credit-credit-risk-model-stability/csv_files/test/test_static_0_1.csv\n",
      "/kaggle/input/home-credit-credit-risk-model-stability/csv_files/test/test_credit_bureau_a_2_1.csv\n",
      "/kaggle/input/home-credit-credit-risk-model-stability/csv_files/test/test_applprev_1_0.csv\n",
      "/kaggle/input/home-credit-credit-risk-model-stability/csv_files/test/test_tax_registry_a_1.csv\n",
      "/kaggle/input/home-credit-credit-risk-model-stability/csv_files/test/test_credit_bureau_a_2_3.csv\n",
      "/kaggle/input/home-credit-credit-risk-model-stability/csv_files/train/train_credit_bureau_a_1_3.csv\n",
      "/kaggle/input/home-credit-credit-risk-model-stability/csv_files/train/train_static_cb_0.csv\n",
      "/kaggle/input/home-credit-credit-risk-model-stability/csv_files/train/train_applprev_1_0.csv\n",
      "/kaggle/input/home-credit-credit-risk-model-stability/csv_files/train/train_person_2.csv\n",
      "/kaggle/input/home-credit-credit-risk-model-stability/csv_files/train/train_base.csv\n",
      "/kaggle/input/home-credit-credit-risk-model-stability/csv_files/train/train_tax_registry_a_1.csv\n",
      "/kaggle/input/home-credit-credit-risk-model-stability/csv_files/train/train_static_0_0.csv\n",
      "/kaggle/input/home-credit-credit-risk-model-stability/csv_files/train/train_credit_bureau_a_1_0.csv\n",
      "/kaggle/input/home-credit-credit-risk-model-stability/csv_files/train/train_applprev_2.csv\n",
      "/kaggle/input/home-credit-credit-risk-model-stability/csv_files/train/train_credit_bureau_a_2_6.csv\n",
      "/kaggle/input/home-credit-credit-risk-model-stability/csv_files/train/train_credit_bureau_a_1_2.csv\n",
      "/kaggle/input/home-credit-credit-risk-model-stability/csv_files/train/train_person_1.csv\n",
      "/kaggle/input/home-credit-credit-risk-model-stability/csv_files/train/train_credit_bureau_a_1_1.csv\n",
      "/kaggle/input/home-credit-credit-risk-model-stability/csv_files/train/train_tax_registry_c_1.csv\n",
      "/kaggle/input/home-credit-credit-risk-model-stability/csv_files/train/train_credit_bureau_a_2_4.csv\n",
      "/kaggle/input/home-credit-credit-risk-model-stability/csv_files/train/train_credit_bureau_a_2_9.csv\n",
      "/kaggle/input/home-credit-credit-risk-model-stability/csv_files/train/train_credit_bureau_a_2_3.csv\n",
      "/kaggle/input/home-credit-credit-risk-model-stability/csv_files/train/train_credit_bureau_a_2_7.csv\n",
      "/kaggle/input/home-credit-credit-risk-model-stability/csv_files/train/train_credit_bureau_b_2.csv\n",
      "/kaggle/input/home-credit-credit-risk-model-stability/csv_files/train/train_credit_bureau_a_2_2.csv\n",
      "/kaggle/input/home-credit-credit-risk-model-stability/csv_files/train/train_static_0_1.csv\n",
      "/kaggle/input/home-credit-credit-risk-model-stability/csv_files/train/train_deposit_1.csv\n",
      "/kaggle/input/home-credit-credit-risk-model-stability/csv_files/train/train_credit_bureau_a_2_10.csv\n",
      "/kaggle/input/home-credit-credit-risk-model-stability/csv_files/train/train_tax_registry_b_1.csv\n",
      "/kaggle/input/home-credit-credit-risk-model-stability/csv_files/train/train_applprev_1_1.csv\n",
      "/kaggle/input/home-credit-credit-risk-model-stability/csv_files/train/train_credit_bureau_a_2_1.csv\n",
      "/kaggle/input/home-credit-credit-risk-model-stability/csv_files/train/train_credit_bureau_a_2_8.csv\n",
      "/kaggle/input/home-credit-credit-risk-model-stability/csv_files/train/train_credit_bureau_a_2_5.csv\n",
      "/kaggle/input/home-credit-credit-risk-model-stability/csv_files/train/train_credit_bureau_b_1.csv\n",
      "/kaggle/input/home-credit-credit-risk-model-stability/csv_files/train/train_credit_bureau_a_2_0.csv\n",
      "/kaggle/input/home-credit-credit-risk-model-stability/csv_files/train/train_other_1.csv\n",
      "/kaggle/input/home-credit-credit-risk-model-stability/csv_files/train/train_debitcard_1.csv\n"
     ]
    }
   ],
   "source": [
    "# This Python 3 environment comes with many helpful analytics libraries installed\n",
    "# It is defined by the kaggle/python Docker image: https://github.com/kaggle/docker-python\n",
    "# For example, here's several helpful packages to load\n",
    "\n",
    "import polars as pl\n",
    "import numpy as np\n",
    "import pandas as pd\n",
    "from sklearn.model_selection import train_test_split\n",
    "from sklearn.metrics import roc_auc_score \n",
    "import warnings\n",
    "\n",
    "warnings.filterwarnings('ignore')\n",
    "\n",
    "dataPath = \"/kaggle/input/home-credit-credit-risk-model-stability/\"\n",
    "\n",
    "# Input data files are available in the read-only \"../input/\" directory\n",
    "# For example, running this (by clicking run or pressing Shift+Enter) will list all files under the input directory\n",
    "\n",
    "import os\n",
    "for dirname, _, filenames in os.walk('/kaggle/input'):\n",
    "    for filename in filenames:\n",
    "        print(os.path.join(dirname, filename))\n",
    "        \n",
    "# You can write up to 20GB to the current directory (/kaggle/working/) that gets preserved as output when you create a version using \"Save & Run All\" \n",
    "# You can also write temporary files to /kaggle/temp/, but they won't be saved outside of the current session"
   ]
  },
  {
   "cell_type": "markdown",
   "id": "2e0872de",
   "metadata": {
    "papermill": {
     "duration": 0.006282,
     "end_time": "2024-04-24T00:40:25.295352",
     "exception": false,
     "start_time": "2024-04-24T00:40:25.289070",
     "status": "completed"
    },
    "tags": []
   },
   "source": [
    "### **Goal of the Competition**\n",
    "\n",
    "The goal of this competition is to predict which clients are more likely to default on their loans. The evaluation will favor solutions that are stable over time.\n",
    "\n",
    "Your participation may offer consumer finance providers a more reliable and longer-lasting way to assess a potential client’s default risk.\n",
    "\n",
    "### **Loading the Data**\n",
    "\n",
    "We will now load the data and get it in the right format. We will conduct exploratory data analysis and create a baseline submission that we can iterate and improve on."
   ]
  },
  {
   "cell_type": "code",
   "execution_count": 2,
   "id": "36db4da4",
   "metadata": {
    "execution": {
     "iopub.execute_input": "2024-04-24T00:40:25.310462Z",
     "iopub.status.busy": "2024-04-24T00:40:25.309833Z",
     "iopub.status.idle": "2024-04-24T00:40:25.317107Z",
     "shell.execute_reply": "2024-04-24T00:40:25.316417Z"
    },
    "papermill": {
     "duration": 0.01761,
     "end_time": "2024-04-24T00:40:25.319337",
     "exception": false,
     "start_time": "2024-04-24T00:40:25.301727",
     "status": "completed"
    },
    "tags": []
   },
   "outputs": [],
   "source": [
    "def set_table_dtypes(df: pl.DataFrame) -> pl.DataFrame:\n",
    "    # implement here all desired dtypes for tables\n",
    "    # the following is just an example\n",
    "    for col in df.columns:\n",
    "        # last letter of column name will help you determine the type\n",
    "        if col[-1] in (\"P\", \"A\"):\n",
    "            df = df.with_columns(pl.col(col).cast(pl.Float64).alias(col))\n",
    "\n",
    "    return df\n",
    "\n",
    "def convert_strings(df: pd.DataFrame) -> pd.DataFrame:\n",
    "    for col in df.columns:  \n",
    "        if df[col].dtype.name in ['object', 'string']:\n",
    "            df[col] = df[col].astype(\"string\").astype('category')\n",
    "            current_categories = df[col].cat.categories\n",
    "            new_categories = current_categories.to_list() + [\"Unknown\"]\n",
    "            new_dtype = pd.CategoricalDtype(categories=new_categories, ordered=True)\n",
    "            df[col] = df[col].astype(new_dtype)\n",
    "    return df"
   ]
  },
  {
   "cell_type": "code",
   "execution_count": 3,
   "id": "2c04c726",
   "metadata": {
    "execution": {
     "iopub.execute_input": "2024-04-24T00:40:25.334380Z",
     "iopub.status.busy": "2024-04-24T00:40:25.333978Z",
     "iopub.status.idle": "2024-04-24T00:40:40.886331Z",
     "shell.execute_reply": "2024-04-24T00:40:40.884855Z"
    },
    "papermill": {
     "duration": 15.562552,
     "end_time": "2024-04-24T00:40:40.888796",
     "exception": false,
     "start_time": "2024-04-24T00:40:25.326244",
     "status": "completed"
    },
    "tags": []
   },
   "outputs": [],
   "source": [
    "train_basetable = pl.read_csv(dataPath + \"csv_files/train/train_base.csv\")\n",
    "train_static = pl.concat(\n",
    "    [\n",
    "        pl.read_csv(dataPath + \"csv_files/train/train_static_0_0.csv\").pipe(set_table_dtypes),\n",
    "        pl.read_csv(dataPath + \"csv_files/train/train_static_0_1.csv\").pipe(set_table_dtypes),\n",
    "    ],\n",
    "    how=\"vertical_relaxed\",\n",
    ")\n",
    "train_static_cb = pl.read_csv(dataPath + \"csv_files/train/train_static_cb_0.csv\").pipe(set_table_dtypes)\n",
    "train_person_1 = pl.read_csv(dataPath + \"csv_files/train/train_person_1.csv\").pipe(set_table_dtypes) \n",
    "train_credit_bureau_b_2 = pl.read_csv(dataPath + \"csv_files/train/train_credit_bureau_b_2.csv\").pipe(set_table_dtypes) "
   ]
  },
  {
   "cell_type": "code",
   "execution_count": 4,
   "id": "b7eef88d",
   "metadata": {
    "execution": {
     "iopub.execute_input": "2024-04-24T00:40:40.904260Z",
     "iopub.status.busy": "2024-04-24T00:40:40.903564Z",
     "iopub.status.idle": "2024-04-24T00:40:40.958956Z",
     "shell.execute_reply": "2024-04-24T00:40:40.958162Z"
    },
    "papermill": {
     "duration": 0.065544,
     "end_time": "2024-04-24T00:40:40.961386",
     "exception": false,
     "start_time": "2024-04-24T00:40:40.895842",
     "status": "completed"
    },
    "tags": []
   },
   "outputs": [],
   "source": [
    "test_basetable = pl.read_csv(dataPath + \"csv_files/test/test_base.csv\")\n",
    "test_static = pl.concat(\n",
    "    [\n",
    "        pl.read_csv(dataPath + \"csv_files/test/test_static_0_0.csv\").pipe(set_table_dtypes),\n",
    "        pl.read_csv(dataPath + \"csv_files/test/test_static_0_1.csv\").pipe(set_table_dtypes),\n",
    "        pl.read_csv(dataPath + \"csv_files/test/test_static_0_2.csv\").pipe(set_table_dtypes),\n",
    "    ],\n",
    "    how=\"vertical_relaxed\",\n",
    ")\n",
    "test_static_cb = pl.read_csv(dataPath + \"csv_files/test/test_static_cb_0.csv\").pipe(set_table_dtypes)\n",
    "test_person_1 = pl.read_csv(dataPath + \"csv_files/test/test_person_1.csv\").pipe(set_table_dtypes) \n",
    "test_credit_bureau_b_2 = pl.read_csv(dataPath + \"csv_files/test/test_credit_bureau_b_2.csv\").pipe(set_table_dtypes) "
   ]
  },
  {
   "cell_type": "markdown",
   "id": "19a445f1",
   "metadata": {
    "papermill": {
     "duration": 0.007333,
     "end_time": "2024-04-24T00:40:40.975579",
     "exception": false,
     "start_time": "2024-04-24T00:40:40.968246",
     "status": "completed"
    },
    "tags": []
   },
   "source": [
    "### **Feature Engineering**\n",
    "\n",
    "We will join the tables on case_id."
   ]
  },
  {
   "cell_type": "code",
   "execution_count": 5,
   "id": "c3029311",
   "metadata": {
    "execution": {
     "iopub.execute_input": "2024-04-24T00:40:40.990602Z",
     "iopub.status.busy": "2024-04-24T00:40:40.989873Z",
     "iopub.status.idle": "2024-04-24T00:40:43.070231Z",
     "shell.execute_reply": "2024-04-24T00:40:43.069494Z"
    },
    "papermill": {
     "duration": 2.090996,
     "end_time": "2024-04-24T00:40:43.072834",
     "exception": false,
     "start_time": "2024-04-24T00:40:40.981838",
     "status": "completed"
    },
    "tags": []
   },
   "outputs": [
    {
     "name": "stdout",
     "output_type": "stream",
     "text": [
      "['amtinstpaidbefduel24m_4187115A', 'annuity_780A', 'annuitynextmonth_57A', 'avginstallast24m_3658937A', 'avglnamtstart24m_4525187A', 'avgoutstandbalancel6m_4187114A', 'avgpmtlast12m_4525200A', 'credamount_770A', 'currdebt_22A', 'currdebtcredtyperange_828A', 'disbursedcredamount_1113A', 'downpmt_116A', 'inittransactionamount_650A', 'lastapprcommoditycat_1041M', 'lastapprcommoditytypec_5251766M', 'lastapprcredamount_781A', 'lastcancelreason_561M', 'lastotherinc_902A', 'lastotherlnsexpense_631A', 'lastrejectcommoditycat_161M', 'lastrejectcommodtypec_5251769M', 'lastrejectcredamount_222A', 'lastrejectreason_759M', 'lastrejectreasonclient_4145040M', 'maininc_215A', 'maxannuity_159A', 'maxannuity_4075009A', 'maxdebt4_972A', 'maxinstallast24m_3658928A', 'maxlnamtstart6m_4525199A', 'maxoutstandbalancel12m_4187113A', 'maxpmtlast3m_4525190A', 'previouscontdistrict_112M', 'price_1097A', 'sumoutstandtotal_3546847A', 'sumoutstandtotalest_4493215A', 'totaldebt_9A', 'totalsettled_863A', 'totinstallast1m_4525188A']\n",
      "['description_5085714M', 'education_1103M', 'education_88M', 'maritalst_385M', 'maritalst_893M', 'pmtaverage_3A', 'pmtaverage_4527227A', 'pmtaverage_4955615A', 'pmtssum_45A']\n"
     ]
    }
   ],
   "source": [
    "# We need to use aggregation functions in tables with depth > 1, so tables that contain num_group1 column or \n",
    "# also num_group2 column.\n",
    "train_person_1_feats_1 = train_person_1.group_by(\"case_id\").agg(\n",
    "    pl.col(\"mainoccupationinc_384A\").max().alias(\"mainoccupationinc_384A_max\"),\n",
    "    (pl.col(\"incometype_1044T\") == \"SELFEMPLOYED\").max().alias(\"mainoccupationinc_384A_any_selfemployed\")\n",
    ")\n",
    "\n",
    "# Here num_group1=0 has special meaning, it is the person who applied for the loan.\n",
    "train_person_1_feats_2 = train_person_1.select([\"case_id\", \"num_group1\", \"housetype_905L\"]).filter(\n",
    "    pl.col(\"num_group1\") == 0\n",
    ").drop(\"num_group1\").rename({\"housetype_905L\": \"person_housetype\"})\n",
    "\n",
    "# Here we have num_goup1 and num_group2, so we need to aggregate again.\n",
    "train_credit_bureau_b_2_feats = train_credit_bureau_b_2.group_by(\"case_id\").agg(\n",
    "    pl.col(\"pmts_pmtsoverdue_635A\").max().alias(\"pmts_pmtsoverdue_635A_max\"),\n",
    "    (pl.col(\"pmts_dpdvalue_108P\") > 31).max().alias(\"pmts_dpdvalue_108P_over31\")\n",
    ")\n",
    "\n",
    "# We will process in this examples only A-type and M-type columns, so we need to select them.\n",
    "selected_static_cols = []\n",
    "for col in train_static.columns:\n",
    "    if col[-1] in (\"A\", \"M\"):\n",
    "        selected_static_cols.append(col)\n",
    "print(selected_static_cols)\n",
    "\n",
    "selected_static_cb_cols = []\n",
    "for col in train_static_cb.columns:\n",
    "    if col[-1] in (\"A\", \"M\"):\n",
    "        selected_static_cb_cols.append(col)\n",
    "print(selected_static_cb_cols)\n",
    "\n",
    "# Join all tables together.\n",
    "data = train_basetable.join(\n",
    "    train_static.select([\"case_id\"]+selected_static_cols), how=\"left\", on=\"case_id\"\n",
    ").join(\n",
    "    train_static_cb.select([\"case_id\"]+selected_static_cb_cols), how=\"left\", on=\"case_id\"\n",
    ").join(\n",
    "    train_person_1_feats_1, how=\"left\", on=\"case_id\"\n",
    ").join(\n",
    "    train_person_1_feats_2, how=\"left\", on=\"case_id\"\n",
    ").join(\n",
    "    train_credit_bureau_b_2_feats, how=\"left\", on=\"case_id\"\n",
    ")"
   ]
  },
  {
   "cell_type": "code",
   "execution_count": 6,
   "id": "cbf2c95e",
   "metadata": {
    "execution": {
     "iopub.execute_input": "2024-04-24T00:40:43.087060Z",
     "iopub.status.busy": "2024-04-24T00:40:43.086721Z",
     "iopub.status.idle": "2024-04-24T00:40:43.098087Z",
     "shell.execute_reply": "2024-04-24T00:40:43.096957Z"
    },
    "papermill": {
     "duration": 0.02084,
     "end_time": "2024-04-24T00:40:43.100332",
     "exception": false,
     "start_time": "2024-04-24T00:40:43.079492",
     "status": "completed"
    },
    "tags": []
   },
   "outputs": [],
   "source": [
    "test_person_1_feats_1 = test_person_1.group_by(\"case_id\").agg(\n",
    "    pl.col(\"mainoccupationinc_384A\").max().alias(\"mainoccupationinc_384A_max\"),\n",
    "    (pl.col(\"incometype_1044T\") == \"SELFEMPLOYED\").max().alias(\"mainoccupationinc_384A_any_selfemployed\")\n",
    ")\n",
    "\n",
    "test_person_1_feats_2 = test_person_1.select([\"case_id\", \"num_group1\", \"housetype_905L\"]).filter(\n",
    "    pl.col(\"num_group1\") == 0\n",
    ").drop(\"num_group1\").rename({\"housetype_905L\": \"person_housetype\"})\n",
    "\n",
    "test_credit_bureau_b_2_feats = test_credit_bureau_b_2.group_by(\"case_id\").agg(\n",
    "    pl.col(\"pmts_pmtsoverdue_635A\").max().alias(\"pmts_pmtsoverdue_635A_max\"),\n",
    "    (pl.col(\"pmts_dpdvalue_108P\") > 31).max().alias(\"pmts_dpdvalue_108P_over31\")\n",
    ")\n",
    "\n",
    "data_submission = test_basetable.join(\n",
    "    test_static.select([\"case_id\"]+selected_static_cols), how=\"left\", on=\"case_id\"\n",
    ").join(\n",
    "    test_static_cb.select([\"case_id\"]+selected_static_cb_cols), how=\"left\", on=\"case_id\"\n",
    ").join(\n",
    "    test_person_1_feats_1, how=\"left\", on=\"case_id\"\n",
    ").join(\n",
    "    test_person_1_feats_2, how=\"left\", on=\"case_id\"\n",
    ").join(\n",
    "    test_credit_bureau_b_2_feats, how=\"left\", on=\"case_id\"\n",
    ")"
   ]
  },
  {
   "cell_type": "code",
   "execution_count": 7,
   "id": "92441645",
   "metadata": {
    "execution": {
     "iopub.execute_input": "2024-04-24T00:40:43.115280Z",
     "iopub.status.busy": "2024-04-24T00:40:43.114875Z",
     "iopub.status.idle": "2024-04-24T00:40:47.824650Z",
     "shell.execute_reply": "2024-04-24T00:40:47.823071Z"
    },
    "papermill": {
     "duration": 4.720074,
     "end_time": "2024-04-24T00:40:47.827418",
     "exception": false,
     "start_time": "2024-04-24T00:40:43.107344",
     "status": "completed"
    },
    "tags": []
   },
   "outputs": [
    {
     "name": "stdout",
     "output_type": "stream",
     "text": [
      "['amtinstpaidbefduel24m_4187115A', 'annuity_780A', 'annuitynextmonth_57A', 'avginstallast24m_3658937A', 'avglnamtstart24m_4525187A', 'avgoutstandbalancel6m_4187114A', 'avgpmtlast12m_4525200A', 'credamount_770A', 'currdebt_22A', 'currdebtcredtyperange_828A', 'disbursedcredamount_1113A', 'downpmt_116A', 'inittransactionamount_650A', 'lastapprcommoditycat_1041M', 'lastapprcommoditytypec_5251766M', 'lastapprcredamount_781A', 'lastcancelreason_561M', 'lastotherinc_902A', 'lastotherlnsexpense_631A', 'lastrejectcommoditycat_161M', 'lastrejectcommodtypec_5251769M', 'lastrejectcredamount_222A', 'lastrejectreason_759M', 'lastrejectreasonclient_4145040M', 'maininc_215A', 'maxannuity_159A', 'maxannuity_4075009A', 'maxdebt4_972A', 'maxinstallast24m_3658928A', 'maxlnamtstart6m_4525199A', 'maxoutstandbalancel12m_4187113A', 'maxpmtlast3m_4525190A', 'previouscontdistrict_112M', 'price_1097A', 'sumoutstandtotal_3546847A', 'sumoutstandtotalest_4493215A', 'totaldebt_9A', 'totalsettled_863A', 'totinstallast1m_4525188A', 'description_5085714M', 'education_1103M', 'education_88M', 'maritalst_385M', 'maritalst_893M', 'pmtaverage_3A', 'pmtaverage_4527227A', 'pmtaverage_4955615A', 'pmtssum_45A']\n"
     ]
    }
   ],
   "source": [
    "case_ids = data[\"case_id\"].unique().shuffle(seed=1)\n",
    "case_ids_train, case_ids_test = train_test_split(case_ids, train_size=0.6, random_state=1)\n",
    "case_ids_valid, case_ids_test = train_test_split(case_ids_test, train_size=0.5, random_state=1)\n",
    "\n",
    "cols_pred = []\n",
    "for col in data.columns:\n",
    "    if col[-1].isupper() and col[:-1].islower():\n",
    "        cols_pred.append(col)\n",
    "\n",
    "print(cols_pred)\n",
    "\n",
    "def from_polars_to_pandas(case_ids: pl.DataFrame) -> pl.DataFrame:\n",
    "    return (\n",
    "        data.filter(pl.col(\"case_id\").is_in(case_ids))[[\"case_id\", \"WEEK_NUM\", \"target\"]].to_pandas(),\n",
    "        data.filter(pl.col(\"case_id\").is_in(case_ids))[cols_pred].to_pandas(),\n",
    "        data.filter(pl.col(\"case_id\").is_in(case_ids))[\"target\"].to_pandas()\n",
    "    )\n",
    "\n",
    "base_train, X_train, y_train = from_polars_to_pandas(case_ids_train)\n",
    "base_valid, X_valid, y_valid = from_polars_to_pandas(case_ids_valid)\n",
    "base_test, X_test, y_test = from_polars_to_pandas(case_ids_test)\n",
    "\n",
    "for df in [X_train, X_valid, X_test]:\n",
    "    df = convert_strings(df)"
   ]
  },
  {
   "cell_type": "code",
   "execution_count": 8,
   "id": "f54a388a",
   "metadata": {
    "execution": {
     "iopub.execute_input": "2024-04-24T00:40:47.842129Z",
     "iopub.status.busy": "2024-04-24T00:40:47.841744Z",
     "iopub.status.idle": "2024-04-24T00:40:47.867138Z",
     "shell.execute_reply": "2024-04-24T00:40:47.866044Z"
    },
    "papermill": {
     "duration": 0.035145,
     "end_time": "2024-04-24T00:40:47.869441",
     "exception": false,
     "start_time": "2024-04-24T00:40:47.834296",
     "status": "completed"
    },
    "tags": []
   },
   "outputs": [],
   "source": [
    "X_submission = data_submission[cols_pred].to_pandas()\n",
    "X_submission = convert_strings(X_submission)"
   ]
  },
  {
   "cell_type": "code",
   "execution_count": 9,
   "id": "629ee16a",
   "metadata": {
    "execution": {
     "iopub.execute_input": "2024-04-24T00:40:47.884558Z",
     "iopub.status.busy": "2024-04-24T00:40:47.884143Z",
     "iopub.status.idle": "2024-04-24T00:40:47.891145Z",
     "shell.execute_reply": "2024-04-24T00:40:47.889312Z"
    },
    "papermill": {
     "duration": 0.016609,
     "end_time": "2024-04-24T00:40:47.892892",
     "exception": false,
     "start_time": "2024-04-24T00:40:47.876283",
     "status": "completed"
    },
    "tags": []
   },
   "outputs": [
    {
     "name": "stdout",
     "output_type": "stream",
     "text": [
      "Train: (915995, 48)\n",
      "Valid: (305332, 48)\n",
      "Test: (305332, 48)\n"
     ]
    }
   ],
   "source": [
    "print(f\"Train: {X_train.shape}\")\n",
    "print(f\"Valid: {X_valid.shape}\")\n",
    "print(f\"Test: {X_test.shape}\")"
   ]
  },
  {
   "cell_type": "code",
   "execution_count": 10,
   "id": "807ce229",
   "metadata": {
    "execution": {
     "iopub.execute_input": "2024-04-24T00:40:47.907736Z",
     "iopub.status.busy": "2024-04-24T00:40:47.907295Z",
     "iopub.status.idle": "2024-04-24T00:40:48.228646Z",
     "shell.execute_reply": "2024-04-24T00:40:48.227717Z"
    },
    "papermill": {
     "duration": 0.33153,
     "end_time": "2024-04-24T00:40:48.231196",
     "exception": false,
     "start_time": "2024-04-24T00:40:47.899666",
     "status": "completed"
    },
    "tags": []
   },
   "outputs": [],
   "source": [
    "def fill_na(df, fill_value_numeric=0, fill_value_categorical='Missing', fill_value_default='Unknown'):\n",
    "    \"\"\"\n",
    "    Fills missing values in a DataFrame.\n",
    "\n",
    "    Parameters:\n",
    "    df (pd.DataFrame): The DataFrame to fill missing values in.\n",
    "    fill_value_numeric (int or float): The value to fill missing values with in numeric columns.\n",
    "    fill_value_categorical (str): The value to fill missing values with in categorical columns.\n",
    "    fill_value_default (str): The value to fill missing values with in other types of columns.\n",
    "\n",
    "    Returns:\n",
    "    pd.DataFrame: DataFrame with missing values filled.\n",
    "    \"\"\"\n",
    "    for col in df.columns:\n",
    "        if df[col].dtype.name == 'category':\n",
    "            # Add a new category for missing values and fill with it\n",
    "            df[col] = df[col].cat.add_categories([fill_value_categorical]).fillna(fill_value_categorical)\n",
    "        elif pd.api.types.is_numeric_dtype(df[col]):\n",
    "            # Fill numeric columns with the specified numeric value\n",
    "            df[col] = df[col].fillna(fill_value_numeric)\n",
    "        else:\n",
    "            # Fill other types of columns with the specified default value\n",
    "            df[col] = df[col].fillna(fill_value_default)\n",
    "    return df\n",
    "\n",
    "\n",
    "X_train= fill_na(X_train)\n",
    "X_valid = fill_na(X_valid)\n",
    "X_test = fill_na(X_test)\n",
    "X_submission = fill_na(X_submission)"
   ]
  },
  {
   "cell_type": "code",
   "execution_count": 11,
   "id": "011ae3ce",
   "metadata": {
    "execution": {
     "iopub.execute_input": "2024-04-24T00:40:48.246000Z",
     "iopub.status.busy": "2024-04-24T00:40:48.245611Z",
     "iopub.status.idle": "2024-04-24T00:40:48.252110Z",
     "shell.execute_reply": "2024-04-24T00:40:48.251172Z"
    },
    "papermill": {
     "duration": 0.016559,
     "end_time": "2024-04-24T00:40:48.254658",
     "exception": false,
     "start_time": "2024-04-24T00:40:48.238099",
     "status": "completed"
    },
    "tags": []
   },
   "outputs": [],
   "source": [
    "cat_cols = [col for col in X_train.columns if X_train[col].dtype == 'category']\n",
    "num_cols = [col for col in X_train.columns if col not in cat_cols]"
   ]
  },
  {
   "cell_type": "code",
   "execution_count": 12,
   "id": "a4bbcf2a",
   "metadata": {
    "execution": {
     "iopub.execute_input": "2024-04-24T00:40:48.269926Z",
     "iopub.status.busy": "2024-04-24T00:40:48.269534Z",
     "iopub.status.idle": "2024-04-24T00:40:55.669133Z",
     "shell.execute_reply": "2024-04-24T00:40:55.667438Z"
    },
    "papermill": {
     "duration": 7.409904,
     "end_time": "2024-04-24T00:40:55.671916",
     "exception": false,
     "start_time": "2024-04-24T00:40:48.262012",
     "status": "completed"
    },
    "tags": []
   },
   "outputs": [],
   "source": [
    "from sklearn.preprocessing import LabelEncoder\n",
    "\n",
    "label_encoders = {}\n",
    "for col in cat_cols:\n",
    "    le = LabelEncoder()\n",
    "    all_values = pd.concat([X_train[col], X_valid[col],X_test[col],X_submission[col]], axis=0).astype(str)\n",
    "    le.fit(all_values)\n",
    "    X_train[col] = le.transform(X_train[col].astype(str))\n",
    "    X_valid[col] = le.transform(X_valid[col].astype(str))\n",
    "    X_test[col] = le.transform(X_test[col].astype(str))\n",
    "    X_submission[col] = le.transform(X_submission[col].astype(str))\n",
    "    label_encoders[col] = le\n",
    "\n",
    "X_test_combined = np.hstack([X_test[cat_cols].values, X_test[num_cols].values])\n",
    "X_train_combined = np.hstack([X_train[cat_cols].values, X_train[num_cols].values])\n",
    "X_valid_combined = np.hstack([X_valid[cat_cols].values, X_valid[num_cols].values])\n",
    "X_submission_combined = np.hstack([X_submission[cat_cols].values, X_submission[num_cols].values])\n",
    "\n",
    "X_test = X_test_combined.astype('float32')\n",
    "X_train = X_train_combined.astype('float32')\n",
    "X_valid = X_valid_combined.astype('float32')\n",
    "X_submission = X_submission_combined.astype('float32')"
   ]
  },
  {
   "cell_type": "code",
   "execution_count": 13,
   "id": "d5f6b27c",
   "metadata": {
    "execution": {
     "iopub.execute_input": "2024-04-24T00:40:55.687626Z",
     "iopub.status.busy": "2024-04-24T00:40:55.687148Z",
     "iopub.status.idle": "2024-04-24T00:40:55.694267Z",
     "shell.execute_reply": "2024-04-24T00:40:55.692725Z"
    },
    "papermill": {
     "duration": 0.017287,
     "end_time": "2024-04-24T00:40:55.696205",
     "exception": false,
     "start_time": "2024-04-24T00:40:55.678918",
     "status": "completed"
    },
    "tags": []
   },
   "outputs": [
    {
     "name": "stdout",
     "output_type": "stream",
     "text": [
      "<class 'numpy.ndarray'>\n",
      "<class 'pandas.core.series.Series'>\n",
      "<class 'numpy.ndarray'>\n",
      "<class 'pandas.core.series.Series'>\n"
     ]
    }
   ],
   "source": [
    "print(type(X_train))\n",
    "print(type(y_train))\n",
    "print(type(X_valid))\n",
    "print(type(y_valid))"
   ]
  },
  {
   "cell_type": "markdown",
   "id": "5040b23a",
   "metadata": {
    "papermill": {
     "duration": 0.006091,
     "end_time": "2024-04-24T00:40:55.709100",
     "exception": false,
     "start_time": "2024-04-24T00:40:55.703009",
     "status": "completed"
    },
    "tags": []
   },
   "source": [
    "### Define Baseline Model"
   ]
  },
  {
   "cell_type": "code",
   "execution_count": 14,
   "id": "7ed1c0f0",
   "metadata": {
    "execution": {
     "iopub.execute_input": "2024-04-24T00:40:55.725173Z",
     "iopub.status.busy": "2024-04-24T00:40:55.724735Z",
     "iopub.status.idle": "2024-04-24T00:41:12.597507Z",
     "shell.execute_reply": "2024-04-24T00:41:12.595781Z"
    },
    "papermill": {
     "duration": 16.88468,
     "end_time": "2024-04-24T00:41:12.599918",
     "exception": false,
     "start_time": "2024-04-24T00:40:55.715238",
     "status": "completed"
    },
    "tags": []
   },
   "outputs": [
    {
     "name": "stderr",
     "output_type": "stream",
     "text": [
      "2024-04-24 00:41:01.312104: E external/local_xla/xla/stream_executor/cuda/cuda_dnn.cc:9261] Unable to register cuDNN factory: Attempting to register factory for plugin cuDNN when one has already been registered\n",
      "2024-04-24 00:41:01.312261: E external/local_xla/xla/stream_executor/cuda/cuda_fft.cc:607] Unable to register cuFFT factory: Attempting to register factory for plugin cuFFT when one has already been registered\n",
      "2024-04-24 00:41:01.467375: E external/local_xla/xla/stream_executor/cuda/cuda_blas.cc:1515] Unable to register cuBLAS factory: Attempting to register factory for plugin cuBLAS when one has already been registered\n"
     ]
    },
    {
     "name": "stdout",
     "output_type": "stream",
     "text": [
      "NeuralNetwork(\n",
      "  (layer_stack): Sequential(\n",
      "    (0): Linear(in_features=48, out_features=128, bias=True)\n",
      "    (1): ReLU()\n",
      "    (2): BatchNorm1d(128, eps=1e-05, momentum=0.1, affine=True, track_running_stats=True)\n",
      "    (3): Dropout(p=0.3, inplace=False)\n",
      "    (4): Linear(in_features=128, out_features=64, bias=True)\n",
      "    (5): ReLU()\n",
      "    (6): BatchNorm1d(64, eps=1e-05, momentum=0.1, affine=True, track_running_stats=True)\n",
      "    (7): Dropout(p=0.3, inplace=False)\n",
      "    (8): Linear(in_features=64, out_features=32, bias=True)\n",
      "    (9): ReLU()\n",
      "    (10): BatchNorm1d(32, eps=1e-05, momentum=0.1, affine=True, track_running_stats=True)\n",
      "    (11): Dropout(p=0.3, inplace=False)\n",
      "    (12): Linear(in_features=32, out_features=1, bias=True)\n",
      "    (13): Sigmoid()\n",
      "  )\n",
      ")\n"
     ]
    }
   ],
   "source": [
    "import torch\n",
    "import torch.nn as nn\n",
    "import torch.optim as optim\n",
    "from torch.utils.tensorboard import SummaryWriter\n",
    "\n",
    "class NeuralNetwork(nn.Module):\n",
    "    def __init__(self, num_features):\n",
    "        super(NeuralNetwork, self).__init__()\n",
    "        self.layer_stack = nn.Sequential(\n",
    "            nn.Linear(num_features, 128),\n",
    "            nn.ReLU(),\n",
    "            nn.BatchNorm1d(128),\n",
    "            nn.Dropout(0.3),\n",
    "\n",
    "            nn.Linear(128, 64),\n",
    "            nn.ReLU(),\n",
    "            nn.BatchNorm1d(64),\n",
    "            nn.Dropout(0.3),\n",
    "\n",
    "            nn.Linear(64, 32),\n",
    "            nn.ReLU(),\n",
    "            nn.BatchNorm1d(32),\n",
    "            nn.Dropout(0.3),\n",
    "\n",
    "            nn.Linear(32, 1),\n",
    "            nn.Sigmoid()\n",
    "        )\n",
    "\n",
    "    def forward(self, x):\n",
    "        return self.layer_stack(x)\n",
    "\n",
    "num_features = X_train.shape[1]  # Number of features\n",
    "\n",
    "# Create the model\n",
    "model = NeuralNetwork(num_features)\n",
    "\n",
    "# Define the optimizer\n",
    "optimizer = optim.Adam(model.parameters(), lr=0.001)\n",
    "\n",
    "# Define the loss function\n",
    "criterion = nn.BCELoss()  # Binary Cross-Entropy Loss\n",
    "\n",
    "# Set up TensorBoard\n",
    "tensorboard_writer = SummaryWriter(log_dir='logs')\n",
    "\n",
    "# Printing the model's architecture\n",
    "print(model)"
   ]
  },
  {
   "cell_type": "markdown",
   "id": "3926a15d",
   "metadata": {},
   "source": [
    "### Training"
   ]
  },
  {
   "cell_type": "code",
   "execution_count": 15,
   "id": "a9bcca99",
   "metadata": {
    "execution": {
     "iopub.execute_input": "2024-04-24T00:41:12.615980Z",
     "iopub.status.busy": "2024-04-24T00:41:12.615203Z",
     "iopub.status.idle": "2024-04-24T00:45:30.689579Z",
     "shell.execute_reply": "2024-04-24T00:45:30.688722Z"
    },
    "papermill": {
     "duration": 258.084747,
     "end_time": "2024-04-24T00:45:30.691824",
     "exception": false,
     "start_time": "2024-04-24T00:41:12.607077",
     "status": "completed"
    },
    "tags": []
   },
   "outputs": [
    {
     "name": "stdout",
     "output_type": "stream",
     "text": [
      "Epoch 1/10, Train Loss: 0.1490, Valid Loss: 0.1307, Train AUROC: 0.6329, Valid AUROC: 0.7000\n",
      "Epoch 2/10, Train Loss: 0.1336, Valid Loss: 0.1338, Train AUROC: 0.6819, Valid AUROC: 0.7097\n",
      "Epoch 3/10, Train Loss: 0.1326, Valid Loss: 0.1410, Train AUROC: 0.6926, Valid AUROC: 0.7114\n",
      "Epoch 4/10, Train Loss: 0.1320, Valid Loss: 0.1327, Train AUROC: 0.6980, Valid AUROC: 0.7126\n",
      "Epoch 5/10, Train Loss: 0.1317, Valid Loss: 0.1343, Train AUROC: 0.7020, Valid AUROC: 0.7157\n",
      "Epoch 6/10, Train Loss: 0.1314, Valid Loss: 0.1397, Train AUROC: 0.7045, Valid AUROC: 0.7159\n",
      "Epoch 7/10, Train Loss: 0.1313, Valid Loss: 0.1402, Train AUROC: 0.7065, Valid AUROC: 0.7161\n",
      "Epoch 8/10, Train Loss: 0.1310, Valid Loss: 0.1492, Train AUROC: 0.7088, Valid AUROC: 0.7169\n",
      "Epoch 9/10, Train Loss: 0.1311, Valid Loss: 0.1389, Train AUROC: 0.7081, Valid AUROC: 0.7177\n",
      "Epoch 10/10, Train Loss: 0.1309, Valid Loss: 0.1470, Train AUROC: 0.7099, Valid AUROC: 0.7194\n"
     ]
    }
   ],
   "source": [
    "import torch\n",
    "from torch.utils.data import DataLoader, TensorDataset\n",
    "import torchmetrics\n",
    "import numpy as np\n",
    "\n",
    "# Convert your data to PyTorch tensors\n",
    "X_train_tensor = torch.tensor(X_train.astype('float32'))\n",
    "y_train_tensor = torch.tensor(y_train.astype('float32'))\n",
    "X_valid_tensor = torch.tensor(X_valid.astype('float32'))\n",
    "y_valid_tensor = torch.tensor(y_valid.astype('float32'))\n",
    "\n",
    "# Create TensorDataset objects\n",
    "train_dataset = TensorDataset(X_train_tensor, y_train_tensor)\n",
    "valid_dataset = TensorDataset(X_valid_tensor, y_valid_tensor)\n",
    "\n",
    "# Create DataLoader objects\n",
    "train_loader = DataLoader(train_dataset, batch_size=128, shuffle=True)\n",
    "valid_loader = DataLoader(valid_dataset, batch_size=128, shuffle=False)\n",
    "\n",
    "# Training and Validation Functions with AUROC calculation\n",
    "def train(model, criterion, optimizer, loader, auroc_metric):\n",
    "    model.train()\n",
    "    total_loss = 0\n",
    "    auroc_metric.reset()\n",
    "    for inputs, targets in loader:\n",
    "        optimizer.zero_grad()\n",
    "        outputs = model(inputs)\n",
    "        loss = criterion(outputs.squeeze(), targets)\n",
    "        loss.backward()\n",
    "        optimizer.step()\n",
    "        total_loss += loss.item()\n",
    "        auroc_metric.update(outputs.sigmoid(), targets.int())  # Ensure outputs are sigmoid probabilities and targets are integers\n",
    "    train_auroc = auroc_metric.compute()\n",
    "    return total_loss / len(loader), train_auroc\n",
    "\n",
    "def validate(model, criterion, loader, auroc_metric):\n",
    "    model.eval()\n",
    "    total_loss = 0\n",
    "    auroc_metric.reset()\n",
    "    with torch.no_grad():\n",
    "        for inputs, targets in loader:\n",
    "            outputs = model(inputs)\n",
    "            loss = criterion(outputs.squeeze(), targets)\n",
    "            total_loss += loss.item()\n",
    "            auroc_metric.update(outputs.sigmoid(), targets.int())  # Ensure outputs are sigmoid probabilities and targets are integers\n",
    "    val_auroc = auroc_metric.compute()\n",
    "    return total_loss / len(loader), val_auroc\n",
    "\n",
    "# Metrics initialized correctly for binary classification\n",
    "train_auroc_metric = torchmetrics.AUROC(task='binary')\n",
    "valid_auroc_metric = torchmetrics.AUROC(task='binary')\n",
    "\n",
    "# Initialize lists to store per-epoch training and validation loss and AUROC\n",
    "train_losses = []\n",
    "valid_losses = []\n",
    "train_aurocs = []\n",
    "valid_aurocs = []\n",
    "\n",
    "# Main training loop\n",
    "epochs = 10\n",
    "for epoch in range(epochs):\n",
    "    train_loss, train_auroc = train(model, criterion, optimizer, train_loader, train_auroc_metric)\n",
    "    valid_loss, valid_auroc = validate(model, criterion, valid_loader, valid_auroc_metric)\n",
    "    train_losses.append(train_loss)\n",
    "    valid_losses.append(valid_loss)\n",
    "    train_aurocs.append(train_auroc)\n",
    "    valid_aurocs.append(valid_auroc)\n",
    "    print(f'Epoch {epoch+1}/{epochs}, Train Loss: {train_loss:.4f}, Valid Loss: {valid_loss:.4f}, Train AUROC: {train_auroc:.4f}, Valid AUROC: {valid_auroc:.4f}')\n",
    "\n",
    "tensorboard_writer.close()"
   ]
  },
  {
   "cell_type": "code",
   "execution_count": 16,
   "id": "cb63b0a4",
   "metadata": {
    "execution": {
     "iopub.execute_input": "2024-04-24T00:45:30.710778Z",
     "iopub.status.busy": "2024-04-24T00:45:30.709462Z",
     "iopub.status.idle": "2024-04-24T00:45:31.531200Z",
     "shell.execute_reply": "2024-04-24T00:45:31.529988Z"
    },
    "papermill": {
     "duration": 0.833846,
     "end_time": "2024-04-24T00:45:31.533381",
     "exception": false,
     "start_time": "2024-04-24T00:45:30.699535",
     "status": "completed"
    },
    "tags": []
   },
   "outputs": [
    {
     "data": {
      "image/png": "[encoded data removed]",
      "text/plain": [
       "<Figure size 1000x500 with 1 Axes>"
      ]
     },
     "metadata": {},
     "output_type": "display_data"
    },
    {
     "data": {
      "image/png": "[encoded data removed]",
      "text/plain": [
       "<Figure size 1000x500 with 1 Axes>"
      ]
     },
     "metadata": {},
     "output_type": "display_data"
    }
   ],
   "source": [
    "import matplotlib.pyplot as plt\n",
    "import numpy as np\n",
    "\n",
    "# Plot training and validation loss with standard deviation shading\n",
    "plt.figure(figsize=(10, 5))\n",
    "\n",
    "# Training loss and its standard deviation\n",
    "train_loss_std = np.std(train_losses)\n",
    "valid_loss_std = np.std(valid_losses)\n",
    "\n",
    "plt.plot(train_losses, label='Training Loss')\n",
    "plt.fill_between(range(len(train_losses)),\n",
    "                 np.array(train_losses) - train_loss_std,\n",
    "                 np.array(train_losses) + train_loss_std,\n",
    "                 color='gray', alpha=0.2)\n",
    "\n",
    "# Validation loss and its standard deviation\n",
    "plt.plot(valid_losses, label='Validation Loss')\n",
    "plt.fill_between(range(len(valid_losses)),\n",
    "                 np.array(valid_losses) - valid_loss_std,\n",
    "                 np.array(valid_losses) + valid_loss_std,\n",
    "                 color='gray', alpha=0.2)\n",
    "\n",
    "plt.title('Training and Validation Loss')\n",
    "plt.xlabel('Epochs')\n",
    "plt.ylabel('Loss')\n",
    "plt.legend()\n",
    "plt.show()\n",
    "\n",
    "# Plot training and validation AUC with standard deviation shading\n",
    "plt.figure(figsize=(10, 5))\n",
    "\n",
    "# AUC standard deviation\n",
    "train_auroc_std = np.std(train_aurocs)\n",
    "valid_auroc_std = np.std(valid_aurocs)\n",
    "\n",
    "plt.plot(train_aurocs, label='Training AUROC')\n",
    "plt.fill_between(range(len(train_aurocs)),\n",
    "                 np.array(train_aurocs) - train_auroc_std,\n",
    "                 np.array(train_aurocs) + train_auroc_std,\n",
    "                 color='gray', alpha=0.2)\n",
    "\n",
    "plt.plot(valid_aurocs, label='Validation AUROC')\n",
    "plt.fill_between(range(len(valid_aurocs)),\n",
    "                 np.array(valid_aurocs) - valid_auroc_std,\n",
    "                 np.array(valid_aurocs) + valid_auroc_std,\n",
    "                 color='gray', alpha=0.2)\n",
    "\n",
    "plt.title('Training and Validation AUROC')\n",
    "plt.xlabel('Epochs')\n",
    "plt.ylabel('AUROC')\n",
    "plt.legend()\n",
    "plt.show()"
   ]
  },
  {
   "cell_type": "markdown",
   "id": "3557f46d",
   "metadata": {
    "papermill": {
     "duration": 0.008136,
     "end_time": "2024-04-24T00:45:31.594032",
     "exception": false,
     "start_time": "2024-04-24T00:45:31.585896",
     "status": "completed"
    },
    "tags": []
   },
   "source": [
    "### Evaluate the neural network performance with AUC and gini stability"
   ]
  },
  {
   "cell_type": "code",
   "execution_count": 18,
   "id": "9d36e0fc",
   "metadata": {
    "execution": {
     "iopub.execute_input": "2024-04-24T00:45:31.612506Z",
     "iopub.status.busy": "2024-04-24T00:45:31.612115Z",
     "iopub.status.idle": "2024-04-24T00:45:33.900768Z",
     "shell.execute_reply": "2024-04-24T00:45:33.899348Z"
    },
    "papermill": {
     "duration": 2.301405,
     "end_time": "2024-04-24T00:45:33.903756",
     "exception": false,
     "start_time": "2024-04-24T00:45:31.602351",
     "status": "completed"
    },
    "tags": []
   },
   "outputs": [
    {
     "name": "stdout",
     "output_type": "stream",
     "text": [
      "The AUC score on the train set is: 0.7241276208061929\n",
      "The AUC score on the valid set is: 0.7194137357788427\n",
      "The AUC score on the test set is: 0.7163537287192571\n"
     ]
    }
   ],
   "source": [
    "import torch\n",
    "from sklearn.metrics import roc_auc_score\n",
    "\n",
    "model.eval()  # Set the model to evaluation mode\n",
    "\n",
    "for base, X in [(base_train, X_train), (base_valid, X_valid), (base_test, X_test)]:\n",
    "    # Convert data to PyTorch tensor\n",
    "    X_tensor = torch.tensor(X.astype('float32'))\n",
    "    \n",
    "    # If using GPU, transfer data to GPU\n",
    "    # X_tensor = X_tensor.to(device)  # Uncomment if you are using a device (GPU/CPU)\n",
    "\n",
    "    # Get predictions\n",
    "    with torch.no_grad():\n",
    "        y_pred = model(X_tensor).squeeze().numpy()\n",
    "    \n",
    "    # Store predictions in the DataFrame\n",
    "    base[\"score\"] = y_pred\n",
    "\n",
    "# Print AUC scores using scikit-learn's roc_auc_score function\n",
    "print(f'The AUC score on the train set is: {roc_auc_score(base_train[\"target\"], base_train[\"score\"])}') \n",
    "print(f'The AUC score on the valid set is: {roc_auc_score(base_valid[\"target\"], base_valid[\"score\"])}') \n",
    "print(f'The AUC score on the test set is: {roc_auc_score(base_test[\"target\"], base_test[\"score\"])}')"
   ]
  },
  {
   "cell_type": "code",
   "execution_count": 19,
   "id": "ec50cf61",
   "metadata": {
    "execution": {
     "iopub.execute_input": "2024-04-24T00:45:33.923848Z",
     "iopub.status.busy": "2024-04-24T00:45:33.923459Z",
     "iopub.status.idle": "2024-04-24T00:45:34.762030Z",
     "shell.execute_reply": "2024-04-24T00:45:34.760503Z"
    },
    "papermill": {
     "duration": 0.850741,
     "end_time": "2024-04-24T00:45:34.763893",
     "exception": false,
     "start_time": "2024-04-24T00:45:33.913152",
     "status": "completed"
    },
    "tags": []
   },
   "outputs": [
    {
     "name": "stdout",
     "output_type": "stream",
     "text": [
      "The stability score on the train set is: 0.4231981747199768\n",
      "The stability score on the valid set is: 0.4110370053485803\n",
      "The stability score on the test set is: 0.39862935851214476\n"
     ]
    }
   ],
   "source": [
    "def gini_stability(base, w_fallingrate=88.0, w_resstd=-0.5):\n",
    "    gini_in_time = base.loc[:, [\"WEEK_NUM\", \"target\", \"score\"]]\\\n",
    "        .sort_values(\"WEEK_NUM\")\\\n",
    "        .groupby(\"WEEK_NUM\")[[\"target\", \"score\"]]\\\n",
    "        .apply(lambda x: 2*roc_auc_score(x[\"target\"], x[\"score\"])-1).tolist()\n",
    "    \n",
    "    x = np.arange(len(gini_in_time))\n",
    "    y = gini_in_time\n",
    "    a, b = np.polyfit(x, y, 1)\n",
    "    y_hat = a*x + b\n",
    "    residuals = y - y_hat\n",
    "    res_std = np.std(residuals)\n",
    "    avg_gini = np.mean(gini_in_time)\n",
    "    return avg_gini + w_fallingrate * min(0, a) + w_resstd * res_std\n",
    "\n",
    "stability_score_train = gini_stability(base_train)\n",
    "stability_score_valid = gini_stability(base_valid)\n",
    "stability_score_test = gini_stability(base_test)\n",
    "\n",
    "print(f'The stability score on the train set is: {stability_score_train}') \n",
    "print(f'The stability score on the valid set is: {stability_score_valid}') \n",
    "print(f'The stability score on the test set is: {stability_score_test}')  "
   ]
  },
  {
   "cell_type": "markdown",
   "id": "5889300b",
   "metadata": {
    "papermill": {
     "duration": 0.008419,
     "end_time": "2024-04-24T00:45:34.781278",
     "exception": false,
     "start_time": "2024-04-24T00:45:34.772859",
     "status": "completed"
    },
    "tags": []
   },
   "source": [
    "### **Submission**"
   ]
  },
  {
   "cell_type": "code",
   "execution_count": 20,
   "id": "f7083b37",
   "metadata": {
    "execution": {
     "iopub.execute_input": "2024-04-24T00:45:34.800677Z",
     "iopub.status.busy": "2024-04-24T00:45:34.799934Z",
     "iopub.status.idle": "2024-04-24T00:45:34.824020Z",
     "shell.execute_reply": "2024-04-24T00:45:34.822423Z"
    },
    "papermill": {
     "duration": 0.036679,
     "end_time": "2024-04-24T00:45:34.826417",
     "exception": false,
     "start_time": "2024-04-24T00:45:34.789738",
     "status": "completed"
    },
    "tags": []
   },
   "outputs": [],
   "source": [
    "import torch\n",
    "import pandas as pd\n",
    "\n",
    "model.eval()  # Set the model to evaluation mode\n",
    "\n",
    "# Convert X_submission to a PyTorch tensor\n",
    "X_submission_tensor = torch.tensor(X_submission.astype('float32'))\n",
    "\n",
    "# Get predictions\n",
    "with torch.no_grad():\n",
    "    y_submission_pred = model(X_submission_tensor).squeeze().numpy()\n",
    "\n",
    "# Create a pandas DataFrame for submission\n",
    "submission = pd.DataFrame({\n",
    "    \"case_id\": data_submission[\"case_id\"].to_numpy(),\n",
    "    \"score\": y_submission_pred\n",
    "}).set_index('case_id')\n",
    "\n",
    "# Save submission DataFrame to a CSV file\n",
    "submission.to_csv(\"./submission.csv\")\n",
    "\n",
    "# submission_file_path = \"./submission.csv\"\n",
    "# print(f\"Submission saved to: {submission_file_path}\")"
   ]
  },
  {
   "cell_type": "markdown",
   "id": "c0c5417b",
   "metadata": {
    "papermill": {
     "duration": 0.008372,
     "end_time": "2024-04-24T00:45:34.843936",
     "exception": false,
     "start_time": "2024-04-24T00:45:34.835564",
     "status": "completed"
    },
    "tags": []
   },
   "source": [
    "View the submission dataframe."
   ]
  },
  {
   "cell_type": "code",
   "execution_count": 21,
   "id": "ab65e0f7",
   "metadata": {
    "execution": {
     "iopub.execute_input": "2024-04-24T00:45:34.862846Z",
     "iopub.status.busy": "2024-04-24T00:45:34.862466Z",
     "iopub.status.idle": "2024-04-24T00:45:34.867462Z",
     "shell.execute_reply": "2024-04-24T00:45:34.866349Z"
    },
    "papermill": {
     "duration": 0.016585,
     "end_time": "2024-04-24T00:45:34.869054",
     "exception": false,
     "start_time": "2024-04-24T00:45:34.852469",
     "status": "completed"
    },
    "tags": []
   },
   "outputs": [],
   "source": [
    "# submission"
   ]
  }
 ],
 "metadata": {
  "kaggle": {
   "accelerator": "none",
   "dataSources": [
    {
     "databundleVersionId": 7921029,
     "sourceId": 50160,
     "sourceType": "competition"
    }
   ],
   "dockerImageVersionId": 30698,
   "isGpuEnabled": false,
   "isInternetEnabled": false,
   "language": "python",
   "sourceType": "notebook"
  },
  "kernelspec": {
   "display_name": "Python 3",
   "language": "python",
   "name": "python3"
  },
  "language_info": {
   "codemirror_mode": {
    "name": "ipython",
    "version": 3
   },
   "file_extension": ".py",
   "mimetype": "text/x-python",
   "name": "python",
   "nbconvert_exporter": "python",
   "pygments_lexer": "ipython3",
   "version": "3.10.13"
  },
  "papermill": {
   "default_parameters": {},
   "duration": 318.055627,
   "end_time": "2024-04-24T00:45:38.536254",
   "environment_variables": {},
   "exception": null,
   "input_path": "__notebook__.ipynb",
   "output_path": "__notebook__.ipynb",
   "parameters": {},
   "start_time": "2024-04-24T00:40:20.480627",
   "version": "2.5.0"
  }
 },
 "nbformat": 4,
 "nbformat_minor": 5
}
