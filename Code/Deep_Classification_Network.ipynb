{
 "cells": [
  {
   "cell_type": "code",
   "execution_count": 1,
   "id": "ba2262ad",
   "metadata": {
    "_cell_guid": "b1076dfc-b9ad-4769-8c92-a6c4dae69d19",
    "_kg_hide-input": true,
    "_kg_hide-output": true,
    "_uuid": "8f2839f25d086af736a60e9eeb907d3b93b6e0e5",
    "execution": {
     "iopub.execute_input": "2024-04-28T18:49:32.108311Z",
     "iopub.status.busy": "2024-04-28T18:49:32.107478Z",
     "iopub.status.idle": "2024-04-28T18:49:34.504340Z",
     "shell.execute_reply": "2024-04-28T18:49:34.502672Z"
    },
    "papermill": {
     "duration": 2.40996,
     "end_time": "2024-04-28T18:49:34.507808",
     "exception": false,
     "start_time": "2024-04-28T18:49:32.097848",
     "status": "completed"
    },
    "tags": []
   },
   "outputs": [
    {
     "name": "stdout",
     "output_type": "stream",
     "text": [
      "/kaggle/input/home-credit-credit-risk-model-stability/sample_submission.csv\n",
      "/kaggle/input/home-credit-credit-risk-model-stability/feature_definitions.csv\n",
      "/kaggle/input/home-credit-credit-risk-model-stability/parquet_files/test/test_deposit_1.parquet\n",
      "/kaggle/input/home-credit-credit-risk-model-stability/parquet_files/test/test_applprev_2.parquet\n",
      "/kaggle/input/home-credit-credit-risk-model-stability/parquet_files/test/test_static_cb_0.parquet\n",
      "/kaggle/input/home-credit-credit-risk-model-stability/parquet_files/test/test_static_0_0.parquet\n",
      "/kaggle/input/home-credit-credit-risk-model-stability/parquet_files/test/test_credit_bureau_a_1_3.parquet\n",
      "/kaggle/input/home-credit-credit-risk-model-stability/parquet_files/test/test_credit_bureau_a_1_2.parquet\n",
      "/kaggle/input/home-credit-credit-risk-model-stability/parquet_files/test/test_tax_registry_b_1.parquet\n",
      "/kaggle/input/home-credit-credit-risk-model-stability/parquet_files/test/test_static_0_2.parquet\n",
      "/kaggle/input/home-credit-credit-risk-model-stability/parquet_files/test/test_credit_bureau_a_2_3.parquet\n",
      "/kaggle/input/home-credit-credit-risk-model-stability/parquet_files/test/test_credit_bureau_a_2_9.parquet\n",
      "/kaggle/input/home-credit-credit-risk-model-stability/parquet_files/test/test_debitcard_1.parquet\n",
      "/kaggle/input/home-credit-credit-risk-model-stability/parquet_files/test/test_credit_bureau_a_1_1.parquet\n",
      "/kaggle/input/home-credit-credit-risk-model-stability/parquet_files/test/test_credit_bureau_a_2_2.parquet\n",
      "/kaggle/input/home-credit-credit-risk-model-stability/parquet_files/test/test_credit_bureau_a_2_11.parquet\n",
      "/kaggle/input/home-credit-credit-risk-model-stability/parquet_files/test/test_applprev_1_2.parquet\n",
      "/kaggle/input/home-credit-credit-risk-model-stability/parquet_files/test/test_credit_bureau_a_2_1.parquet\n",
      "/kaggle/input/home-credit-credit-risk-model-stability/parquet_files/test/test_credit_bureau_a_1_4.parquet\n",
      "/kaggle/input/home-credit-credit-risk-model-stability/parquet_files/test/test_tax_registry_c_1.parquet\n",
      "/kaggle/input/home-credit-credit-risk-model-stability/parquet_files/test/test_applprev_1_0.parquet\n",
      "/kaggle/input/home-credit-credit-risk-model-stability/parquet_files/test/test_tax_registry_a_1.parquet\n",
      "/kaggle/input/home-credit-credit-risk-model-stability/parquet_files/test/test_credit_bureau_a_2_6.parquet\n",
      "/kaggle/input/home-credit-credit-risk-model-stability/parquet_files/test/test_credit_bureau_a_2_5.parquet\n",
      "/kaggle/input/home-credit-credit-risk-model-stability/parquet_files/test/test_credit_bureau_b_1.parquet\n",
      "/kaggle/input/home-credit-credit-risk-model-stability/parquet_files/test/test_other_1.parquet\n",
      "/kaggle/input/home-credit-credit-risk-model-stability/parquet_files/test/test_static_0_1.parquet\n",
      "/kaggle/input/home-credit-credit-risk-model-stability/parquet_files/test/test_credit_bureau_a_2_0.parquet\n",
      "/kaggle/input/home-credit-credit-risk-model-stability/parquet_files/test/test_applprev_1_1.parquet\n",
      "/kaggle/input/home-credit-credit-risk-model-stability/parquet_files/test/test_base.parquet\n",
      "/kaggle/input/home-credit-credit-risk-model-stability/parquet_files/test/test_person_1.parquet\n",
      "/kaggle/input/home-credit-credit-risk-model-stability/parquet_files/test/test_credit_bureau_a_2_7.parquet\n",
      "/kaggle/input/home-credit-credit-risk-model-stability/parquet_files/test/test_credit_bureau_a_2_10.parquet\n",
      "/kaggle/input/home-credit-credit-risk-model-stability/parquet_files/test/test_credit_bureau_b_2.parquet\n",
      "/kaggle/input/home-credit-credit-risk-model-stability/parquet_files/test/test_credit_bureau_a_2_8.parquet\n",
      "/kaggle/input/home-credit-credit-risk-model-stability/parquet_files/test/test_credit_bureau_a_1_0.parquet\n",
      "/kaggle/input/home-credit-credit-risk-model-stability/parquet_files/test/test_credit_bureau_a_2_4.parquet\n",
      "/kaggle/input/home-credit-credit-risk-model-stability/parquet_files/test/test_person_2.parquet\n",
      "/kaggle/input/home-credit-credit-risk-model-stability/parquet_files/train/train_tax_registry_c_1.parquet\n",
      "/kaggle/input/home-credit-credit-risk-model-stability/parquet_files/train/train_static_0_0.parquet\n",
      "/kaggle/input/home-credit-credit-risk-model-stability/parquet_files/train/train_credit_bureau_a_1_3.parquet\n",
      "/kaggle/input/home-credit-credit-risk-model-stability/parquet_files/train/train_credit_bureau_b_2.parquet\n",
      "/kaggle/input/home-credit-credit-risk-model-stability/parquet_files/train/train_applprev_1_1.parquet\n",
      "/kaggle/input/home-credit-credit-risk-model-stability/parquet_files/train/train_static_cb_0.parquet\n",
      "/kaggle/input/home-credit-credit-risk-model-stability/parquet_files/train/train_other_1.parquet\n",
      "/kaggle/input/home-credit-credit-risk-model-stability/parquet_files/train/train_credit_bureau_a_2_6.parquet\n",
      "/kaggle/input/home-credit-credit-risk-model-stability/parquet_files/train/train_tax_registry_a_1.parquet\n",
      "/kaggle/input/home-credit-credit-risk-model-stability/parquet_files/train/train_tax_registry_b_1.parquet\n",
      "/kaggle/input/home-credit-credit-risk-model-stability/parquet_files/train/train_credit_bureau_a_2_1.parquet\n",
      "/kaggle/input/home-credit-credit-risk-model-stability/parquet_files/train/train_person_1.parquet\n",
      "/kaggle/input/home-credit-credit-risk-model-stability/parquet_files/train/train_person_2.parquet\n",
      "/kaggle/input/home-credit-credit-risk-model-stability/parquet_files/train/train_credit_bureau_b_1.parquet\n",
      "/kaggle/input/home-credit-credit-risk-model-stability/parquet_files/train/train_credit_bureau_a_2_0.parquet\n",
      "/kaggle/input/home-credit-credit-risk-model-stability/parquet_files/train/train_credit_bureau_a_2_7.parquet\n",
      "/kaggle/input/home-credit-credit-risk-model-stability/parquet_files/train/train_deposit_1.parquet\n",
      "/kaggle/input/home-credit-credit-risk-model-stability/parquet_files/train/train_debitcard_1.parquet\n",
      "/kaggle/input/home-credit-credit-risk-model-stability/parquet_files/train/train_credit_bureau_a_2_5.parquet\n",
      "/kaggle/input/home-credit-credit-risk-model-stability/parquet_files/train/train_credit_bureau_a_2_2.parquet\n",
      "/kaggle/input/home-credit-credit-risk-model-stability/parquet_files/train/train_credit_bureau_a_2_4.parquet\n",
      "/kaggle/input/home-credit-credit-risk-model-stability/parquet_files/train/train_base.parquet\n",
      "/kaggle/input/home-credit-credit-risk-model-stability/parquet_files/train/train_credit_bureau_a_2_9.parquet\n",
      "/kaggle/input/home-credit-credit-risk-model-stability/parquet_files/train/train_credit_bureau_a_2_3.parquet\n",
      "/kaggle/input/home-credit-credit-risk-model-stability/parquet_files/train/train_applprev_2.parquet\n",
      "/kaggle/input/home-credit-credit-risk-model-stability/parquet_files/train/train_credit_bureau_a_2_10.parquet\n",
      "/kaggle/input/home-credit-credit-risk-model-stability/parquet_files/train/train_credit_bureau_a_2_8.parquet\n",
      "/kaggle/input/home-credit-credit-risk-model-stability/parquet_files/train/train_credit_bureau_a_1_2.parquet\n",
      "/kaggle/input/home-credit-credit-risk-model-stability/parquet_files/train/train_static_0_1.parquet\n",
      "/kaggle/input/home-credit-credit-risk-model-stability/parquet_files/train/train_credit_bureau_a_1_0.parquet\n",
      "/kaggle/input/home-credit-credit-risk-model-stability/parquet_files/train/train_credit_bureau_a_1_1.parquet\n",
      "/kaggle/input/home-credit-credit-risk-model-stability/parquet_files/train/train_applprev_1_0.parquet\n",
      "/kaggle/input/home-credit-credit-risk-model-stability/csv_files/test/test_credit_bureau_a_2_6.csv\n",
      "/kaggle/input/home-credit-credit-risk-model-stability/csv_files/test/test_credit_bureau_a_2_11.csv\n",
      "/kaggle/input/home-credit-credit-risk-model-stability/csv_files/test/test_credit_bureau_a_2_0.csv\n",
      "/kaggle/input/home-credit-credit-risk-model-stability/csv_files/test/test_credit_bureau_a_2_9.csv\n",
      "/kaggle/input/home-credit-credit-risk-model-stability/csv_files/test/test_base.csv\n",
      "/kaggle/input/home-credit-credit-risk-model-stability/csv_files/test/test_credit_bureau_a_1_1.csv\n",
      "/kaggle/input/home-credit-credit-risk-model-stability/csv_files/test/test_credit_bureau_b_2.csv\n",
      "/kaggle/input/home-credit-credit-risk-model-stability/csv_files/test/test_credit_bureau_a_2_10.csv\n",
      "/kaggle/input/home-credit-credit-risk-model-stability/csv_files/test/test_credit_bureau_a_2_4.csv\n",
      "/kaggle/input/home-credit-credit-risk-model-stability/csv_files/test/test_static_0_0.csv\n",
      "/kaggle/input/home-credit-credit-risk-model-stability/csv_files/test/test_static_cb_0.csv\n",
      "/kaggle/input/home-credit-credit-risk-model-stability/csv_files/test/test_credit_bureau_a_2_2.csv\n",
      "/kaggle/input/home-credit-credit-risk-model-stability/csv_files/test/test_credit_bureau_b_1.csv\n",
      "/kaggle/input/home-credit-credit-risk-model-stability/csv_files/test/test_tax_registry_b_1.csv\n",
      "/kaggle/input/home-credit-credit-risk-model-stability/csv_files/test/test_person_2.csv\n",
      "/kaggle/input/home-credit-credit-risk-model-stability/csv_files/test/test_person_1.csv\n",
      "/kaggle/input/home-credit-credit-risk-model-stability/csv_files/test/test_credit_bureau_a_2_8.csv\n",
      "/kaggle/input/home-credit-credit-risk-model-stability/csv_files/test/test_applprev_1_2.csv\n",
      "/kaggle/input/home-credit-credit-risk-model-stability/csv_files/test/test_applprev_1_1.csv\n",
      "/kaggle/input/home-credit-credit-risk-model-stability/csv_files/test/test_credit_bureau_a_1_0.csv\n",
      "/kaggle/input/home-credit-credit-risk-model-stability/csv_files/test/test_applprev_2.csv\n",
      "/kaggle/input/home-credit-credit-risk-model-stability/csv_files/test/test_credit_bureau_a_2_7.csv\n",
      "/kaggle/input/home-credit-credit-risk-model-stability/csv_files/test/test_other_1.csv\n",
      "/kaggle/input/home-credit-credit-risk-model-stability/csv_files/test/test_tax_registry_c_1.csv\n",
      "/kaggle/input/home-credit-credit-risk-model-stability/csv_files/test/test_credit_bureau_a_1_3.csv\n",
      "/kaggle/input/home-credit-credit-risk-model-stability/csv_files/test/test_static_0_2.csv\n",
      "/kaggle/input/home-credit-credit-risk-model-stability/csv_files/test/test_credit_bureau_a_2_5.csv\n",
      "/kaggle/input/home-credit-credit-risk-model-stability/csv_files/test/test_credit_bureau_a_1_2.csv\n",
      "/kaggle/input/home-credit-credit-risk-model-stability/csv_files/test/test_debitcard_1.csv\n",
      "/kaggle/input/home-credit-credit-risk-model-stability/csv_files/test/test_credit_bureau_a_1_4.csv\n",
      "/kaggle/input/home-credit-credit-risk-model-stability/csv_files/test/test_deposit_1.csv\n",
      "/kaggle/input/home-credit-credit-risk-model-stability/csv_files/test/test_static_0_1.csv\n",
      "/kaggle/input/home-credit-credit-risk-model-stability/csv_files/test/test_credit_bureau_a_2_1.csv\n",
      "/kaggle/input/home-credit-credit-risk-model-stability/csv_files/test/test_applprev_1_0.csv\n",
      "/kaggle/input/home-credit-credit-risk-model-stability/csv_files/test/test_tax_registry_a_1.csv\n",
      "/kaggle/input/home-credit-credit-risk-model-stability/csv_files/test/test_credit_bureau_a_2_3.csv\n",
      "/kaggle/input/home-credit-credit-risk-model-stability/csv_files/train/train_credit_bureau_a_1_3.csv\n",
      "/kaggle/input/home-credit-credit-risk-model-stability/csv_files/train/train_static_cb_0.csv\n",
      "/kaggle/input/home-credit-credit-risk-model-stability/csv_files/train/train_applprev_1_0.csv\n",
      "/kaggle/input/home-credit-credit-risk-model-stability/csv_files/train/train_person_2.csv\n",
      "/kaggle/input/home-credit-credit-risk-model-stability/csv_files/train/train_base.csv\n",
      "/kaggle/input/home-credit-credit-risk-model-stability/csv_files/train/train_tax_registry_a_1.csv\n",
      "/kaggle/input/home-credit-credit-risk-model-stability/csv_files/train/train_static_0_0.csv\n",
      "/kaggle/input/home-credit-credit-risk-model-stability/csv_files/train/train_credit_bureau_a_1_0.csv\n",
      "/kaggle/input/home-credit-credit-risk-model-stability/csv_files/train/train_applprev_2.csv\n",
      "/kaggle/input/home-credit-credit-risk-model-stability/csv_files/train/train_credit_bureau_a_2_6.csv\n",
      "/kaggle/input/home-credit-credit-risk-model-stability/csv_files/train/train_credit_bureau_a_1_2.csv\n",
      "/kaggle/input/home-credit-credit-risk-model-stability/csv_files/train/train_person_1.csv\n",
      "/kaggle/input/home-credit-credit-risk-model-stability/csv_files/train/train_credit_bureau_a_1_1.csv\n",
      "/kaggle/input/home-credit-credit-risk-model-stability/csv_files/train/train_tax_registry_c_1.csv\n",
      "/kaggle/input/home-credit-credit-risk-model-stability/csv_files/train/train_credit_bureau_a_2_4.csv\n",
      "/kaggle/input/home-credit-credit-risk-model-stability/csv_files/train/train_credit_bureau_a_2_9.csv\n",
      "/kaggle/input/home-credit-credit-risk-model-stability/csv_files/train/train_credit_bureau_a_2_3.csv\n",
      "/kaggle/input/home-credit-credit-risk-model-stability/csv_files/train/train_credit_bureau_a_2_7.csv\n",
      "/kaggle/input/home-credit-credit-risk-model-stability/csv_files/train/train_credit_bureau_b_2.csv\n",
      "/kaggle/input/home-credit-credit-risk-model-stability/csv_files/train/train_credit_bureau_a_2_2.csv\n",
      "/kaggle/input/home-credit-credit-risk-model-stability/csv_files/train/train_static_0_1.csv\n",
      "/kaggle/input/home-credit-credit-risk-model-stability/csv_files/train/train_deposit_1.csv\n",
      "/kaggle/input/home-credit-credit-risk-model-stability/csv_files/train/train_credit_bureau_a_2_10.csv\n",
      "/kaggle/input/home-credit-credit-risk-model-stability/csv_files/train/train_tax_registry_b_1.csv\n",
      "/kaggle/input/home-credit-credit-risk-model-stability/csv_files/train/train_applprev_1_1.csv\n",
      "/kaggle/input/home-credit-credit-risk-model-stability/csv_files/train/train_credit_bureau_a_2_1.csv\n",
      "/kaggle/input/home-credit-credit-risk-model-stability/csv_files/train/train_credit_bureau_a_2_8.csv\n",
      "/kaggle/input/home-credit-credit-risk-model-stability/csv_files/train/train_credit_bureau_a_2_5.csv\n",
      "/kaggle/input/home-credit-credit-risk-model-stability/csv_files/train/train_credit_bureau_b_1.csv\n",
      "/kaggle/input/home-credit-credit-risk-model-stability/csv_files/train/train_credit_bureau_a_2_0.csv\n",
      "/kaggle/input/home-credit-credit-risk-model-stability/csv_files/train/train_other_1.csv\n",
      "/kaggle/input/home-credit-credit-risk-model-stability/csv_files/train/train_debitcard_1.csv\n"
     ]
    }
   ],
   "source": [
    "# This Python 3 environment comes with many helpful analytics libraries installed\n",
    "# It is defined by the kaggle/python Docker image: https://github.com/kaggle/docker-python\n",
    "# For example, here's several helpful packages to load\n",
    "\n",
    "import polars as pl\n",
    "import numpy as np\n",
    "import pandas as pd\n",
    "from sklearn.model_selection import train_test_split\n",
    "from sklearn.metrics import roc_auc_score \n",
    "import warnings\n",
    "\n",
    "warnings.filterwarnings('ignore')\n",
    "\n",
    "dataPath = \"/kaggle/input/home-credit-credit-risk-model-stability/\"\n",
    "\n",
    "# Input data files are available in the read-only \"../input/\" directory\n",
    "# For example, running this (by clicking run or pressing Shift+Enter) will list all files under the input directory\n",
    "\n",
    "import os\n",
    "for dirname, _, filenames in os.walk('/kaggle/input'):\n",
    "    for filename in filenames:\n",
    "        print(os.path.join(dirname, filename))\n",
    "        \n",
    "# You can write up to 20GB to the current directory (/kaggle/working/) that gets preserved as output when you create a version using \"Save & Run All\" \n",
    "# You can also write temporary files to /kaggle/temp/, but they won't be saved outside of the current session"
   ]
  },
  {
   "cell_type": "markdown",
   "id": "d052281e",
   "metadata": {
    "papermill": {
     "duration": 0.00714,
     "end_time": "2024-04-28T18:49:34.522907",
     "exception": false,
     "start_time": "2024-04-28T18:49:34.515767",
     "status": "completed"
    },
    "tags": []
   },
   "source": [
    "## **Goal of the Competition**\n",
    "\n",
    "The goal of this competition is to predict which clients are more likely to default on their loans. The evaluation will favor solutions that are stable over time.\n",
    "\n",
    "Your participation may offer consumer finance providers a more reliable and longer-lasting way to assess a potential client’s default risk.\n",
    "\n",
    "## **Loading the Data**\n",
    "\n",
    "We will now load the data and get it in the right format. We will conduct exploratory data analysis and create a baseline submission that we can iterate and improve on."
   ]
  },
  {
   "cell_type": "code",
   "execution_count": 2,
   "id": "08a3780e",
   "metadata": {
    "execution": {
     "iopub.execute_input": "2024-04-28T18:49:34.539946Z",
     "iopub.status.busy": "2024-04-28T18:49:34.539299Z",
     "iopub.status.idle": "2024-04-28T18:49:34.548518Z",
     "shell.execute_reply": "2024-04-28T18:49:34.547325Z"
    },
    "papermill": {
     "duration": 0.02012,
     "end_time": "2024-04-28T18:49:34.550547",
     "exception": false,
     "start_time": "2024-04-28T18:49:34.530427",
     "status": "completed"
    },
    "tags": []
   },
   "outputs": [],
   "source": [
    "def set_table_dtypes(df: pl.DataFrame) -> pl.DataFrame:\n",
    "    # implement here all desired dtypes for tables\n",
    "    # the following is just an example\n",
    "    for col in df.columns:\n",
    "        # last letter of column name will help you determine the type\n",
    "        if col[-1] in (\"P\", \"A\"):\n",
    "            df = df.with_columns(pl.col(col).cast(pl.Float64).alias(col))\n",
    "\n",
    "    return df\n",
    "\n",
    "def convert_strings(df: pd.DataFrame) -> pd.DataFrame:\n",
    "    for col in df.columns:  \n",
    "        if df[col].dtype.name in ['object', 'string']:\n",
    "            df[col] = df[col].astype(\"string\").astype('category')\n",
    "            current_categories = df[col].cat.categories\n",
    "            new_categories = current_categories.to_list() + [\"Unknown\"]\n",
    "            new_dtype = pd.CategoricalDtype(categories=new_categories, ordered=True)\n",
    "            df[col] = df[col].astype(new_dtype)\n",
    "    return df"
   ]
  },
  {
   "cell_type": "code",
   "execution_count": 3,
   "id": "ddae0765",
   "metadata": {
    "execution": {
     "iopub.execute_input": "2024-04-28T18:49:34.567255Z",
     "iopub.status.busy": "2024-04-28T18:49:34.566530Z",
     "iopub.status.idle": "2024-04-28T18:49:50.601557Z",
     "shell.execute_reply": "2024-04-28T18:49:50.600377Z"
    },
    "papermill": {
     "duration": 16.046268,
     "end_time": "2024-04-28T18:49:50.604086",
     "exception": false,
     "start_time": "2024-04-28T18:49:34.557818",
     "status": "completed"
    },
    "tags": []
   },
   "outputs": [],
   "source": [
    "train_basetable = pl.read_csv(dataPath + \"csv_files/train/train_base.csv\")\n",
    "train_static = pl.concat(\n",
    "    [\n",
    "        pl.read_csv(dataPath + \"csv_files/train/train_static_0_0.csv\").pipe(set_table_dtypes),\n",
    "        pl.read_csv(dataPath + \"csv_files/train/train_static_0_1.csv\").pipe(set_table_dtypes),\n",
    "    ],\n",
    "    how=\"vertical_relaxed\",\n",
    ")\n",
    "train_static_cb = pl.read_csv(dataPath + \"csv_files/train/train_static_cb_0.csv\").pipe(set_table_dtypes)\n",
    "train_person_1 = pl.read_csv(dataPath + \"csv_files/train/train_person_1.csv\").pipe(set_table_dtypes) \n",
    "train_credit_bureau_b_2 = pl.read_csv(dataPath + \"csv_files/train/train_credit_bureau_b_2.csv\").pipe(set_table_dtypes) "
   ]
  },
  {
   "cell_type": "code",
   "execution_count": 4,
   "id": "8ae12d19",
   "metadata": {
    "execution": {
     "iopub.execute_input": "2024-04-28T18:49:50.620816Z",
     "iopub.status.busy": "2024-04-28T18:49:50.620094Z",
     "iopub.status.idle": "2024-04-28T18:49:50.666760Z",
     "shell.execute_reply": "2024-04-28T18:49:50.665658Z"
    },
    "papermill": {
     "duration": 0.057659,
     "end_time": "2024-04-28T18:49:50.669275",
     "exception": false,
     "start_time": "2024-04-28T18:49:50.611616",
     "status": "completed"
    },
    "tags": []
   },
   "outputs": [],
   "source": [
    "test_basetable = pl.read_csv(dataPath + \"csv_files/test/test_base.csv\")\n",
    "test_static = pl.concat(\n",
    "    [\n",
    "        pl.read_csv(dataPath + \"csv_files/test/test_static_0_0.csv\").pipe(set_table_dtypes),\n",
    "        pl.read_csv(dataPath + \"csv_files/test/test_static_0_1.csv\").pipe(set_table_dtypes),\n",
    "        pl.read_csv(dataPath + \"csv_files/test/test_static_0_2.csv\").pipe(set_table_dtypes),\n",
    "    ],\n",
    "    how=\"vertical_relaxed\",\n",
    ")\n",
    "test_static_cb = pl.read_csv(dataPath + \"csv_files/test/test_static_cb_0.csv\").pipe(set_table_dtypes)\n",
    "test_person_1 = pl.read_csv(dataPath + \"csv_files/test/test_person_1.csv\").pipe(set_table_dtypes) \n",
    "test_credit_bureau_b_2 = pl.read_csv(dataPath + \"csv_files/test/test_credit_bureau_b_2.csv\").pipe(set_table_dtypes) "
   ]
  },
  {
   "cell_type": "markdown",
   "id": "6f98e080",
   "metadata": {
    "papermill": {
     "duration": 0.006863,
     "end_time": "2024-04-28T18:49:50.683416",
     "exception": false,
     "start_time": "2024-04-28T18:49:50.676553",
     "status": "completed"
    },
    "tags": []
   },
   "source": [
    "## **Feature Engineering**\n",
    "\n",
    "We will join the tables on case_id. (There are additional ways we can work with the data, but we will leave this as is for now.)"
   ]
  },
  {
   "cell_type": "code",
   "execution_count": 5,
   "id": "b099a5d4",
   "metadata": {
    "execution": {
     "iopub.execute_input": "2024-04-28T18:49:50.701221Z",
     "iopub.status.busy": "2024-04-28T18:49:50.700497Z",
     "iopub.status.idle": "2024-04-28T18:49:52.950539Z",
     "shell.execute_reply": "2024-04-28T18:49:52.949530Z"
    },
    "papermill": {
     "duration": 2.26114,
     "end_time": "2024-04-28T18:49:52.952833",
     "exception": false,
     "start_time": "2024-04-28T18:49:50.691693",
     "status": "completed"
    },
    "tags": []
   },
   "outputs": [
    {
     "name": "stdout",
     "output_type": "stream",
     "text": [
      "['amtinstpaidbefduel24m_4187115A', 'annuity_780A', 'annuitynextmonth_57A', 'avginstallast24m_3658937A', 'avglnamtstart24m_4525187A', 'avgoutstandbalancel6m_4187114A', 'avgpmtlast12m_4525200A', 'credamount_770A', 'currdebt_22A', 'currdebtcredtyperange_828A', 'disbursedcredamount_1113A', 'downpmt_116A', 'inittransactionamount_650A', 'lastapprcommoditycat_1041M', 'lastapprcommoditytypec_5251766M', 'lastapprcredamount_781A', 'lastcancelreason_561M', 'lastotherinc_902A', 'lastotherlnsexpense_631A', 'lastrejectcommoditycat_161M', 'lastrejectcommodtypec_5251769M', 'lastrejectcredamount_222A', 'lastrejectreason_759M', 'lastrejectreasonclient_4145040M', 'maininc_215A', 'maxannuity_159A', 'maxannuity_4075009A', 'maxdebt4_972A', 'maxinstallast24m_3658928A', 'maxlnamtstart6m_4525199A', 'maxoutstandbalancel12m_4187113A', 'maxpmtlast3m_4525190A', 'previouscontdistrict_112M', 'price_1097A', 'sumoutstandtotal_3546847A', 'sumoutstandtotalest_4493215A', 'totaldebt_9A', 'totalsettled_863A', 'totinstallast1m_4525188A']\n",
      "['description_5085714M', 'education_1103M', 'education_88M', 'maritalst_385M', 'maritalst_893M', 'pmtaverage_3A', 'pmtaverage_4527227A', 'pmtaverage_4955615A', 'pmtssum_45A']\n"
     ]
    }
   ],
   "source": [
    "# We need to use aggregation functions in tables with depth > 1, so tables that contain num_group1 column or \n",
    "# also num_group2 column.\n",
    "train_person_1_feats_1 = train_person_1.group_by(\"case_id\").agg(\n",
    "    pl.col(\"mainoccupationinc_384A\").max().alias(\"mainoccupationinc_384A_max\"),\n",
    "    (pl.col(\"incometype_1044T\") == \"SELFEMPLOYED\").max().alias(\"mainoccupationinc_384A_any_selfemployed\")\n",
    ")\n",
    "\n",
    "# Here num_group1=0 has special meaning, it is the person who applied for the loan.\n",
    "train_person_1_feats_2 = train_person_1.select([\"case_id\", \"num_group1\", \"housetype_905L\"]).filter(\n",
    "    pl.col(\"num_group1\") == 0\n",
    ").drop(\"num_group1\").rename({\"housetype_905L\": \"person_housetype\"})\n",
    "\n",
    "# Here we have num_goup1 and num_group2, so we need to aggregate again.\n",
    "train_credit_bureau_b_2_feats = train_credit_bureau_b_2.group_by(\"case_id\").agg(\n",
    "    pl.col(\"pmts_pmtsoverdue_635A\").max().alias(\"pmts_pmtsoverdue_635A_max\"),\n",
    "    (pl.col(\"pmts_dpdvalue_108P\") > 31).max().alias(\"pmts_dpdvalue_108P_over31\")\n",
    ")\n",
    "\n",
    "# We will process in this examples only A-type and M-type columns, so we need to select them.\n",
    "selected_static_cols = []\n",
    "for col in train_static.columns:\n",
    "    if col[-1] in (\"A\", \"M\"):\n",
    "        selected_static_cols.append(col)\n",
    "print(selected_static_cols)\n",
    "\n",
    "selected_static_cb_cols = []\n",
    "for col in train_static_cb.columns:\n",
    "    if col[-1] in (\"A\", \"M\"):\n",
    "        selected_static_cb_cols.append(col)\n",
    "print(selected_static_cb_cols)\n",
    "\n",
    "# Join all tables together.\n",
    "data = train_basetable.join(\n",
    "    train_static.select([\"case_id\"]+selected_static_cols), how=\"left\", on=\"case_id\"\n",
    ").join(\n",
    "    train_static_cb.select([\"case_id\"]+selected_static_cb_cols), how=\"left\", on=\"case_id\"\n",
    ").join(\n",
    "    train_person_1_feats_1, how=\"left\", on=\"case_id\"\n",
    ").join(\n",
    "    train_person_1_feats_2, how=\"left\", on=\"case_id\"\n",
    ").join(\n",
    "    train_credit_bureau_b_2_feats, how=\"left\", on=\"case_id\"\n",
    ")"
   ]
  },
  {
   "cell_type": "code",
   "execution_count": 6,
   "id": "149344c3",
   "metadata": {
    "execution": {
     "iopub.execute_input": "2024-04-28T18:49:52.968992Z",
     "iopub.status.busy": "2024-04-28T18:49:52.968624Z",
     "iopub.status.idle": "2024-04-28T18:49:52.980296Z",
     "shell.execute_reply": "2024-04-28T18:49:52.979415Z"
    },
    "papermill": {
     "duration": 0.021967,
     "end_time": "2024-04-28T18:49:52.982214",
     "exception": false,
     "start_time": "2024-04-28T18:49:52.960247",
     "status": "completed"
    },
    "tags": []
   },
   "outputs": [],
   "source": [
    "test_person_1_feats_1 = test_person_1.group_by(\"case_id\").agg(\n",
    "    pl.col(\"mainoccupationinc_384A\").max().alias(\"mainoccupationinc_384A_max\"),\n",
    "    (pl.col(\"incometype_1044T\") == \"SELFEMPLOYED\").max().alias(\"mainoccupationinc_384A_any_selfemployed\")\n",
    ")\n",
    "\n",
    "test_person_1_feats_2 = test_person_1.select([\"case_id\", \"num_group1\", \"housetype_905L\"]).filter(\n",
    "    pl.col(\"num_group1\") == 0\n",
    ").drop(\"num_group1\").rename({\"housetype_905L\": \"person_housetype\"})\n",
    "\n",
    "test_credit_bureau_b_2_feats = test_credit_bureau_b_2.group_by(\"case_id\").agg(\n",
    "    pl.col(\"pmts_pmtsoverdue_635A\").max().alias(\"pmts_pmtsoverdue_635A_max\"),\n",
    "    (pl.col(\"pmts_dpdvalue_108P\") > 31).max().alias(\"pmts_dpdvalue_108P_over31\")\n",
    ")\n",
    "\n",
    "data_submission = test_basetable.join(\n",
    "    test_static.select([\"case_id\"]+selected_static_cols), how=\"left\", on=\"case_id\"\n",
    ").join(\n",
    "    test_static_cb.select([\"case_id\"]+selected_static_cb_cols), how=\"left\", on=\"case_id\"\n",
    ").join(\n",
    "    test_person_1_feats_1, how=\"left\", on=\"case_id\"\n",
    ").join(\n",
    "    test_person_1_feats_2, how=\"left\", on=\"case_id\"\n",
    ").join(\n",
    "    test_credit_bureau_b_2_feats, how=\"left\", on=\"case_id\"\n",
    ")"
   ]
  },
  {
   "cell_type": "code",
   "execution_count": 7,
   "id": "2238e545",
   "metadata": {
    "execution": {
     "iopub.execute_input": "2024-04-28T18:49:52.998963Z",
     "iopub.status.busy": "2024-04-28T18:49:52.997681Z",
     "iopub.status.idle": "2024-04-28T18:49:58.907774Z",
     "shell.execute_reply": "2024-04-28T18:49:58.906755Z"
    },
    "papermill": {
     "duration": 5.921084,
     "end_time": "2024-04-28T18:49:58.910512",
     "exception": false,
     "start_time": "2024-04-28T18:49:52.989428",
     "status": "completed"
    },
    "tags": []
   },
   "outputs": [
    {
     "name": "stdout",
     "output_type": "stream",
     "text": [
      "['amtinstpaidbefduel24m_4187115A', 'annuity_780A', 'annuitynextmonth_57A', 'avginstallast24m_3658937A', 'avglnamtstart24m_4525187A', 'avgoutstandbalancel6m_4187114A', 'avgpmtlast12m_4525200A', 'credamount_770A', 'currdebt_22A', 'currdebtcredtyperange_828A', 'disbursedcredamount_1113A', 'downpmt_116A', 'inittransactionamount_650A', 'lastapprcommoditycat_1041M', 'lastapprcommoditytypec_5251766M', 'lastapprcredamount_781A', 'lastcancelreason_561M', 'lastotherinc_902A', 'lastotherlnsexpense_631A', 'lastrejectcommoditycat_161M', 'lastrejectcommodtypec_5251769M', 'lastrejectcredamount_222A', 'lastrejectreason_759M', 'lastrejectreasonclient_4145040M', 'maininc_215A', 'maxannuity_159A', 'maxannuity_4075009A', 'maxdebt4_972A', 'maxinstallast24m_3658928A', 'maxlnamtstart6m_4525199A', 'maxoutstandbalancel12m_4187113A', 'maxpmtlast3m_4525190A', 'previouscontdistrict_112M', 'price_1097A', 'sumoutstandtotal_3546847A', 'sumoutstandtotalest_4493215A', 'totaldebt_9A', 'totalsettled_863A', 'totinstallast1m_4525188A', 'description_5085714M', 'education_1103M', 'education_88M', 'maritalst_385M', 'maritalst_893M', 'pmtaverage_3A', 'pmtaverage_4527227A', 'pmtaverage_4955615A', 'pmtssum_45A']\n"
     ]
    }
   ],
   "source": [
    "case_ids = data[\"case_id\"].unique().shuffle(seed=1)\n",
    "case_ids_train, case_ids_test = train_test_split(case_ids, train_size=0.6, random_state=1)\n",
    "case_ids_valid, case_ids_test = train_test_split(case_ids_test, train_size=0.5, random_state=1)\n",
    "\n",
    "cols_pred = []\n",
    "for col in data.columns:\n",
    "    if col[-1].isupper() and col[:-1].islower():\n",
    "        cols_pred.append(col)\n",
    "\n",
    "print(cols_pred)\n",
    "\n",
    "def from_polars_to_pandas(case_ids: pl.DataFrame) -> pl.DataFrame:\n",
    "    return (\n",
    "        data.filter(pl.col(\"case_id\").is_in(case_ids))[[\"case_id\", \"WEEK_NUM\", \"target\"]].to_pandas(),\n",
    "        data.filter(pl.col(\"case_id\").is_in(case_ids))[cols_pred].to_pandas(),\n",
    "        data.filter(pl.col(\"case_id\").is_in(case_ids))[\"target\"].to_pandas()\n",
    "    )\n",
    "\n",
    "base_train, X_train, y_train = from_polars_to_pandas(case_ids_train)\n",
    "base_valid, X_valid, y_valid = from_polars_to_pandas(case_ids_valid)\n",
    "base_test, X_test, y_test = from_polars_to_pandas(case_ids_test)\n",
    "\n",
    "for df in [X_train, X_valid, X_test]:\n",
    "    df = convert_strings(df)"
   ]
  },
  {
   "cell_type": "code",
   "execution_count": 8,
   "id": "eb8448b3",
   "metadata": {
    "execution": {
     "iopub.execute_input": "2024-04-28T18:49:58.927300Z",
     "iopub.status.busy": "2024-04-28T18:49:58.926909Z",
     "iopub.status.idle": "2024-04-28T18:49:58.955407Z",
     "shell.execute_reply": "2024-04-28T18:49:58.954349Z"
    },
    "papermill": {
     "duration": 0.039672,
     "end_time": "2024-04-28T18:49:58.957854",
     "exception": false,
     "start_time": "2024-04-28T18:49:58.918182",
     "status": "completed"
    },
    "tags": []
   },
   "outputs": [],
   "source": [
    "X_submission = data_submission[cols_pred].to_pandas()\n",
    "X_submission = convert_strings(X_submission)"
   ]
  },
  {
   "cell_type": "code",
   "execution_count": 9,
   "id": "fd3ce78d",
   "metadata": {
    "execution": {
     "iopub.execute_input": "2024-04-28T18:49:58.974741Z",
     "iopub.status.busy": "2024-04-28T18:49:58.974028Z",
     "iopub.status.idle": "2024-04-28T18:49:58.979715Z",
     "shell.execute_reply": "2024-04-28T18:49:58.978694Z"
    },
    "papermill": {
     "duration": 0.016306,
     "end_time": "2024-04-28T18:49:58.981883",
     "exception": false,
     "start_time": "2024-04-28T18:49:58.965577",
     "status": "completed"
    },
    "tags": []
   },
   "outputs": [
    {
     "name": "stdout",
     "output_type": "stream",
     "text": [
      "Train: (915995, 48)\n",
      "Valid: (305332, 48)\n",
      "Test: (305332, 48)\n"
     ]
    }
   ],
   "source": [
    "print(f\"Train: {X_train.shape}\")\n",
    "print(f\"Valid: {X_valid.shape}\")\n",
    "print(f\"Test: {X_test.shape}\")"
   ]
  },
  {
   "cell_type": "code",
   "execution_count": 10,
   "id": "935357b3",
   "metadata": {
    "execution": {
     "iopub.execute_input": "2024-04-28T18:49:58.998060Z",
     "iopub.status.busy": "2024-04-28T18:49:58.997728Z",
     "iopub.status.idle": "2024-04-28T18:49:59.577996Z",
     "shell.execute_reply": "2024-04-28T18:49:59.577182Z"
    },
    "papermill": {
     "duration": 0.59169,
     "end_time": "2024-04-28T18:49:59.580942",
     "exception": false,
     "start_time": "2024-04-28T18:49:58.989252",
     "status": "completed"
    },
    "tags": []
   },
   "outputs": [],
   "source": [
    "def fill_na(df, fill_value_numeric=0, fill_value_categorical='Missing', fill_value_default='Unknown'):\n",
    "    \"\"\"\n",
    "    Fills missing values in a DataFrame.\n",
    "\n",
    "    Parameters:\n",
    "    df (pd.DataFrame): The DataFrame to fill missing values in.\n",
    "    fill_value_numeric (int or float): The value to fill missing values with in numeric columns.\n",
    "    fill_value_categorical (str): The value to fill missing values with in categorical columns.\n",
    "    fill_value_default (str): The value to fill missing values with in other types of columns.\n",
    "\n",
    "    Returns:\n",
    "    pd.DataFrame: DataFrame with missing values filled.\n",
    "    \"\"\"\n",
    "    for col in df.columns:\n",
    "        if df[col].dtype.name == 'category':\n",
    "            # Add a new category for missing values and fill with it\n",
    "            df[col] = df[col].cat.add_categories([fill_value_categorical]).fillna(fill_value_categorical)\n",
    "        elif pd.api.types.is_numeric_dtype(df[col]):\n",
    "            # Fill numeric columns with the specified numeric value\n",
    "            df[col] = df[col].fillna(fill_value_numeric)\n",
    "        else:\n",
    "            # Fill other types of columns with the specified default value\n",
    "            df[col] = df[col].fillna(fill_value_default)\n",
    "    return df\n",
    "\n",
    "\n",
    "X_train= fill_na(X_train)\n",
    "X_valid = fill_na(X_valid)\n",
    "X_test = fill_na(X_test)\n",
    "X_submission = fill_na(X_submission)"
   ]
  },
  {
   "cell_type": "code",
   "execution_count": 11,
   "id": "0e101955",
   "metadata": {
    "execution": {
     "iopub.execute_input": "2024-04-28T18:49:59.598228Z",
     "iopub.status.busy": "2024-04-28T18:49:59.597572Z",
     "iopub.status.idle": "2024-04-28T18:49:59.604926Z",
     "shell.execute_reply": "2024-04-28T18:49:59.603914Z"
    },
    "papermill": {
     "duration": 0.018099,
     "end_time": "2024-04-28T18:49:59.606972",
     "exception": false,
     "start_time": "2024-04-28T18:49:59.588873",
     "status": "completed"
    },
    "tags": []
   },
   "outputs": [],
   "source": [
    "cat_cols = [col for col in X_train.columns if X_train[col].dtype == 'category']\n",
    "num_cols = [col for col in X_train.columns if col not in cat_cols]"
   ]
  },
  {
   "cell_type": "code",
   "execution_count": 12,
   "id": "01fdaaaa",
   "metadata": {
    "execution": {
     "iopub.execute_input": "2024-04-28T18:49:59.623525Z",
     "iopub.status.busy": "2024-04-28T18:49:59.623157Z",
     "iopub.status.idle": "2024-04-28T18:50:09.646215Z",
     "shell.execute_reply": "2024-04-28T18:50:09.645121Z"
    },
    "papermill": {
     "duration": 10.034257,
     "end_time": "2024-04-28T18:50:09.648777",
     "exception": false,
     "start_time": "2024-04-28T18:49:59.614520",
     "status": "completed"
    },
    "tags": []
   },
   "outputs": [],
   "source": [
    "from sklearn.preprocessing import LabelEncoder\n",
    "\n",
    "label_encoders = {}\n",
    "for col in cat_cols:\n",
    "    le = LabelEncoder()\n",
    "    all_values = pd.concat([X_train[col], X_valid[col],X_test[col],X_submission[col]], axis=0).astype(str)\n",
    "    le.fit(all_values)\n",
    "    X_train[col] = le.transform(X_train[col].astype(str))\n",
    "    X_valid[col] = le.transform(X_valid[col].astype(str))\n",
    "    X_test[col] = le.transform(X_test[col].astype(str))\n",
    "    X_submission[col] = le.transform(X_submission[col].astype(str))\n",
    "    label_encoders[col] = le\n",
    "\n",
    "X_test_combined = np.hstack([X_test[cat_cols].values, X_test[num_cols].values])\n",
    "X_train_combined = np.hstack([X_train[cat_cols].values, X_train[num_cols].values])\n",
    "X_valid_combined = np.hstack([X_valid[cat_cols].values, X_valid[num_cols].values])\n",
    "X_submission_combined = np.hstack([X_submission[cat_cols].values, X_submission[num_cols].values])\n",
    "\n",
    "X_test = X_test_combined.astype('float32')\n",
    "X_train = X_train_combined.astype('float32')\n",
    "X_valid = X_valid_combined.astype('float32')\n",
    "X_submission = X_submission_combined.astype('float32')"
   ]
  },
  {
   "cell_type": "code",
   "execution_count": 13,
   "id": "98d3ec00",
   "metadata": {
    "execution": {
     "iopub.execute_input": "2024-04-28T18:50:09.666549Z",
     "iopub.status.busy": "2024-04-28T18:50:09.666155Z",
     "iopub.status.idle": "2024-04-28T18:50:09.671704Z",
     "shell.execute_reply": "2024-04-28T18:50:09.670509Z"
    },
    "papermill": {
     "duration": 0.017576,
     "end_time": "2024-04-28T18:50:09.674283",
     "exception": false,
     "start_time": "2024-04-28T18:50:09.656707",
     "status": "completed"
    },
    "tags": []
   },
   "outputs": [
    {
     "name": "stdout",
     "output_type": "stream",
     "text": [
      "<class 'numpy.ndarray'>\n",
      "<class 'pandas.core.series.Series'>\n",
      "<class 'numpy.ndarray'>\n",
      "<class 'pandas.core.series.Series'>\n"
     ]
    }
   ],
   "source": [
    "print(type(X_train))\n",
    "print(type(y_train))\n",
    "print(type(X_valid))\n",
    "print(type(y_valid))"
   ]
  },
  {
   "cell_type": "markdown",
   "id": "ae8e559c",
   "metadata": {
    "papermill": {
     "duration": 0.007487,
     "end_time": "2024-04-28T18:50:09.689416",
     "exception": false,
     "start_time": "2024-04-28T18:50:09.681929",
     "status": "completed"
    },
    "tags": []
   },
   "source": [
    "## **Deep Learning**\n",
    "\n",
    "Deep learning is a type of machine learning that is used to teach artificial neural networks how to learn from vast amounts of data. These neural networks are designed to mimic the structure of the human brain, and they are composed of layers of interconnected nodes called neurons that work in concert to process and analyze information.\n",
    "\n",
    "In the process of deep learning, the neural network is fed large amounts of data and then adjusts its parameters through a process called backpropagation to minimize the difference between its predicted output and the actual output. This allows the neural network to recognize patterns and make accurate predictions.\n",
    "\n",
    "Deep learning has many practical applications, such as image and speech recognition, natural language processing, and self-driving cars. It has revolutionized the field of artificial intelligence and has contributed to significant advancements in research and development."
   ]
  },
  {
   "cell_type": "code",
   "execution_count": null,
   "id": "24ebd714",
   "metadata": {
    "execution": {
     "iopub.execute_input": "2024-04-28T17:41:20.334168Z",
     "iopub.status.busy": "2024-04-28T17:41:20.333095Z",
     "iopub.status.idle": "2024-04-28T17:41:20.353427Z",
     "shell.execute_reply": "2024-04-28T17:41:20.352138Z",
     "shell.execute_reply.started": "2024-04-28T17:41:20.334126Z"
    },
    "papermill": {
     "duration": 0.007167,
     "end_time": "2024-04-28T18:50:09.704118",
     "exception": false,
     "start_time": "2024-04-28T18:50:09.696951",
     "status": "completed"
    },
    "tags": []
   },
   "outputs": [],
   "source": []
  },
  {
   "cell_type": "code",
   "execution_count": 14,
   "id": "8f9d170a",
   "metadata": {
    "execution": {
     "iopub.execute_input": "2024-04-28T18:50:09.720627Z",
     "iopub.status.busy": "2024-04-28T18:50:09.720276Z",
     "iopub.status.idle": "2024-04-28T18:50:26.799835Z",
     "shell.execute_reply": "2024-04-28T18:50:26.798724Z"
    },
    "papermill": {
     "duration": 17.090545,
     "end_time": "2024-04-28T18:50:26.802221",
     "exception": false,
     "start_time": "2024-04-28T18:50:09.711676",
     "status": "completed"
    },
    "tags": []
   },
   "outputs": [
    {
     "name": "stderr",
     "output_type": "stream",
     "text": [
      "2024-04-28 18:50:15.467763: E external/local_xla/xla/stream_executor/cuda/cuda_dnn.cc:9261] Unable to register cuDNN factory: Attempting to register factory for plugin cuDNN when one has already been registered\n",
      "2024-04-28 18:50:15.467889: E external/local_xla/xla/stream_executor/cuda/cuda_fft.cc:607] Unable to register cuFFT factory: Attempting to register factory for plugin cuFFT when one has already been registered\n",
      "2024-04-28 18:50:15.632559: E external/local_xla/xla/stream_executor/cuda/cuda_blas.cc:1515] Unable to register cuBLAS factory: Attempting to register factory for plugin cuBLAS when one has already been registered\n"
     ]
    },
    {
     "name": "stdout",
     "output_type": "stream",
     "text": [
      "DeepNeuralNetwork(\n",
      "  (layer_stack): Sequential(\n",
      "    (0): Linear(in_features=48, out_features=512, bias=True)\n",
      "    (1): BatchNorm1d(512, eps=1e-05, momentum=0.1, affine=True, track_running_stats=True)\n",
      "    (2): LeakyReLU(negative_slope=0.1)\n",
      "    (3): Dropout(p=0.25, inplace=False)\n",
      "    (4): Linear(in_features=512, out_features=256, bias=True)\n",
      "    (5): BatchNorm1d(256, eps=1e-05, momentum=0.1, affine=True, track_running_stats=True)\n",
      "    (6): LeakyReLU(negative_slope=0.1)\n",
      "    (7): Dropout(p=0.25, inplace=False)\n",
      "    (8): Linear(in_features=256, out_features=128, bias=True)\n",
      "    (9): BatchNorm1d(128, eps=1e-05, momentum=0.1, affine=True, track_running_stats=True)\n",
      "    (10): LeakyReLU(negative_slope=0.1)\n",
      "    (11): Dropout(p=0.25, inplace=False)\n",
      "    (12): Linear(in_features=128, out_features=64, bias=True)\n",
      "    (13): BatchNorm1d(64, eps=1e-05, momentum=0.1, affine=True, track_running_stats=True)\n",
      "    (14): LeakyReLU(negative_slope=0.1)\n",
      "    (15): Dropout(p=0.25, inplace=False)\n",
      "    (16): Linear(in_features=64, out_features=32, bias=True)\n",
      "    (17): BatchNorm1d(32, eps=1e-05, momentum=0.1, affine=True, track_running_stats=True)\n",
      "    (18): LeakyReLU(negative_slope=0.1)\n",
      "    (19): Dropout(p=0.25, inplace=False)\n",
      "    (20): Linear(in_features=32, out_features=16, bias=True)\n",
      "    (21): BatchNorm1d(16, eps=1e-05, momentum=0.1, affine=True, track_running_stats=True)\n",
      "    (22): LeakyReLU(negative_slope=0.1)\n",
      "    (23): Dropout(p=0.25, inplace=False)\n",
      "    (24): Linear(in_features=16, out_features=1, bias=True)\n",
      "    (25): Sigmoid()\n",
      "  )\n",
      ")\n"
     ]
    }
   ],
   "source": [
    "import torch\n",
    "import torch.nn as nn\n",
    "import torch.optim as optim\n",
    "from torch.utils.tensorboard import SummaryWriter\n",
    "\n",
    "class DeepNeuralNetwork(nn.Module):\n",
    "    def __init__(self, num_features):\n",
    "        super(DeepNeuralNetwork, self).__init__()\n",
    "        self.layer_stack = nn.Sequential(\n",
    "            nn.Linear(num_features, 512),\n",
    "            nn.BatchNorm1d(512),\n",
    "            nn.LeakyReLU(0.1),\n",
    "            nn.Dropout(0.25),\n",
    "\n",
    "            nn.Linear(512, 256),\n",
    "            nn.BatchNorm1d(256),\n",
    "            nn.LeakyReLU(0.1),\n",
    "            nn.Dropout(0.25),\n",
    "\n",
    "            nn.Linear(256, 128),\n",
    "            nn.BatchNorm1d(128),\n",
    "            nn.LeakyReLU(0.1),\n",
    "            nn.Dropout(0.25),\n",
    "\n",
    "            nn.Linear(128, 64),\n",
    "            nn.BatchNorm1d(64),\n",
    "            nn.LeakyReLU(0.1),\n",
    "            nn.Dropout(0.25),\n",
    "\n",
    "            nn.Linear(64, 32),\n",
    "            nn.BatchNorm1d(32),\n",
    "            nn.LeakyReLU(0.1),\n",
    "            nn.Dropout(0.25),\n",
    "\n",
    "            nn.Linear(32, 16),\n",
    "            nn.BatchNorm1d(16),\n",
    "            nn.LeakyReLU(0.1),\n",
    "            nn.Dropout(0.25),\n",
    "\n",
    "            nn.Linear(16, 1),\n",
    "            nn.Sigmoid()\n",
    "        )\n",
    "\n",
    "    def forward(self, x):\n",
    "        return self.layer_stack(x)\n",
    "\n",
    "# Assuming X_train is properly defined and is a tensor\n",
    "num_features = X_train.shape[1]  # Adjust this according to your dataset\n",
    "\n",
    "# Create the model\n",
    "model = DeepNeuralNetwork(num_features)\n",
    "\n",
    "# Define the optimizer with added weight decay\n",
    "optimizer = optim.Adam(model.parameters(), lr=0.0001, weight_decay=1e-4)\n",
    "\n",
    "# Optionally add a learning rate scheduler\n",
    "scheduler = optim.lr_scheduler.StepLR(optimizer, step_size=10, gamma=0.1)\n",
    "\n",
    "# Define the loss function\n",
    "criterion = nn.BCELoss()  # Binary Cross-Entropy Loss\n",
    "\n",
    "# Set up TensorBoard\n",
    "tensorboard_writer = SummaryWriter(log_dir='logs')\n",
    "\n",
    "# Printing the model's architecture\n",
    "print(model)\n"
   ]
  },
  {
   "cell_type": "markdown",
   "id": "8b67eb15",
   "metadata": {
    "papermill": {
     "duration": 0.007414,
     "end_time": "2024-04-28T18:50:26.817395",
     "exception": false,
     "start_time": "2024-04-28T18:50:26.809981",
     "status": "completed"
    },
    "tags": []
   },
   "source": [
    "deep neural network"
   ]
  },
  {
   "cell_type": "code",
   "execution_count": 15,
   "id": "b845704a",
   "metadata": {
    "execution": {
     "iopub.execute_input": "2024-04-28T18:50:26.834482Z",
     "iopub.status.busy": "2024-04-28T18:50:26.833819Z",
     "iopub.status.idle": "2024-04-28T19:13:54.587069Z",
     "shell.execute_reply": "2024-04-28T19:13:54.585841Z"
    },
    "papermill": {
     "duration": 1407.773483,
     "end_time": "2024-04-28T19:13:54.598283",
     "exception": false,
     "start_time": "2024-04-28T18:50:26.824800",
     "status": "completed"
    },
    "tags": []
   },
   "outputs": [
    {
     "name": "stdout",
     "output_type": "stream",
     "text": [
      "Epoch 1/20, Train Loss: 0.2221, Valid Loss: 0.1308, Train AUROC: 0.5342, Valid AUROC: 0.6900\n",
      "Epoch 2/20, Train Loss: 0.1418, Valid Loss: 0.1302, Train AUROC: 0.6298, Valid AUROC: 0.6973\n",
      "Epoch 3/20, Train Loss: 0.1386, Valid Loss: 0.1305, Train AUROC: 0.6478, Valid AUROC: 0.6977\n",
      "Epoch 4/20, Train Loss: 0.1369, Valid Loss: 0.1295, Train AUROC: 0.6571, Valid AUROC: 0.7055\n",
      "Epoch 5/20, Train Loss: 0.1359, Valid Loss: 0.1295, Train AUROC: 0.6652, Valid AUROC: 0.7070\n",
      "Epoch 6/20, Train Loss: 0.1348, Valid Loss: 0.1290, Train AUROC: 0.6736, Valid AUROC: 0.7114\n",
      "Epoch 7/20, Train Loss: 0.1344, Valid Loss: 0.1293, Train AUROC: 0.6770, Valid AUROC: 0.7074\n",
      "Epoch 8/20, Train Loss: 0.1339, Valid Loss: 0.1288, Train AUROC: 0.6806, Valid AUROC: 0.7127\n",
      "Epoch 9/20, Train Loss: 0.1338, Valid Loss: 0.1292, Train AUROC: 0.6814, Valid AUROC: 0.7097\n",
      "Epoch 10/20, Train Loss: 0.1333, Valid Loss: 0.1289, Train AUROC: 0.6855, Valid AUROC: 0.7116\n",
      "Epoch 11/20, Train Loss: 0.1329, Valid Loss: 0.1290, Train AUROC: 0.6898, Valid AUROC: 0.7128\n",
      "Epoch 12/20, Train Loss: 0.1327, Valid Loss: 0.1289, Train AUROC: 0.6915, Valid AUROC: 0.7137\n",
      "Epoch 13/20, Train Loss: 0.1326, Valid Loss: 0.1287, Train AUROC: 0.6930, Valid AUROC: 0.7130\n",
      "Epoch 14/20, Train Loss: 0.1325, Valid Loss: 0.1285, Train AUROC: 0.6936, Valid AUROC: 0.7154\n",
      "Epoch 15/20, Train Loss: 0.1322, Valid Loss: 0.1284, Train AUROC: 0.6970, Valid AUROC: 0.7156\n",
      "Epoch 16/20, Train Loss: 0.1322, Valid Loss: 0.1288, Train AUROC: 0.6958, Valid AUROC: 0.7138\n",
      "Epoch 17/20, Train Loss: 0.1321, Valid Loss: 0.1286, Train AUROC: 0.6973, Valid AUROC: 0.7156\n",
      "Epoch 18/20, Train Loss: 0.1319, Valid Loss: 0.1285, Train AUROC: 0.6997, Valid AUROC: 0.7167\n",
      "Epoch 19/20, Train Loss: 0.1318, Valid Loss: 0.1283, Train AUROC: 0.6999, Valid AUROC: 0.7167\n",
      "Epoch 20/20, Train Loss: 0.1317, Valid Loss: 0.1286, Train AUROC: 0.7008, Valid AUROC: 0.7140\n"
     ]
    }
   ],
   "source": [
    "import torch\n",
    "from torch.utils.data import DataLoader, TensorDataset\n",
    "import torchmetrics\n",
    "import numpy as np\n",
    "\n",
    "# Convert your data to PyTorch tensors\n",
    "X_train_tensor = torch.tensor(X_train.astype('float32'))\n",
    "y_train_tensor = torch.tensor(y_train.astype('float32'))\n",
    "X_valid_tensor = torch.tensor(X_valid.astype('float32'))\n",
    "y_valid_tensor = torch.tensor(y_valid.astype('float32'))\n",
    "\n",
    "# Create TensorDataset objects\n",
    "train_dataset = TensorDataset(X_train_tensor, y_train_tensor)\n",
    "valid_dataset = TensorDataset(X_valid_tensor, y_valid_tensor)\n",
    "\n",
    "# Create DataLoader objects\n",
    "train_loader = DataLoader(train_dataset, batch_size=128, shuffle=True)\n",
    "valid_loader = DataLoader(valid_dataset, batch_size=128, shuffle=False)\n",
    "\n",
    "# Training and Validation Functions with AUROC calculation\n",
    "def train(model, criterion, optimizer, loader, auroc_metric):\n",
    "    model.train()\n",
    "    total_loss = 0\n",
    "    auroc_metric.reset()\n",
    "    for inputs, targets in loader:\n",
    "        optimizer.zero_grad()\n",
    "        outputs = model(inputs)\n",
    "        loss = criterion(outputs.squeeze(), targets)\n",
    "        loss.backward()\n",
    "        optimizer.step()\n",
    "        total_loss += loss.item()\n",
    "        auroc_metric.update(outputs.sigmoid(), targets.int())  # Ensure outputs are sigmoid probabilities and targets are integers\n",
    "    train_auroc = auroc_metric.compute()\n",
    "    return total_loss / len(loader), train_auroc\n",
    "\n",
    "def validate(model, criterion, loader, auroc_metric):\n",
    "    model.eval()\n",
    "    total_loss = 0\n",
    "    auroc_metric.reset()\n",
    "    with torch.no_grad():\n",
    "        for inputs, targets in loader:\n",
    "            outputs = model(inputs)\n",
    "            loss = criterion(outputs.squeeze(), targets)\n",
    "            total_loss += loss.item()\n",
    "            auroc_metric.update(outputs.sigmoid(), targets.int())  # Ensure outputs are sigmoid probabilities and targets are integers\n",
    "    val_auroc = auroc_metric.compute()\n",
    "    return total_loss / len(loader), val_auroc\n",
    "\n",
    "# Metrics initialized correctly for binary classification\n",
    "train_auroc_metric = torchmetrics.AUROC(task='binary')\n",
    "valid_auroc_metric = torchmetrics.AUROC(task='binary')\n",
    "\n",
    "# Initialize lists to store per-epoch training and validation loss and AUROC\n",
    "train_losses = []\n",
    "valid_losses = []\n",
    "train_aurocs = []\n",
    "valid_aurocs = []\n",
    "\n",
    "# Main training loop\n",
    "epochs = 20\n",
    "for epoch in range(epochs):\n",
    "    train_loss, train_auroc = train(model, criterion, optimizer, train_loader, train_auroc_metric)\n",
    "    valid_loss, valid_auroc = validate(model, criterion, valid_loader, valid_auroc_metric)\n",
    "    train_losses.append(train_loss)\n",
    "    valid_losses.append(valid_loss)\n",
    "    train_aurocs.append(train_auroc)\n",
    "    valid_aurocs.append(valid_auroc)\n",
    "    print(f'Epoch {epoch+1}/{epochs}, Train Loss: {train_loss:.4f}, Valid Loss: {valid_loss:.4f}, Train AUROC: {train_auroc:.4f}, Valid AUROC: {valid_auroc:.4f}')\n",
    "\n",
    "tensorboard_writer.close()"
   ]
  },
  {
   "cell_type": "code",
   "execution_count": 16,
   "id": "d7d33f0b",
   "metadata": {
    "execution": {
     "iopub.execute_input": "2024-04-28T19:13:54.618698Z",
     "iopub.status.busy": "2024-04-28T19:13:54.618008Z",
     "iopub.status.idle": "2024-04-28T19:13:55.256341Z",
     "shell.execute_reply": "2024-04-28T19:13:55.255202Z"
    },
    "papermill": {
     "duration": 0.651389,
     "end_time": "2024-04-28T19:13:55.258793",
     "exception": false,
     "start_time": "2024-04-28T19:13:54.607404",
     "status": "completed"
    },
    "tags": []
   },
   "outputs": [
    {
     "data": {
      "image/png": "[encoded data removed]",
      "text/plain": [
       "<Figure size 1000x500 with 1 Axes>"
      ]
     },
     "metadata": {},
     "output_type": "display_data"
    },
    {
     "data": {
      "image/png": "[encoded data removed]",
      "text/plain": [
       "<Figure size 1000x500 with 1 Axes>"
      ]
     },
     "metadata": {},
     "output_type": "display_data"
    }
   ],
   "source": [
    "import matplotlib.pyplot as plt\n",
    "import numpy as np\n",
    "\n",
    "# Plot training and validation loss with standard deviation shading\n",
    "plt.figure(figsize=(10, 5))\n",
    "\n",
    "# Training loss and its standard deviation\n",
    "train_loss_std = np.std(train_losses)\n",
    "valid_loss_std = np.std(valid_losses)\n",
    "\n",
    "plt.plot(train_losses, label='Training Loss')\n",
    "plt.fill_between(range(len(train_losses)),\n",
    "                 np.array(train_losses) - train_loss_std,\n",
    "                 np.array(train_losses) + train_loss_std,\n",
    "                 color='gray', alpha=0.2)\n",
    "\n",
    "# Validation loss and its standard deviation\n",
    "plt.plot(valid_losses, label='Validation Loss')\n",
    "plt.fill_between(range(len(valid_losses)),\n",
    "                 np.array(valid_losses) - valid_loss_std,\n",
    "                 np.array(valid_losses) + valid_loss_std,\n",
    "                 color='gray', alpha=0.2)\n",
    "\n",
    "plt.title('Training and Validation Loss')\n",
    "plt.xlabel('Epochs')\n",
    "plt.ylabel('Loss')\n",
    "plt.legend()\n",
    "plt.show()\n",
    "\n",
    "# Plot training and validation AUC with standard deviation shading\n",
    "plt.figure(figsize=(10, 5))\n",
    "\n",
    "# AUC standard deviation\n",
    "train_auroc_std = np.std(train_aurocs)\n",
    "valid_auroc_std = np.std(valid_aurocs)\n",
    "\n",
    "plt.plot(train_aurocs, label='Training AUROC')\n",
    "plt.fill_between(range(len(train_aurocs)),\n",
    "                 np.array(train_aurocs) - train_auroc_std,\n",
    "                 np.array(train_aurocs) + train_auroc_std,\n",
    "                 color='gray', alpha=0.2)\n",
    "\n",
    "plt.plot(valid_aurocs, label='Validation AUROC')\n",
    "plt.fill_between(range(len(valid_aurocs)),\n",
    "                 np.array(valid_aurocs) - valid_auroc_std,\n",
    "                 np.array(valid_aurocs) + valid_auroc_std,\n",
    "                 color='gray', alpha=0.2)\n",
    "\n",
    "plt.title('Training and Validation AUROC')\n",
    "plt.xlabel('Epochs')\n",
    "plt.ylabel('AUROC')\n",
    "plt.legend()\n",
    "plt.show()"
   ]
  },
  {
   "cell_type": "markdown",
   "id": "cefea594",
   "metadata": {
    "papermill": {
     "duration": 0.010142,
     "end_time": "2024-04-28T19:13:55.279583",
     "exception": false,
     "start_time": "2024-04-28T19:13:55.269441",
     "status": "completed"
    },
    "tags": []
   },
   "source": [
    "After running the code, TensorBoard logs can be visualized using the following command. This will open a web interface where you can view the loss and other metrics."
   ]
  },
  {
   "cell_type": "code",
   "execution_count": 17,
   "id": "95d4be04",
   "metadata": {
    "execution": {
     "iopub.execute_input": "2024-04-28T19:13:55.302159Z",
     "iopub.status.busy": "2024-04-28T19:13:55.301791Z",
     "iopub.status.idle": "2024-04-28T19:13:55.305783Z",
     "shell.execute_reply": "2024-04-28T19:13:55.304763Z"
    },
    "papermill": {
     "duration": 0.018151,
     "end_time": "2024-04-28T19:13:55.307993",
     "exception": false,
     "start_time": "2024-04-28T19:13:55.289842",
     "status": "completed"
    },
    "tags": []
   },
   "outputs": [],
   "source": [
    "# %load_ext tensorboard\n",
    "# %tensorboard --logdir logs"
   ]
  },
  {
   "cell_type": "markdown",
   "id": "5347ea4c",
   "metadata": {
    "papermill": {
     "duration": 0.010213,
     "end_time": "2024-04-28T19:13:55.329181",
     "exception": false,
     "start_time": "2024-04-28T19:13:55.318968",
     "status": "completed"
    },
    "tags": []
   },
   "source": [
    "We will now evaluate the neural network performance with AUC and gini stability below."
   ]
  },
  {
   "cell_type": "code",
   "execution_count": 18,
   "id": "4cca99f6",
   "metadata": {
    "execution": {
     "iopub.execute_input": "2024-04-28T19:13:55.352416Z",
     "iopub.status.busy": "2024-04-28T19:13:55.351750Z",
     "iopub.status.idle": "2024-04-28T19:14:28.068070Z",
     "shell.execute_reply": "2024-04-28T19:14:28.066481Z"
    },
    "papermill": {
     "duration": 32.735754,
     "end_time": "2024-04-28T19:14:28.075719",
     "exception": false,
     "start_time": "2024-04-28T19:13:55.339965",
     "status": "completed"
    },
    "tags": []
   },
   "outputs": [
    {
     "name": "stdout",
     "output_type": "stream",
     "text": [
      "The AUC score on the train set is: 0.7210383329301211\n",
      "The AUC score on the valid set is: 0.7140300604477774\n",
      "The AUC score on the test set is: 0.7148901854877854\n"
     ]
    }
   ],
   "source": [
    "import torch\n",
    "from sklearn.metrics import roc_auc_score\n",
    "\n",
    "# Assuming model is your trained PyTorch model\n",
    "model.eval()  # Set the model to evaluation mode\n",
    "\n",
    "for base, X in [(base_train, X_train), (base_valid, X_valid), (base_test, X_test)]:\n",
    "    # Convert data to PyTorch tensor\n",
    "    X_tensor = torch.tensor(X.astype('float32'))\n",
    "    \n",
    "    # If using GPU, transfer data to GPU\n",
    "    # X_tensor = X_tensor.to(device)  # Uncomment if you are using a device (GPU/CPU)\n",
    "\n",
    "    # Get predictions from the neural network model\n",
    "    with torch.no_grad():  # No need to track gradients for prediction\n",
    "        y_pred = model(X_tensor).squeeze().numpy()  # .squeeze() to remove extra dimensions, .numpy() to convert to NumPy array\n",
    "    \n",
    "    # Store predictions in the DataFrame\n",
    "    base[\"score\"] = y_pred\n",
    "\n",
    "# Print AUC scores using scikit-learn's roc_auc_score function\n",
    "print(f'The AUC score on the train set is: {roc_auc_score(base_train[\"target\"], base_train[\"score\"])}') \n",
    "print(f'The AUC score on the valid set is: {roc_auc_score(base_valid[\"target\"], base_valid[\"score\"])}') \n",
    "print(f'The AUC score on the test set is: {roc_auc_score(base_test[\"target\"], base_test[\"score\"])}')"
   ]
  },
  {
   "cell_type": "code",
   "execution_count": 19,
   "id": "0623558b",
   "metadata": {
    "execution": {
     "iopub.execute_input": "2024-04-28T19:14:28.100185Z",
     "iopub.status.busy": "2024-04-28T19:14:28.099705Z",
     "iopub.status.idle": "2024-04-28T19:14:29.161834Z",
     "shell.execute_reply": "2024-04-28T19:14:29.160760Z"
    },
    "papermill": {
     "duration": 1.077462,
     "end_time": "2024-04-28T19:14:29.164165",
     "exception": false,
     "start_time": "2024-04-28T19:14:28.086703",
     "status": "completed"
    },
    "tags": []
   },
   "outputs": [
    {
     "name": "stdout",
     "output_type": "stream",
     "text": [
      "The stability score on the train set is: 0.4157497921492467\n",
      "The stability score on the valid set is: 0.3924292414286484\n",
      "The stability score on the test set is: 0.39633677138387113\n"
     ]
    }
   ],
   "source": [
    "def gini_stability(base, w_fallingrate=88.0, w_resstd=-0.5):\n",
    "    gini_in_time = base.loc[:, [\"WEEK_NUM\", \"target\", \"score\"]]\\\n",
    "        .sort_values(\"WEEK_NUM\")\\\n",
    "        .groupby(\"WEEK_NUM\")[[\"target\", \"score\"]]\\\n",
    "        .apply(lambda x: 2*roc_auc_score(x[\"target\"], x[\"score\"])-1).tolist()\n",
    "    \n",
    "    x = np.arange(len(gini_in_time))\n",
    "    y = gini_in_time\n",
    "    a, b = np.polyfit(x, y, 1)\n",
    "    y_hat = a*x + b\n",
    "    residuals = y - y_hat\n",
    "    res_std = np.std(residuals)\n",
    "    avg_gini = np.mean(gini_in_time)\n",
    "    return avg_gini + w_fallingrate * min(0, a) + w_resstd * res_std\n",
    "\n",
    "stability_score_train = gini_stability(base_train)\n",
    "stability_score_valid = gini_stability(base_valid)\n",
    "stability_score_test = gini_stability(base_test)\n",
    "\n",
    "print(f'The stability score on the train set is: {stability_score_train}') \n",
    "print(f'The stability score on the valid set is: {stability_score_valid}') \n",
    "print(f'The stability score on the test set is: {stability_score_test}')  "
   ]
  },
  {
   "cell_type": "markdown",
   "id": "a3ff116b",
   "metadata": {
    "papermill": {
     "duration": 0.013642,
     "end_time": "2024-04-28T19:14:29.189813",
     "exception": false,
     "start_time": "2024-04-28T19:14:29.176171",
     "status": "completed"
    },
    "tags": []
   },
   "source": [
    "## **Submission**\n",
    "\n",
    "We will now make predictions with the neural network for the submission dataset."
   ]
  },
  {
   "cell_type": "code",
   "execution_count": 20,
   "id": "558da58f",
   "metadata": {
    "execution": {
     "iopub.execute_input": "2024-04-28T19:14:29.213786Z",
     "iopub.status.busy": "2024-04-28T19:14:29.213376Z",
     "iopub.status.idle": "2024-04-28T19:14:29.232863Z",
     "shell.execute_reply": "2024-04-28T19:14:29.231696Z"
    },
    "papermill": {
     "duration": 0.034283,
     "end_time": "2024-04-28T19:14:29.235099",
     "exception": false,
     "start_time": "2024-04-28T19:14:29.200816",
     "status": "completed"
    },
    "tags": []
   },
   "outputs": [
    {
     "name": "stdout",
     "output_type": "stream",
     "text": [
      "Submission saved to: /kaggle/working//submission.csv\n"
     ]
    }
   ],
   "source": [
    "import torch\n",
    "import pandas as pd\n",
    "\n",
    "# Assuming model is your trained PyTorch model and X_submission is your input features as a numpy array\n",
    "model.eval()  # Set the model to evaluation mode\n",
    "\n",
    "# Convert X_submission to a PyTorch tensor\n",
    "X_submission_tensor = torch.tensor(X_submission.astype('float32'))\n",
    "\n",
    "# Get predictions from the PyTorch model\n",
    "with torch.no_grad():  # No need to track gradients for prediction\n",
    "    y_submission_pred = model(X_submission_tensor).squeeze().numpy()\n",
    "\n",
    "# Create a pandas DataFrame for submission\n",
    "submission = pd.DataFrame({\n",
    "    \"case_id\": data_submission[\"case_id\"].to_numpy(),\n",
    "    \"score\": y_submission_pred\n",
    "}).set_index('case_id')\n",
    "\n",
    "# # Save submission DataFrame to a CSV file\n",
    "submission.to_csv(\"/kaggle/working/submission.csv\")\n",
    "\n",
    "# If you need to retrieve the file path to the saved CSV:\n",
    "submission_file_path = \"/kaggle/working//submission.csv\"\n",
    "print(f\"Submission saved to: {submission_file_path}\")"
   ]
  },
  {
   "cell_type": "markdown",
   "id": "1df73bb6",
   "metadata": {
    "papermill": {
     "duration": 0.011066,
     "end_time": "2024-04-28T19:14:29.256944",
     "exception": false,
     "start_time": "2024-04-28T19:14:29.245878",
     "status": "completed"
    },
    "tags": []
   },
   "source": [
    "View the submission dataframe."
   ]
  },
  {
   "cell_type": "code",
   "execution_count": 21,
   "id": "832d84d1",
   "metadata": {
    "execution": {
     "iopub.execute_input": "2024-04-28T19:14:29.284993Z",
     "iopub.status.busy": "2024-04-28T19:14:29.284049Z",
     "iopub.status.idle": "2024-04-28T19:14:29.301722Z",
     "shell.execute_reply": "2024-04-28T19:14:29.300621Z"
    },
    "papermill": {
     "duration": 0.035887,
     "end_time": "2024-04-28T19:14:29.304036",
     "exception": false,
     "start_time": "2024-04-28T19:14:29.268149",
     "status": "completed"
    },
    "tags": []
   },
   "outputs": [
    {
     "data": {
      "text/html": [
       "<div>\n",
       "<style scoped>\n",
       "    .dataframe tbody tr th:only-of-type {\n",
       "        vertical-align: middle;\n",
       "    }\n",
       "\n",
       "    .dataframe tbody tr th {\n",
       "        vertical-align: top;\n",
       "    }\n",
       "\n",
       "    .dataframe thead th {\n",
       "        text-align: right;\n",
       "    }\n",
       "</style>\n",
       "<table border=\"1\" class=\"dataframe\">\n",
       "  <thead>\n",
       "    <tr style=\"text-align: right;\">\n",
       "      <th></th>\n",
       "      <th>score</th>\n",
       "    </tr>\n",
       "    <tr>\n",
       "      <th>case_id</th>\n",
       "      <th></th>\n",
       "    </tr>\n",
       "  </thead>\n",
       "  <tbody>\n",
       "    <tr>\n",
       "      <th>57543</th>\n",
       "      <td>0.023370</td>\n",
       "    </tr>\n",
       "    <tr>\n",
       "      <th>57549</th>\n",
       "      <td>0.022449</td>\n",
       "    </tr>\n",
       "    <tr>\n",
       "      <th>57551</th>\n",
       "      <td>0.004430</td>\n",
       "    </tr>\n",
       "    <tr>\n",
       "      <th>57552</th>\n",
       "      <td>0.019626</td>\n",
       "    </tr>\n",
       "    <tr>\n",
       "      <th>57569</th>\n",
       "      <td>0.041302</td>\n",
       "    </tr>\n",
       "    <tr>\n",
       "      <th>57630</th>\n",
       "      <td>0.030325</td>\n",
       "    </tr>\n",
       "    <tr>\n",
       "      <th>57631</th>\n",
       "      <td>0.056165</td>\n",
       "    </tr>\n",
       "    <tr>\n",
       "      <th>57632</th>\n",
       "      <td>0.001444</td>\n",
       "    </tr>\n",
       "    <tr>\n",
       "      <th>57633</th>\n",
       "      <td>0.070438</td>\n",
       "    </tr>\n",
       "    <tr>\n",
       "      <th>57634</th>\n",
       "      <td>0.007888</td>\n",
       "    </tr>\n",
       "  </tbody>\n",
       "</table>\n",
       "</div>"
      ],
      "text/plain": [
       "            score\n",
       "case_id          \n",
       "57543    0.023370\n",
       "57549    0.022449\n",
       "57551    0.004430\n",
       "57552    0.019626\n",
       "57569    0.041302\n",
       "57630    0.030325\n",
       "57631    0.056165\n",
       "57632    0.001444\n",
       "57633    0.070438\n",
       "57634    0.007888"
      ]
     },
     "execution_count": 21,
     "metadata": {},
     "output_type": "execute_result"
    }
   ],
   "source": [
    "submission"
   ]
  }
 ],
 "metadata": {
  "kaggle": {
   "accelerator": "none",
   "dataSources": [
    {
     "databundleVersionId": 7921029,
     "sourceId": 50160,
     "sourceType": "competition"
    }
   ],
   "dockerImageVersionId": 30698,
   "isGpuEnabled": false,
   "isInternetEnabled": false,
   "language": "python",
   "sourceType": "notebook"
  },
  "kernelspec": {
   "display_name": "Python 3",
   "language": "python",
   "name": "python3"
  },
  "language_info": {
   "codemirror_mode": {
    "name": "ipython",
    "version": 3
   },
   "file_extension": ".py",
   "mimetype": "text/x-python",
   "name": "python",
   "nbconvert_exporter": "python",
   "pygments_lexer": "ipython3",
   "version": "3.10.13"
  },
  "papermill": {
   "default_parameters": {},
   "duration": 1502.720316,
   "end_time": "2024-04-28T19:14:32.149437",
   "environment_variables": {},
   "exception": null,
   "input_path": "__notebook__.ipynb",
   "output_path": "__notebook__.ipynb",
   "parameters": {},
   "start_time": "2024-04-28T18:49:29.429121",
   "version": "2.5.0"
  }
 },
 "nbformat": 4,
 "nbformat_minor": 5
}
