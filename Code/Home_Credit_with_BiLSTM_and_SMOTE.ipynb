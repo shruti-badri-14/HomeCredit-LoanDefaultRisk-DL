{
  "cells": [
    {
      "cell_type": "markdown",
      "source": [
        "### Home Credit with BiLSTM and SMOTE\n",
        "\n",
        "### Deep Learning Final Project Kaggle Competition"
      ],
      "metadata": {
        "id": "6Lmtbajo14DO"
      },
      "id": "6Lmtbajo14DO"
    },
    {
      "cell_type": "code",
      "execution_count": null,
      "id": "63a32b86",
      "metadata": {
        "_cell_guid": "b1076dfc-b9ad-4769-8c92-a6c4dae69d19",
        "_kg_hide-input": true,
        "_kg_hide-output": true,
        "_uuid": "8f2839f25d086af736a60e9eeb907d3b93b6e0e5",
        "execution": {
          "iopub.execute_input": "2024-05-09T00:01:21.989227Z",
          "iopub.status.busy": "2024-05-09T00:01:21.988549Z",
          "iopub.status.idle": "2024-05-09T00:01:24.032587Z",
          "shell.execute_reply": "2024-05-09T00:01:24.031683Z"
        },
        "id": "63a32b86",
        "papermill": {
          "duration": 2.061102,
          "end_time": "2024-05-09T00:01:24.035199",
          "exception": false,
          "start_time": "2024-05-09T00:01:21.974097",
          "status": "completed"
        },
        "tags": [],
        "outputId": "93971b2d-d818-4fa7-f70c-58dadc993af3"
      },
      "outputs": [
        {
          "name": "stdout",
          "output_type": "stream",
          "text": [
            "/kaggle/input/home-credit-credit-risk-model-stability/sample_submission.csv\n",
            "/kaggle/input/home-credit-credit-risk-model-stability/feature_definitions.csv\n",
            "/kaggle/input/home-credit-credit-risk-model-stability/parquet_files/test/test_deposit_1.parquet\n",
            "/kaggle/input/home-credit-credit-risk-model-stability/parquet_files/test/test_applprev_2.parquet\n",
            "/kaggle/input/home-credit-credit-risk-model-stability/parquet_files/test/test_static_cb_0.parquet\n",
            "/kaggle/input/home-credit-credit-risk-model-stability/parquet_files/test/test_static_0_0.parquet\n",
            "/kaggle/input/home-credit-credit-risk-model-stability/parquet_files/test/test_credit_bureau_a_1_3.parquet\n",
            "/kaggle/input/home-credit-credit-risk-model-stability/parquet_files/test/test_credit_bureau_a_1_2.parquet\n",
            "/kaggle/input/home-credit-credit-risk-model-stability/parquet_files/test/test_tax_registry_b_1.parquet\n",
            "/kaggle/input/home-credit-credit-risk-model-stability/parquet_files/test/test_static_0_2.parquet\n",
            "/kaggle/input/home-credit-credit-risk-model-stability/parquet_files/test/test_credit_bureau_a_2_3.parquet\n",
            "/kaggle/input/home-credit-credit-risk-model-stability/parquet_files/test/test_credit_bureau_a_2_9.parquet\n",
            "/kaggle/input/home-credit-credit-risk-model-stability/parquet_files/test/test_debitcard_1.parquet\n",
            "/kaggle/input/home-credit-credit-risk-model-stability/parquet_files/test/test_credit_bureau_a_1_1.parquet\n",
            "/kaggle/input/home-credit-credit-risk-model-stability/parquet_files/test/test_credit_bureau_a_2_2.parquet\n",
            "/kaggle/input/home-credit-credit-risk-model-stability/parquet_files/test/test_credit_bureau_a_2_11.parquet\n",
            "/kaggle/input/home-credit-credit-risk-model-stability/parquet_files/test/test_applprev_1_2.parquet\n",
            "/kaggle/input/home-credit-credit-risk-model-stability/parquet_files/test/test_credit_bureau_a_2_1.parquet\n",
            "/kaggle/input/home-credit-credit-risk-model-stability/parquet_files/test/test_credit_bureau_a_1_4.parquet\n",
            "/kaggle/input/home-credit-credit-risk-model-stability/parquet_files/test/test_tax_registry_c_1.parquet\n",
            "/kaggle/input/home-credit-credit-risk-model-stability/parquet_files/test/test_applprev_1_0.parquet\n",
            "/kaggle/input/home-credit-credit-risk-model-stability/parquet_files/test/test_tax_registry_a_1.parquet\n",
            "/kaggle/input/home-credit-credit-risk-model-stability/parquet_files/test/test_credit_bureau_a_2_6.parquet\n",
            "/kaggle/input/home-credit-credit-risk-model-stability/parquet_files/test/test_credit_bureau_a_2_5.parquet\n",
            "/kaggle/input/home-credit-credit-risk-model-stability/parquet_files/test/test_credit_bureau_b_1.parquet\n",
            "/kaggle/input/home-credit-credit-risk-model-stability/parquet_files/test/test_other_1.parquet\n",
            "/kaggle/input/home-credit-credit-risk-model-stability/parquet_files/test/test_static_0_1.parquet\n",
            "/kaggle/input/home-credit-credit-risk-model-stability/parquet_files/test/test_credit_bureau_a_2_0.parquet\n",
            "/kaggle/input/home-credit-credit-risk-model-stability/parquet_files/test/test_applprev_1_1.parquet\n",
            "/kaggle/input/home-credit-credit-risk-model-stability/parquet_files/test/test_base.parquet\n",
            "/kaggle/input/home-credit-credit-risk-model-stability/parquet_files/test/test_person_1.parquet\n",
            "/kaggle/input/home-credit-credit-risk-model-stability/parquet_files/test/test_credit_bureau_a_2_7.parquet\n",
            "/kaggle/input/home-credit-credit-risk-model-stability/parquet_files/test/test_credit_bureau_a_2_10.parquet\n",
            "/kaggle/input/home-credit-credit-risk-model-stability/parquet_files/test/test_credit_bureau_b_2.parquet\n",
            "/kaggle/input/home-credit-credit-risk-model-stability/parquet_files/test/test_credit_bureau_a_2_8.parquet\n",
            "/kaggle/input/home-credit-credit-risk-model-stability/parquet_files/test/test_credit_bureau_a_1_0.parquet\n",
            "/kaggle/input/home-credit-credit-risk-model-stability/parquet_files/test/test_credit_bureau_a_2_4.parquet\n",
            "/kaggle/input/home-credit-credit-risk-model-stability/parquet_files/test/test_person_2.parquet\n",
            "/kaggle/input/home-credit-credit-risk-model-stability/parquet_files/train/train_tax_registry_c_1.parquet\n",
            "/kaggle/input/home-credit-credit-risk-model-stability/parquet_files/train/train_static_0_0.parquet\n",
            "/kaggle/input/home-credit-credit-risk-model-stability/parquet_files/train/train_credit_bureau_a_1_3.parquet\n",
            "/kaggle/input/home-credit-credit-risk-model-stability/parquet_files/train/train_credit_bureau_b_2.parquet\n",
            "/kaggle/input/home-credit-credit-risk-model-stability/parquet_files/train/train_applprev_1_1.parquet\n",
            "/kaggle/input/home-credit-credit-risk-model-stability/parquet_files/train/train_static_cb_0.parquet\n",
            "/kaggle/input/home-credit-credit-risk-model-stability/parquet_files/train/train_other_1.parquet\n",
            "/kaggle/input/home-credit-credit-risk-model-stability/parquet_files/train/train_credit_bureau_a_2_6.parquet\n",
            "/kaggle/input/home-credit-credit-risk-model-stability/parquet_files/train/train_tax_registry_a_1.parquet\n",
            "/kaggle/input/home-credit-credit-risk-model-stability/parquet_files/train/train_tax_registry_b_1.parquet\n",
            "/kaggle/input/home-credit-credit-risk-model-stability/parquet_files/train/train_credit_bureau_a_2_1.parquet\n",
            "/kaggle/input/home-credit-credit-risk-model-stability/parquet_files/train/train_person_1.parquet\n",
            "/kaggle/input/home-credit-credit-risk-model-stability/parquet_files/train/train_person_2.parquet\n",
            "/kaggle/input/home-credit-credit-risk-model-stability/parquet_files/train/train_credit_bureau_b_1.parquet\n",
            "/kaggle/input/home-credit-credit-risk-model-stability/parquet_files/train/train_credit_bureau_a_2_0.parquet\n",
            "/kaggle/input/home-credit-credit-risk-model-stability/parquet_files/train/train_credit_bureau_a_2_7.parquet\n",
            "/kaggle/input/home-credit-credit-risk-model-stability/parquet_files/train/train_deposit_1.parquet\n",
            "/kaggle/input/home-credit-credit-risk-model-stability/parquet_files/train/train_debitcard_1.parquet\n",
            "/kaggle/input/home-credit-credit-risk-model-stability/parquet_files/train/train_credit_bureau_a_2_5.parquet\n",
            "/kaggle/input/home-credit-credit-risk-model-stability/parquet_files/train/train_credit_bureau_a_2_2.parquet\n",
            "/kaggle/input/home-credit-credit-risk-model-stability/parquet_files/train/train_credit_bureau_a_2_4.parquet\n",
            "/kaggle/input/home-credit-credit-risk-model-stability/parquet_files/train/train_base.parquet\n",
            "/kaggle/input/home-credit-credit-risk-model-stability/parquet_files/train/train_credit_bureau_a_2_9.parquet\n",
            "/kaggle/input/home-credit-credit-risk-model-stability/parquet_files/train/train_credit_bureau_a_2_3.parquet\n",
            "/kaggle/input/home-credit-credit-risk-model-stability/parquet_files/train/train_applprev_2.parquet\n",
            "/kaggle/input/home-credit-credit-risk-model-stability/parquet_files/train/train_credit_bureau_a_2_10.parquet\n",
            "/kaggle/input/home-credit-credit-risk-model-stability/parquet_files/train/train_credit_bureau_a_2_8.parquet\n",
            "/kaggle/input/home-credit-credit-risk-model-stability/parquet_files/train/train_credit_bureau_a_1_2.parquet\n",
            "/kaggle/input/home-credit-credit-risk-model-stability/parquet_files/train/train_static_0_1.parquet\n",
            "/kaggle/input/home-credit-credit-risk-model-stability/parquet_files/train/train_credit_bureau_a_1_0.parquet\n",
            "/kaggle/input/home-credit-credit-risk-model-stability/parquet_files/train/train_credit_bureau_a_1_1.parquet\n",
            "/kaggle/input/home-credit-credit-risk-model-stability/parquet_files/train/train_applprev_1_0.parquet\n",
            "/kaggle/input/home-credit-credit-risk-model-stability/csv_files/test/test_credit_bureau_a_2_6.csv\n",
            "/kaggle/input/home-credit-credit-risk-model-stability/csv_files/test/test_credit_bureau_a_2_11.csv\n",
            "/kaggle/input/home-credit-credit-risk-model-stability/csv_files/test/test_credit_bureau_a_2_0.csv\n",
            "/kaggle/input/home-credit-credit-risk-model-stability/csv_files/test/test_credit_bureau_a_2_9.csv\n",
            "/kaggle/input/home-credit-credit-risk-model-stability/csv_files/test/test_base.csv\n",
            "/kaggle/input/home-credit-credit-risk-model-stability/csv_files/test/test_credit_bureau_a_1_1.csv\n",
            "/kaggle/input/home-credit-credit-risk-model-stability/csv_files/test/test_credit_bureau_b_2.csv\n",
            "/kaggle/input/home-credit-credit-risk-model-stability/csv_files/test/test_credit_bureau_a_2_10.csv\n",
            "/kaggle/input/home-credit-credit-risk-model-stability/csv_files/test/test_credit_bureau_a_2_4.csv\n",
            "/kaggle/input/home-credit-credit-risk-model-stability/csv_files/test/test_static_0_0.csv\n",
            "/kaggle/input/home-credit-credit-risk-model-stability/csv_files/test/test_static_cb_0.csv\n",
            "/kaggle/input/home-credit-credit-risk-model-stability/csv_files/test/test_credit_bureau_a_2_2.csv\n",
            "/kaggle/input/home-credit-credit-risk-model-stability/csv_files/test/test_credit_bureau_b_1.csv\n",
            "/kaggle/input/home-credit-credit-risk-model-stability/csv_files/test/test_tax_registry_b_1.csv\n",
            "/kaggle/input/home-credit-credit-risk-model-stability/csv_files/test/test_person_2.csv\n",
            "/kaggle/input/home-credit-credit-risk-model-stability/csv_files/test/test_person_1.csv\n",
            "/kaggle/input/home-credit-credit-risk-model-stability/csv_files/test/test_credit_bureau_a_2_8.csv\n",
            "/kaggle/input/home-credit-credit-risk-model-stability/csv_files/test/test_applprev_1_2.csv\n",
            "/kaggle/input/home-credit-credit-risk-model-stability/csv_files/test/test_applprev_1_1.csv\n",
            "/kaggle/input/home-credit-credit-risk-model-stability/csv_files/test/test_credit_bureau_a_1_0.csv\n",
            "/kaggle/input/home-credit-credit-risk-model-stability/csv_files/test/test_applprev_2.csv\n",
            "/kaggle/input/home-credit-credit-risk-model-stability/csv_files/test/test_credit_bureau_a_2_7.csv\n",
            "/kaggle/input/home-credit-credit-risk-model-stability/csv_files/test/test_other_1.csv\n",
            "/kaggle/input/home-credit-credit-risk-model-stability/csv_files/test/test_tax_registry_c_1.csv\n",
            "/kaggle/input/home-credit-credit-risk-model-stability/csv_files/test/test_credit_bureau_a_1_3.csv\n",
            "/kaggle/input/home-credit-credit-risk-model-stability/csv_files/test/test_static_0_2.csv\n",
            "/kaggle/input/home-credit-credit-risk-model-stability/csv_files/test/test_credit_bureau_a_2_5.csv\n",
            "/kaggle/input/home-credit-credit-risk-model-stability/csv_files/test/test_credit_bureau_a_1_2.csv\n",
            "/kaggle/input/home-credit-credit-risk-model-stability/csv_files/test/test_debitcard_1.csv\n",
            "/kaggle/input/home-credit-credit-risk-model-stability/csv_files/test/test_credit_bureau_a_1_4.csv\n",
            "/kaggle/input/home-credit-credit-risk-model-stability/csv_files/test/test_deposit_1.csv\n",
            "/kaggle/input/home-credit-credit-risk-model-stability/csv_files/test/test_static_0_1.csv\n",
            "/kaggle/input/home-credit-credit-risk-model-stability/csv_files/test/test_credit_bureau_a_2_1.csv\n",
            "/kaggle/input/home-credit-credit-risk-model-stability/csv_files/test/test_applprev_1_0.csv\n",
            "/kaggle/input/home-credit-credit-risk-model-stability/csv_files/test/test_tax_registry_a_1.csv\n",
            "/kaggle/input/home-credit-credit-risk-model-stability/csv_files/test/test_credit_bureau_a_2_3.csv\n",
            "/kaggle/input/home-credit-credit-risk-model-stability/csv_files/train/train_credit_bureau_a_1_3.csv\n",
            "/kaggle/input/home-credit-credit-risk-model-stability/csv_files/train/train_static_cb_0.csv\n",
            "/kaggle/input/home-credit-credit-risk-model-stability/csv_files/train/train_applprev_1_0.csv\n",
            "/kaggle/input/home-credit-credit-risk-model-stability/csv_files/train/train_person_2.csv\n",
            "/kaggle/input/home-credit-credit-risk-model-stability/csv_files/train/train_base.csv\n",
            "/kaggle/input/home-credit-credit-risk-model-stability/csv_files/train/train_tax_registry_a_1.csv\n",
            "/kaggle/input/home-credit-credit-risk-model-stability/csv_files/train/train_static_0_0.csv\n",
            "/kaggle/input/home-credit-credit-risk-model-stability/csv_files/train/train_credit_bureau_a_1_0.csv\n",
            "/kaggle/input/home-credit-credit-risk-model-stability/csv_files/train/train_applprev_2.csv\n",
            "/kaggle/input/home-credit-credit-risk-model-stability/csv_files/train/train_credit_bureau_a_2_6.csv\n",
            "/kaggle/input/home-credit-credit-risk-model-stability/csv_files/train/train_credit_bureau_a_1_2.csv\n",
            "/kaggle/input/home-credit-credit-risk-model-stability/csv_files/train/train_person_1.csv\n",
            "/kaggle/input/home-credit-credit-risk-model-stability/csv_files/train/train_credit_bureau_a_1_1.csv\n",
            "/kaggle/input/home-credit-credit-risk-model-stability/csv_files/train/train_tax_registry_c_1.csv\n",
            "/kaggle/input/home-credit-credit-risk-model-stability/csv_files/train/train_credit_bureau_a_2_4.csv\n",
            "/kaggle/input/home-credit-credit-risk-model-stability/csv_files/train/train_credit_bureau_a_2_9.csv\n",
            "/kaggle/input/home-credit-credit-risk-model-stability/csv_files/train/train_credit_bureau_a_2_3.csv\n",
            "/kaggle/input/home-credit-credit-risk-model-stability/csv_files/train/train_credit_bureau_a_2_7.csv\n",
            "/kaggle/input/home-credit-credit-risk-model-stability/csv_files/train/train_credit_bureau_b_2.csv\n",
            "/kaggle/input/home-credit-credit-risk-model-stability/csv_files/train/train_credit_bureau_a_2_2.csv\n",
            "/kaggle/input/home-credit-credit-risk-model-stability/csv_files/train/train_static_0_1.csv\n",
            "/kaggle/input/home-credit-credit-risk-model-stability/csv_files/train/train_deposit_1.csv\n",
            "/kaggle/input/home-credit-credit-risk-model-stability/csv_files/train/train_credit_bureau_a_2_10.csv\n",
            "/kaggle/input/home-credit-credit-risk-model-stability/csv_files/train/train_tax_registry_b_1.csv\n",
            "/kaggle/input/home-credit-credit-risk-model-stability/csv_files/train/train_applprev_1_1.csv\n",
            "/kaggle/input/home-credit-credit-risk-model-stability/csv_files/train/train_credit_bureau_a_2_1.csv\n",
            "/kaggle/input/home-credit-credit-risk-model-stability/csv_files/train/train_credit_bureau_a_2_8.csv\n",
            "/kaggle/input/home-credit-credit-risk-model-stability/csv_files/train/train_credit_bureau_a_2_5.csv\n",
            "/kaggle/input/home-credit-credit-risk-model-stability/csv_files/train/train_credit_bureau_b_1.csv\n",
            "/kaggle/input/home-credit-credit-risk-model-stability/csv_files/train/train_credit_bureau_a_2_0.csv\n",
            "/kaggle/input/home-credit-credit-risk-model-stability/csv_files/train/train_other_1.csv\n",
            "/kaggle/input/home-credit-credit-risk-model-stability/csv_files/train/train_debitcard_1.csv\n"
          ]
        }
      ],
      "source": [
        "# This Python 3 environment comes with many helpful analytics libraries installed\n",
        "# It is defined by the kaggle/python Docker image: https://github.com/kaggle/docker-python\n",
        "# For example, here's several helpful packages to load\n",
        "\n",
        "import polars as pl\n",
        "import numpy as np\n",
        "import pandas as pd\n",
        "from sklearn.model_selection import train_test_split\n",
        "from sklearn.metrics import roc_auc_score\n",
        "import warnings\n",
        "\n",
        "warnings.filterwarnings('ignore')\n",
        "\n",
        "dataPath = \"/kaggle/input/home-credit-credit-risk-model-stability/\"\n",
        "\n",
        "# Input data files are available in the read-only \"../input/\" directory\n",
        "# For example, running this (by clicking run or pressing Shift+Enter) will list all files under the input directory\n",
        "\n",
        "import os\n",
        "for dirname, _, filenames in os.walk('/kaggle/input'):\n",
        "    for filename in filenames:\n",
        "        print(os.path.join(dirname, filename))\n",
        "\n",
        "# You can write up to 20GB to the current directory (/kaggle/working/) that gets preserved as output when you create a version using \"Save & Run All\"\n",
        "# You can also write temporary files to /kaggle/temp/, but they won't be saved outside of the current session"
      ]
    },
    {
      "cell_type": "markdown",
      "id": "22777daf",
      "metadata": {
        "id": "22777daf",
        "papermill": {
          "duration": 0.01209,
          "end_time": "2024-05-09T00:01:24.060757",
          "exception": false,
          "start_time": "2024-05-09T00:01:24.048667",
          "status": "completed"
        },
        "tags": []
      },
      "source": [
        "## **Goal of the Competition**\n",
        "\n",
        "The goal of this competition is to predict which clients are more likely to default on their loans. The evaluation will favor solutions that are stable over time.\n",
        "\n",
        "Your participation may offer consumer finance providers a more reliable and longer-lasting way to assess a potential client’s default risk.\n",
        "\n",
        "## **Loading the Data**\n",
        "\n",
        "We will now load the data and get it in the right format. We will conduct exploratory data analysis and create a baseline submission that we can iterate and improve on."
      ]
    },
    {
      "cell_type": "code",
      "execution_count": null,
      "id": "f69bd389",
      "metadata": {
        "execution": {
          "iopub.execute_input": "2024-05-09T00:01:24.086884Z",
          "iopub.status.busy": "2024-05-09T00:01:24.086170Z",
          "iopub.status.idle": "2024-05-09T00:01:24.093665Z",
          "shell.execute_reply": "2024-05-09T00:01:24.092858Z"
        },
        "id": "f69bd389",
        "papermill": {
          "duration": 0.022495,
          "end_time": "2024-05-09T00:01:24.095546",
          "exception": false,
          "start_time": "2024-05-09T00:01:24.073051",
          "status": "completed"
        },
        "tags": []
      },
      "outputs": [],
      "source": [
        "def set_table_dtypes(df: pl.DataFrame) -> pl.DataFrame:\n",
        "    # implement here all desired dtypes for tables\n",
        "    # the following is just an example\n",
        "    for col in df.columns:\n",
        "        # last letter of column name will help you determine the type\n",
        "        if col[-1] in (\"P\", \"A\"):\n",
        "            df = df.with_columns(pl.col(col).cast(pl.Float64).alias(col))\n",
        "\n",
        "    return df\n",
        "\n",
        "def convert_strings(df: pd.DataFrame) -> pd.DataFrame:\n",
        "    for col in df.columns:\n",
        "        if df[col].dtype.name in ['object', 'string']:\n",
        "            df[col] = df[col].astype(\"string\").astype('category')\n",
        "            current_categories = df[col].cat.categories\n",
        "            new_categories = current_categories.to_list() + [\"Unknown\"]\n",
        "            new_dtype = pd.CategoricalDtype(categories=new_categories, ordered=True)\n",
        "            df[col] = df[col].astype(new_dtype)\n",
        "    return df"
      ]
    },
    {
      "cell_type": "code",
      "execution_count": null,
      "id": "604a4972",
      "metadata": {
        "execution": {
          "iopub.execute_input": "2024-05-09T00:01:24.122390Z",
          "iopub.status.busy": "2024-05-09T00:01:24.121706Z",
          "iopub.status.idle": "2024-05-09T00:01:38.717017Z",
          "shell.execute_reply": "2024-05-09T00:01:38.716008Z"
        },
        "id": "604a4972",
        "papermill": {
          "duration": 14.611559,
          "end_time": "2024-05-09T00:01:38.719415",
          "exception": false,
          "start_time": "2024-05-09T00:01:24.107856",
          "status": "completed"
        },
        "tags": []
      },
      "outputs": [],
      "source": [
        "train_basetable = pl.read_csv(dataPath + \"csv_files/train/train_base.csv\")\n",
        "train_static = pl.concat(\n",
        "    [\n",
        "        pl.read_csv(dataPath + \"csv_files/train/train_static_0_0.csv\").pipe(set_table_dtypes),\n",
        "        pl.read_csv(dataPath + \"csv_files/train/train_static_0_1.csv\").pipe(set_table_dtypes),\n",
        "    ],\n",
        "    how=\"vertical_relaxed\",\n",
        ")\n",
        "train_static_cb = pl.read_csv(dataPath + \"csv_files/train/train_static_cb_0.csv\").pipe(set_table_dtypes)\n",
        "train_person_1 = pl.read_csv(dataPath + \"csv_files/train/train_person_1.csv\").pipe(set_table_dtypes)\n",
        "train_credit_bureau_b_2 = pl.read_csv(dataPath + \"csv_files/train/train_credit_bureau_b_2.csv\").pipe(set_table_dtypes)"
      ]
    },
    {
      "cell_type": "code",
      "execution_count": null,
      "id": "9c5c9faa",
      "metadata": {
        "execution": {
          "iopub.execute_input": "2024-05-09T00:01:38.746102Z",
          "iopub.status.busy": "2024-05-09T00:01:38.745770Z",
          "iopub.status.idle": "2024-05-09T00:01:38.797335Z",
          "shell.execute_reply": "2024-05-09T00:01:38.796435Z"
        },
        "id": "9c5c9faa",
        "papermill": {
          "duration": 0.067152,
          "end_time": "2024-05-09T00:01:38.799358",
          "exception": false,
          "start_time": "2024-05-09T00:01:38.732206",
          "status": "completed"
        },
        "tags": []
      },
      "outputs": [],
      "source": [
        "test_basetable = pl.read_csv(dataPath + \"csv_files/test/test_base.csv\")\n",
        "test_static = pl.concat(\n",
        "    [\n",
        "        pl.read_csv(dataPath + \"csv_files/test/test_static_0_0.csv\").pipe(set_table_dtypes),\n",
        "        pl.read_csv(dataPath + \"csv_files/test/test_static_0_1.csv\").pipe(set_table_dtypes),\n",
        "        pl.read_csv(dataPath + \"csv_files/test/test_static_0_2.csv\").pipe(set_table_dtypes),\n",
        "    ],\n",
        "    how=\"vertical_relaxed\",\n",
        ")\n",
        "test_static_cb = pl.read_csv(dataPath + \"csv_files/test/test_static_cb_0.csv\").pipe(set_table_dtypes)\n",
        "test_person_1 = pl.read_csv(dataPath + \"csv_files/test/test_person_1.csv\").pipe(set_table_dtypes)\n",
        "test_credit_bureau_b_2 = pl.read_csv(dataPath + \"csv_files/test/test_credit_bureau_b_2.csv\").pipe(set_table_dtypes)"
      ]
    },
    {
      "cell_type": "markdown",
      "id": "89b90c76",
      "metadata": {
        "id": "89b90c76",
        "papermill": {
          "duration": 0.01213,
          "end_time": "2024-05-09T00:01:38.824064",
          "exception": false,
          "start_time": "2024-05-09T00:01:38.811934",
          "status": "completed"
        },
        "tags": []
      },
      "source": [
        "## **Feature Engineering**\n",
        "\n",
        "We will join the tables on case_id. (There are additional ways we can work with the data, but we will leave this as is for now.)"
      ]
    },
    {
      "cell_type": "code",
      "execution_count": null,
      "id": "d49f278c",
      "metadata": {
        "execution": {
          "iopub.execute_input": "2024-05-09T00:01:38.850384Z",
          "iopub.status.busy": "2024-05-09T00:01:38.849662Z",
          "iopub.status.idle": "2024-05-09T00:01:40.574507Z",
          "shell.execute_reply": "2024-05-09T00:01:40.573716Z"
        },
        "id": "d49f278c",
        "outputId": "0d2c5b76-478a-48d9-ae3a-c94f58e802ec",
        "papermill": {
          "duration": 1.740645,
          "end_time": "2024-05-09T00:01:40.576960",
          "exception": false,
          "start_time": "2024-05-09T00:01:38.836315",
          "status": "completed"
        },
        "tags": []
      },
      "outputs": [
        {
          "name": "stdout",
          "output_type": "stream",
          "text": [
            "['amtinstpaidbefduel24m_4187115A', 'annuity_780A', 'annuitynextmonth_57A', 'avginstallast24m_3658937A', 'avglnamtstart24m_4525187A', 'avgoutstandbalancel6m_4187114A', 'avgpmtlast12m_4525200A', 'credamount_770A', 'currdebt_22A', 'currdebtcredtyperange_828A', 'disbursedcredamount_1113A', 'downpmt_116A', 'inittransactionamount_650A', 'lastapprcommoditycat_1041M', 'lastapprcommoditytypec_5251766M', 'lastapprcredamount_781A', 'lastcancelreason_561M', 'lastotherinc_902A', 'lastotherlnsexpense_631A', 'lastrejectcommoditycat_161M', 'lastrejectcommodtypec_5251769M', 'lastrejectcredamount_222A', 'lastrejectreason_759M', 'lastrejectreasonclient_4145040M', 'maininc_215A', 'maxannuity_159A', 'maxannuity_4075009A', 'maxdebt4_972A', 'maxinstallast24m_3658928A', 'maxlnamtstart6m_4525199A', 'maxoutstandbalancel12m_4187113A', 'maxpmtlast3m_4525190A', 'previouscontdistrict_112M', 'price_1097A', 'sumoutstandtotal_3546847A', 'sumoutstandtotalest_4493215A', 'totaldebt_9A', 'totalsettled_863A', 'totinstallast1m_4525188A']\n",
            "['description_5085714M', 'education_1103M', 'education_88M', 'maritalst_385M', 'maritalst_893M', 'pmtaverage_3A', 'pmtaverage_4527227A', 'pmtaverage_4955615A', 'pmtssum_45A']\n"
          ]
        }
      ],
      "source": [
        "# We need to use aggregation functions in tables with depth > 1, so tables that contain num_group1 column or\n",
        "# also num_group2 column.\n",
        "train_person_1_feats_1 = train_person_1.group_by(\"case_id\").agg(\n",
        "    pl.col(\"mainoccupationinc_384A\").max().alias(\"mainoccupationinc_384A_max\"),\n",
        "    (pl.col(\"incometype_1044T\") == \"SELFEMPLOYED\").max().alias(\"mainoccupationinc_384A_any_selfemployed\")\n",
        ")\n",
        "\n",
        "# Here num_group1=0 has special meaning, it is the person who applied for the loan.\n",
        "train_person_1_feats_2 = train_person_1.select([\"case_id\", \"num_group1\", \"housetype_905L\"]).filter(\n",
        "    pl.col(\"num_group1\") == 0\n",
        ").drop(\"num_group1\").rename({\"housetype_905L\": \"person_housetype\"})\n",
        "\n",
        "# Here we have num_goup1 and num_group2, so we need to aggregate again.\n",
        "train_credit_bureau_b_2_feats = train_credit_bureau_b_2.group_by(\"case_id\").agg(\n",
        "    pl.col(\"pmts_pmtsoverdue_635A\").max().alias(\"pmts_pmtsoverdue_635A_max\"),\n",
        "    (pl.col(\"pmts_dpdvalue_108P\") > 31).max().alias(\"pmts_dpdvalue_108P_over31\")\n",
        ")\n",
        "\n",
        "# We will process in this examples only A-type and M-type columns, so we need to select them.\n",
        "selected_static_cols = []\n",
        "for col in train_static.columns:\n",
        "    if col[-1] in (\"A\", \"M\"):\n",
        "        selected_static_cols.append(col)\n",
        "print(selected_static_cols)\n",
        "\n",
        "selected_static_cb_cols = []\n",
        "for col in train_static_cb.columns:\n",
        "    if col[-1] in (\"A\", \"M\"):\n",
        "        selected_static_cb_cols.append(col)\n",
        "print(selected_static_cb_cols)\n",
        "\n",
        "# Join all tables together.\n",
        "data = train_basetable.join(\n",
        "    train_static.select([\"case_id\"]+selected_static_cols), how=\"left\", on=\"case_id\"\n",
        ").join(\n",
        "    train_static_cb.select([\"case_id\"]+selected_static_cb_cols), how=\"left\", on=\"case_id\"\n",
        ").join(\n",
        "    train_person_1_feats_1, how=\"left\", on=\"case_id\"\n",
        ").join(\n",
        "    train_person_1_feats_2, how=\"left\", on=\"case_id\"\n",
        ").join(\n",
        "    train_credit_bureau_b_2_feats, how=\"left\", on=\"case_id\"\n",
        ")"
      ]
    },
    {
      "cell_type": "code",
      "execution_count": null,
      "id": "7b231226",
      "metadata": {
        "execution": {
          "iopub.execute_input": "2024-05-09T00:01:40.603324Z",
          "iopub.status.busy": "2024-05-09T00:01:40.603025Z",
          "iopub.status.idle": "2024-05-09T00:01:40.613500Z",
          "shell.execute_reply": "2024-05-09T00:01:40.612838Z"
        },
        "id": "7b231226",
        "papermill": {
          "duration": 0.025743,
          "end_time": "2024-05-09T00:01:40.615385",
          "exception": false,
          "start_time": "2024-05-09T00:01:40.589642",
          "status": "completed"
        },
        "tags": []
      },
      "outputs": [],
      "source": [
        "test_person_1_feats_1 = test_person_1.group_by(\"case_id\").agg(\n",
        "    pl.col(\"mainoccupationinc_384A\").max().alias(\"mainoccupationinc_384A_max\"),\n",
        "    (pl.col(\"incometype_1044T\") == \"SELFEMPLOYED\").max().alias(\"mainoccupationinc_384A_any_selfemployed\")\n",
        ")\n",
        "\n",
        "test_person_1_feats_2 = test_person_1.select([\"case_id\", \"num_group1\", \"housetype_905L\"]).filter(\n",
        "    pl.col(\"num_group1\") == 0\n",
        ").drop(\"num_group1\").rename({\"housetype_905L\": \"person_housetype\"})\n",
        "\n",
        "test_credit_bureau_b_2_feats = test_credit_bureau_b_2.group_by(\"case_id\").agg(\n",
        "    pl.col(\"pmts_pmtsoverdue_635A\").max().alias(\"pmts_pmtsoverdue_635A_max\"),\n",
        "    (pl.col(\"pmts_dpdvalue_108P\") > 31).max().alias(\"pmts_dpdvalue_108P_over31\")\n",
        ")\n",
        "\n",
        "data_submission = test_basetable.join(\n",
        "    test_static.select([\"case_id\"]+selected_static_cols), how=\"left\", on=\"case_id\"\n",
        ").join(\n",
        "    test_static_cb.select([\"case_id\"]+selected_static_cb_cols), how=\"left\", on=\"case_id\"\n",
        ").join(\n",
        "    test_person_1_feats_1, how=\"left\", on=\"case_id\"\n",
        ").join(\n",
        "    test_person_1_feats_2, how=\"left\", on=\"case_id\"\n",
        ").join(\n",
        "    test_credit_bureau_b_2_feats, how=\"left\", on=\"case_id\"\n",
        ")"
      ]
    },
    {
      "cell_type": "code",
      "execution_count": null,
      "id": "d9ecff85",
      "metadata": {
        "execution": {
          "iopub.execute_input": "2024-05-09T00:01:40.641241Z",
          "iopub.status.busy": "2024-05-09T00:01:40.640983Z",
          "iopub.status.idle": "2024-05-09T00:01:47.531591Z",
          "shell.execute_reply": "2024-05-09T00:01:47.530724Z"
        },
        "id": "d9ecff85",
        "outputId": "d195d175-2ff6-4bbd-8355-ad59991106c8",
        "papermill": {
          "duration": 6.906444,
          "end_time": "2024-05-09T00:01:47.534147",
          "exception": false,
          "start_time": "2024-05-09T00:01:40.627703",
          "status": "completed"
        },
        "tags": []
      },
      "outputs": [
        {
          "name": "stdout",
          "output_type": "stream",
          "text": [
            "['amtinstpaidbefduel24m_4187115A', 'annuity_780A', 'annuitynextmonth_57A', 'avginstallast24m_3658937A', 'avglnamtstart24m_4525187A', 'avgoutstandbalancel6m_4187114A', 'avgpmtlast12m_4525200A', 'credamount_770A', 'currdebt_22A', 'currdebtcredtyperange_828A', 'disbursedcredamount_1113A', 'downpmt_116A', 'inittransactionamount_650A', 'lastapprcommoditycat_1041M', 'lastapprcommoditytypec_5251766M', 'lastapprcredamount_781A', 'lastcancelreason_561M', 'lastotherinc_902A', 'lastotherlnsexpense_631A', 'lastrejectcommoditycat_161M', 'lastrejectcommodtypec_5251769M', 'lastrejectcredamount_222A', 'lastrejectreason_759M', 'lastrejectreasonclient_4145040M', 'maininc_215A', 'maxannuity_159A', 'maxannuity_4075009A', 'maxdebt4_972A', 'maxinstallast24m_3658928A', 'maxlnamtstart6m_4525199A', 'maxoutstandbalancel12m_4187113A', 'maxpmtlast3m_4525190A', 'previouscontdistrict_112M', 'price_1097A', 'sumoutstandtotal_3546847A', 'sumoutstandtotalest_4493215A', 'totaldebt_9A', 'totalsettled_863A', 'totinstallast1m_4525188A', 'description_5085714M', 'education_1103M', 'education_88M', 'maritalst_385M', 'maritalst_893M', 'pmtaverage_3A', 'pmtaverage_4527227A', 'pmtaverage_4955615A', 'pmtssum_45A']\n"
          ]
        }
      ],
      "source": [
        "case_ids = data[\"case_id\"].unique().shuffle(seed=1)\n",
        "case_ids_train, case_ids_test = train_test_split(case_ids, train_size=0.6, random_state=1)\n",
        "case_ids_valid, case_ids_test = train_test_split(case_ids_test, train_size=0.5, random_state=1)\n",
        "\n",
        "cols_pred = []\n",
        "for col in data.columns:\n",
        "    if col[-1].isupper() and col[:-1].islower():\n",
        "        cols_pred.append(col)\n",
        "\n",
        "print(cols_pred)\n",
        "\n",
        "def from_polars_to_pandas(case_ids: pl.DataFrame) -> pl.DataFrame:\n",
        "    return (\n",
        "        data.filter(pl.col(\"case_id\").is_in(case_ids))[[\"case_id\", \"WEEK_NUM\", \"target\"]].to_pandas(),\n",
        "        data.filter(pl.col(\"case_id\").is_in(case_ids))[cols_pred].to_pandas(),\n",
        "        data.filter(pl.col(\"case_id\").is_in(case_ids))[\"target\"].to_pandas()\n",
        "    )\n",
        "\n",
        "base_train, X_train, y_train = from_polars_to_pandas(case_ids_train)\n",
        "base_valid, X_valid, y_valid = from_polars_to_pandas(case_ids_valid)\n",
        "base_test, X_test, y_test = from_polars_to_pandas(case_ids_test)\n",
        "\n",
        "for df in [X_train, X_valid, X_test]:\n",
        "    df = convert_strings(df)"
      ]
    },
    {
      "cell_type": "code",
      "execution_count": null,
      "id": "81ba3af6",
      "metadata": {
        "execution": {
          "iopub.execute_input": "2024-05-09T00:01:47.561859Z",
          "iopub.status.busy": "2024-05-09T00:01:47.561554Z",
          "iopub.status.idle": "2024-05-09T00:01:47.590657Z",
          "shell.execute_reply": "2024-05-09T00:01:47.589952Z"
        },
        "id": "81ba3af6",
        "papermill": {
          "duration": 0.0442,
          "end_time": "2024-05-09T00:01:47.592528",
          "exception": false,
          "start_time": "2024-05-09T00:01:47.548328",
          "status": "completed"
        },
        "tags": []
      },
      "outputs": [],
      "source": [
        "X_submission = data_submission[cols_pred].to_pandas()\n",
        "X_submission = convert_strings(X_submission)"
      ]
    },
    {
      "cell_type": "code",
      "execution_count": null,
      "id": "16fe865b",
      "metadata": {
        "execution": {
          "iopub.execute_input": "2024-05-09T00:01:47.619909Z",
          "iopub.status.busy": "2024-05-09T00:01:47.619614Z",
          "iopub.status.idle": "2024-05-09T00:02:20.805763Z",
          "shell.execute_reply": "2024-05-09T00:02:20.804752Z"
        },
        "papermill": {
          "duration": 33.20316,
          "end_time": "2024-05-09T00:02:20.808257",
          "exception": false,
          "start_time": "2024-05-09T00:01:47.605097",
          "status": "completed"
        },
        "tags": [],
        "id": "16fe865b",
        "outputId": "9c5b56d9-433e-4107-9e13-0436d3b6c9c6"
      },
      "outputs": [
        {
          "name": "stdout",
          "output_type": "stream",
          "text": [
            "Requirement already satisfied: imbalanced-learn in /opt/conda/lib/python3.10/site-packages (0.12.2)\r\n",
            "Requirement already satisfied: numpy>=1.17.3 in /opt/conda/lib/python3.10/site-packages (from imbalanced-learn) (1.26.4)\r\n",
            "Requirement already satisfied: scipy>=1.5.0 in /opt/conda/lib/python3.10/site-packages (from imbalanced-learn) (1.11.4)\r\n",
            "Requirement already satisfied: scikit-learn>=1.0.2 in /opt/conda/lib/python3.10/site-packages (from imbalanced-learn) (1.2.2)\r\n",
            "Requirement already satisfied: joblib>=1.1.1 in /opt/conda/lib/python3.10/site-packages (from imbalanced-learn) (1.4.0)\r\n",
            "Requirement already satisfied: threadpoolctl>=2.0.0 in /opt/conda/lib/python3.10/site-packages (from imbalanced-learn) (3.2.0)\r\n"
          ]
        }
      ],
      "source": [
        "!pip install imbalanced-learn"
      ]
    },
    {
      "cell_type": "code",
      "execution_count": null,
      "id": "daa48d2c",
      "metadata": {
        "execution": {
          "iopub.execute_input": "2024-05-09T00:02:20.836506Z",
          "iopub.status.busy": "2024-05-09T00:02:20.836178Z",
          "iopub.status.idle": "2024-05-09T00:02:20.841462Z",
          "shell.execute_reply": "2024-05-09T00:02:20.840596Z"
        },
        "id": "daa48d2c",
        "outputId": "4fb58d70-890e-43bd-9ba8-db3c25b4b1b7",
        "papermill": {
          "duration": 0.021123,
          "end_time": "2024-05-09T00:02:20.843586",
          "exception": false,
          "start_time": "2024-05-09T00:02:20.822463",
          "status": "completed"
        },
        "tags": []
      },
      "outputs": [
        {
          "name": "stdout",
          "output_type": "stream",
          "text": [
            "Train: (915995, 48)\n",
            "Valid: (305332, 48)\n",
            "Test: (305332, 48)\n"
          ]
        }
      ],
      "source": [
        "print(f\"Train: {X_train.shape}\")\n",
        "print(f\"Valid: {X_valid.shape}\")\n",
        "print(f\"Test: {X_test.shape}\")"
      ]
    },
    {
      "cell_type": "code",
      "execution_count": null,
      "id": "5452b1c1",
      "metadata": {
        "execution": {
          "iopub.execute_input": "2024-05-09T00:02:20.869750Z",
          "iopub.status.busy": "2024-05-09T00:02:20.869503Z",
          "iopub.status.idle": "2024-05-09T00:02:21.384275Z",
          "shell.execute_reply": "2024-05-09T00:02:21.383413Z"
        },
        "id": "5452b1c1",
        "papermill": {
          "duration": 0.530442,
          "end_time": "2024-05-09T00:02:21.386661",
          "exception": false,
          "start_time": "2024-05-09T00:02:20.856219",
          "status": "completed"
        },
        "tags": []
      },
      "outputs": [],
      "source": [
        "def fill_na(df, fill_value_numeric=0, fill_value_categorical='Missing', fill_value_default='Unknown'):\n",
        "    \"\"\"\n",
        "    Fills missing values in a DataFrame.\n",
        "\n",
        "    Parameters:\n",
        "    df (pd.DataFrame): The DataFrame to fill missing values in.\n",
        "    fill_value_numeric (int or float): The value to fill missing values with in numeric columns.\n",
        "    fill_value_categorical (str): The value to fill missing values with in categorical columns.\n",
        "    fill_value_default (str): The value to fill missing values with in other types of columns.\n",
        "\n",
        "    Returns:\n",
        "    pd.DataFrame: DataFrame with missing values filled.\n",
        "    \"\"\"\n",
        "    for col in df.columns:\n",
        "        if df[col].dtype.name == 'category':\n",
        "            # Check if the category is already present before adding it\n",
        "            if fill_value_categorical not in df[col].cat.categories:\n",
        "                df[col] = df[col].cat.add_categories([fill_value_categorical])\n",
        "            df[col] = df[col].fillna(fill_value_categorical)\n",
        "        elif pd.api.types.is_numeric_dtype(df[col]):\n",
        "            # Fill numeric columns with the specified numeric value\n",
        "            df[col] = df[col].fillna(fill_value_numeric)\n",
        "        else:\n",
        "            # Fill other types of columns with the specified default value\n",
        "            df[col] = df[col].fillna(fill_value_default)\n",
        "    return df\n",
        "\n",
        "# Apply fill_na to your datasets\n",
        "X_train = fill_na(X_train)\n",
        "X_valid = fill_na(X_valid)\n",
        "X_test = fill_na(X_test)\n",
        "X_submission = fill_na(X_submission)"
      ]
    },
    {
      "cell_type": "code",
      "execution_count": null,
      "id": "391ce2df",
      "metadata": {
        "execution": {
          "iopub.execute_input": "2024-05-09T00:02:21.414535Z",
          "iopub.status.busy": "2024-05-09T00:02:21.413761Z",
          "iopub.status.idle": "2024-05-09T00:02:21.420501Z",
          "shell.execute_reply": "2024-05-09T00:02:21.419663Z"
        },
        "id": "391ce2df",
        "papermill": {
          "duration": 0.022681,
          "end_time": "2024-05-09T00:02:21.422431",
          "exception": false,
          "start_time": "2024-05-09T00:02:21.399750",
          "status": "completed"
        },
        "tags": []
      },
      "outputs": [],
      "source": [
        "cat_cols = [col for col in X_train.columns if X_train[col].dtype == 'category']\n",
        "num_cols = [col for col in X_train.columns if col not in cat_cols]"
      ]
    },
    {
      "cell_type": "code",
      "execution_count": null,
      "id": "9d725c24",
      "metadata": {
        "execution": {
          "iopub.execute_input": "2024-05-09T00:02:21.449038Z",
          "iopub.status.busy": "2024-05-09T00:02:21.448744Z",
          "iopub.status.idle": "2024-05-09T00:02:31.890426Z",
          "shell.execute_reply": "2024-05-09T00:02:31.889638Z"
        },
        "id": "9d725c24",
        "papermill": {
          "duration": 10.457469,
          "end_time": "2024-05-09T00:02:31.892815",
          "exception": false,
          "start_time": "2024-05-09T00:02:21.435346",
          "status": "completed"
        },
        "tags": []
      },
      "outputs": [],
      "source": [
        "from sklearn.preprocessing import LabelEncoder\n",
        "\n",
        "label_encoders = {}\n",
        "for col in cat_cols:\n",
        "    le = LabelEncoder()\n",
        "    all_values = pd.concat([X_train[col], X_valid[col],X_test[col],X_submission[col]], axis=0).astype(str)\n",
        "    le.fit(all_values)\n",
        "    X_train[col] = le.transform(X_train[col].astype(str))\n",
        "    X_valid[col] = le.transform(X_valid[col].astype(str))\n",
        "    X_test[col] = le.transform(X_test[col].astype(str))\n",
        "    X_submission[col] = le.transform(X_submission[col].astype(str))\n",
        "    label_encoders[col] = le\n",
        "\n",
        "X_test_combined = np.hstack([X_test[cat_cols].values, X_test[num_cols].values])\n",
        "X_train_combined = np.hstack([X_train[cat_cols].values, X_train[num_cols].values])\n",
        "X_valid_combined = np.hstack([X_valid[cat_cols].values, X_valid[num_cols].values])\n",
        "X_submission_combined = np.hstack([X_submission[cat_cols].values, X_submission[num_cols].values])\n",
        "\n",
        "X_test = X_test_combined.astype('float32')\n",
        "X_train = X_train_combined.astype('float32')\n",
        "X_valid = X_valid_combined.astype('float32')\n",
        "X_submission = X_submission_combined.astype('float32')"
      ]
    },
    {
      "cell_type": "code",
      "execution_count": null,
      "id": "fee33393",
      "metadata": {
        "execution": {
          "iopub.execute_input": "2024-05-09T00:02:31.920300Z",
          "iopub.status.busy": "2024-05-09T00:02:31.920006Z",
          "iopub.status.idle": "2024-05-09T00:02:31.924072Z",
          "shell.execute_reply": "2024-05-09T00:02:31.923142Z"
        },
        "papermill": {
          "duration": 0.019965,
          "end_time": "2024-05-09T00:02:31.925926",
          "exception": false,
          "start_time": "2024-05-09T00:02:31.905961",
          "status": "completed"
        },
        "tags": [],
        "id": "fee33393"
      },
      "outputs": [],
      "source": [
        "# from imblearn.over_sampling import SMOTE\n",
        "# import pandas as pd\n",
        "# import numpy as np\n",
        "\n",
        "# # Applying SMOTE\n",
        "# smote = SMOTE(random_state=42)\n",
        "# X_train_smote, y_train_smote = smote.fit_resample(X_train, y_train)\n",
        "\n",
        "# # Print types of the data sets\n",
        "# print(\"Type of X_train_smote:\", type(X_train_smote))\n",
        "# print(\"Type of y_train_smote:\", type(y_train_smote))"
      ]
    },
    {
      "cell_type": "code",
      "execution_count": null,
      "id": "3a494c3b",
      "metadata": {
        "execution": {
          "iopub.execute_input": "2024-05-09T00:02:31.952245Z",
          "iopub.status.busy": "2024-05-09T00:02:31.952002Z",
          "iopub.status.idle": "2024-05-09T00:02:31.956668Z",
          "shell.execute_reply": "2024-05-09T00:02:31.955868Z"
        },
        "id": "3a494c3b",
        "outputId": "754e2218-4669-41be-f2f9-3694d7a23964",
        "papermill": {
          "duration": 0.020222,
          "end_time": "2024-05-09T00:02:31.958880",
          "exception": false,
          "start_time": "2024-05-09T00:02:31.938658",
          "status": "completed"
        },
        "tags": []
      },
      "outputs": [
        {
          "name": "stdout",
          "output_type": "stream",
          "text": [
            "<class 'numpy.ndarray'>\n",
            "<class 'pandas.core.series.Series'>\n",
            "<class 'numpy.ndarray'>\n",
            "<class 'pandas.core.series.Series'>\n"
          ]
        }
      ],
      "source": [
        "print(type(X_train))\n",
        "print(type(y_train))\n",
        "print(type(X_valid))\n",
        "print(type(y_valid))"
      ]
    },
    {
      "cell_type": "code",
      "execution_count": null,
      "id": "207243d8",
      "metadata": {
        "execution": {
          "iopub.execute_input": "2024-05-09T00:02:31.984987Z",
          "iopub.status.busy": "2024-05-09T00:02:31.984718Z",
          "iopub.status.idle": "2024-05-09T00:02:35.882433Z",
          "shell.execute_reply": "2024-05-09T00:02:35.881176Z"
        },
        "papermill": {
          "duration": 3.913156,
          "end_time": "2024-05-09T00:02:35.884614",
          "exception": false,
          "start_time": "2024-05-09T00:02:31.971458",
          "status": "completed"
        },
        "tags": [],
        "id": "207243d8",
        "outputId": "0fbec82a-50e5-4399-894f-c597e7923570"
      },
      "outputs": [
        {
          "name": "stdout",
          "output_type": "stream",
          "text": [
            "<class 'torch.Tensor'>\n",
            "<class 'torch.Tensor'>\n",
            "<class 'torch.Tensor'>\n",
            "<class 'torch.Tensor'>\n"
          ]
        }
      ],
      "source": [
        "import torch\n",
        "import numpy as np\n",
        "\n",
        "# Convert NumPy arrays to PyTorch tensors\n",
        "X_train_tensor = torch.tensor(X_train, dtype=torch.float32)\n",
        "X_valid_tensor = torch.tensor(X_valid, dtype=torch.float32)\n",
        "\n",
        "# Convert Pandas Series to NumPy arrays first, then to PyTorch tensors\n",
        "y_train_array = y_train.to_numpy()  # Convert Pandas Series to NumPy array\n",
        "y_valid_array = y_valid.to_numpy()  # Convert Pandas Series to NumPy array\n",
        "\n",
        "# Convert to PyTorch tensors\n",
        "y_train_tensor = torch.tensor(y_train_array, dtype=torch.float32)\n",
        "y_valid_tensor = torch.tensor(y_valid_array, dtype=torch.float32)\n",
        "\n",
        "# Verify the conversion\n",
        "print(type(X_train_tensor))  # Should print <class 'torch.Tensor'>\n",
        "print(type(y_train_tensor))  # Should print <class 'torch.Tensor'>\n",
        "print(type(X_valid_tensor))  # Should print <class 'torch.Tensor'>\n",
        "print(type(y_valid_tensor))  # Should print <class 'torch.Tensor'>"
      ]
    },
    {
      "cell_type": "markdown",
      "id": "50677604",
      "metadata": {
        "id": "50677604",
        "papermill": {
          "duration": 0.012503,
          "end_time": "2024-05-09T00:02:35.910265",
          "exception": false,
          "start_time": "2024-05-09T00:02:35.897762",
          "status": "completed"
        },
        "tags": []
      },
      "source": [
        "## **Deep Learning**\n",
        "\n",
        "Deep learning is a type of machine learning that is used to teach artificial neural networks how to learn from vast amounts of data. These neural networks are designed to mimic the structure of the human brain, and they are composed of layers of interconnected nodes called neurons that work in concert to process and analyze information.\n",
        "\n",
        "In the process of deep learning, the neural network is fed large amounts of data and then adjusts its parameters through a process called backpropagation to minimize the difference between its predicted output and the actual output. This allows the neural network to recognize patterns and make accurate predictions.\n",
        "\n",
        "Deep learning has many practical applications, such as image and speech recognition, natural language processing, and self-driving cars. It has revolutionized the field of artificial intelligence and has contributed to significant advancements in research and development."
      ]
    },
    {
      "cell_type": "code",
      "execution_count": null,
      "id": "463b6111",
      "metadata": {
        "execution": {
          "iopub.execute_input": "2024-05-09T00:02:35.937232Z",
          "iopub.status.busy": "2024-05-09T00:02:35.936520Z",
          "iopub.status.idle": "2024-05-09T00:02:35.975846Z",
          "shell.execute_reply": "2024-05-09T00:02:35.974860Z"
        },
        "papermill": {
          "duration": 0.054842,
          "end_time": "2024-05-09T00:02:35.977789",
          "exception": false,
          "start_time": "2024-05-09T00:02:35.922947",
          "status": "completed"
        },
        "tags": [],
        "id": "463b6111",
        "outputId": "e92bdc74-26a4-4911-f23d-b995e6d917ac"
      },
      "outputs": [
        {
          "name": "stdout",
          "output_type": "stream",
          "text": [
            "[[     0 887123]\n",
            " [     1  28872]]\n"
          ]
        }
      ],
      "source": [
        "unique, counts = np.unique(y_train, return_counts=True)\n",
        "print(np.asarray((unique, counts)).T)"
      ]
    },
    {
      "cell_type": "code",
      "execution_count": null,
      "id": "0312b4f0",
      "metadata": {
        "execution": {
          "iopub.execute_input": "2024-05-09T00:02:36.004698Z",
          "iopub.status.busy": "2024-05-09T00:02:36.004426Z",
          "iopub.status.idle": "2024-05-09T00:02:36.027098Z",
          "shell.execute_reply": "2024-05-09T00:02:36.026389Z"
        },
        "papermill": {
          "duration": 0.038023,
          "end_time": "2024-05-09T00:02:36.028962",
          "exception": false,
          "start_time": "2024-05-09T00:02:35.990939",
          "status": "completed"
        },
        "tags": [],
        "id": "0312b4f0"
      },
      "outputs": [],
      "source": [
        "import numpy as np\n",
        "\n",
        "# Simulating an imbalanced dataset with 90% of class 0 and 10% of class 1\n",
        "y_train_np = np.random.choice([0, 1], size=(915995,), p=[0.9, 0.1])"
      ]
    },
    {
      "cell_type": "code",
      "execution_count": null,
      "id": "85871a5c",
      "metadata": {
        "execution": {
          "iopub.execute_input": "2024-05-09T00:02:36.055621Z",
          "iopub.status.busy": "2024-05-09T00:02:36.055350Z",
          "iopub.status.idle": "2024-05-09T00:02:36.066043Z",
          "shell.execute_reply": "2024-05-09T00:02:36.065044Z"
        },
        "papermill": {
          "duration": 0.026057,
          "end_time": "2024-05-09T00:02:36.067936",
          "exception": false,
          "start_time": "2024-05-09T00:02:36.041879",
          "status": "completed"
        },
        "tags": [],
        "id": "85871a5c",
        "outputId": "96e044a2-66bd-4271-d9da-d2f1b7e52738"
      },
      "outputs": [
        {
          "name": "stdout",
          "output_type": "stream",
          "text": [
            "Class distribution before SMOTE: [[     0 824349]\n",
            " [     1  91646]]\n"
          ]
        }
      ],
      "source": [
        "unique, counts = np.unique(y_train_np, return_counts=True)\n",
        "print(\"Class distribution before SMOTE:\", np.asarray((unique, counts)).T)"
      ]
    },
    {
      "cell_type": "code",
      "execution_count": null,
      "id": "b3ac45b3",
      "metadata": {
        "execution": {
          "iopub.execute_input": "2024-05-09T00:02:36.095239Z",
          "iopub.status.busy": "2024-05-09T00:02:36.094581Z",
          "iopub.status.idle": "2024-05-09T00:02:36.099005Z",
          "shell.execute_reply": "2024-05-09T00:02:36.098202Z"
        },
        "papermill": {
          "duration": 0.020278,
          "end_time": "2024-05-09T00:02:36.101209",
          "exception": false,
          "start_time": "2024-05-09T00:02:36.080931",
          "status": "completed"
        },
        "tags": [],
        "id": "b3ac45b3",
        "outputId": "9262cff0-3de0-4d3e-ba9b-7210ad019430"
      },
      "outputs": [
        {
          "name": "stdout",
          "output_type": "stream",
          "text": [
            "Shape of X_train before SMOTE: (915995, 48)\n",
            "Shape of y_train before SMOTE: (915995,)\n"
          ]
        }
      ],
      "source": [
        "# Debugging prints\n",
        "print(\"Shape of X_train before SMOTE:\", X_train.shape)\n",
        "print(\"Shape of y_train before SMOTE:\", y_train_np.shape)"
      ]
    },
    {
      "cell_type": "markdown",
      "source": [
        "SMOTE"
      ],
      "metadata": {
        "id": "Jx91qh451v4J"
      },
      "id": "Jx91qh451v4J"
    },
    {
      "cell_type": "code",
      "execution_count": null,
      "id": "42b0304c",
      "metadata": {
        "execution": {
          "iopub.execute_input": "2024-05-09T00:02:36.128492Z",
          "iopub.status.busy": "2024-05-09T00:02:36.127762Z",
          "iopub.status.idle": "2024-05-09T00:02:39.387742Z",
          "shell.execute_reply": "2024-05-09T00:02:39.386788Z"
        },
        "papermill": {
          "duration": 3.275894,
          "end_time": "2024-05-09T00:02:39.390005",
          "exception": false,
          "start_time": "2024-05-09T00:02:36.114111",
          "status": "completed"
        },
        "tags": [],
        "id": "42b0304c",
        "outputId": "33f5f4ba-33f8-4775-ec18-1f45c93a81bf"
      },
      "outputs": [
        {
          "name": "stdout",
          "output_type": "stream",
          "text": [
            "Shape of X_train before SMOTE: (915995, 48)\n",
            "Shape of y_train before SMOTE: (915995,)\n",
            "New shape of X_train after SMOTE: (1774246, 48)\n",
            "New shape of y_train after SMOTE: (1774246,)\n",
            "Class distribution after SMOTE: [[     0 887123]\n",
            " [     1 887123]]\n"
          ]
        }
      ],
      "source": [
        "import pandas as pd\n",
        "import numpy as np\n",
        "from imblearn.over_sampling import SMOTE\n",
        "\n",
        "# Convert X_train to a 2D NumPy array if it's a DataFrame\n",
        "if isinstance(X_train, pd.DataFrame):\n",
        "    X_train_array = X_train.values\n",
        "else:\n",
        "    # If it's a tensor, convert it to a NumPy array\n",
        "    X_train_array = X_train.cpu().numpy() if hasattr(X_train, 'cpu') else np.array(X_train)\n",
        "\n",
        "# Convert y_train to a NumPy array\n",
        "y_train_array = np.array(y_train)\n",
        "\n",
        "# Verify the shape of the arrays\n",
        "print(\"Shape of X_train before SMOTE:\", X_train_array.shape)\n",
        "print(\"Shape of y_train before SMOTE:\", y_train_array.shape)\n",
        "\n",
        "# Ensure X_train is a 2D array and y_train is a 1D array\n",
        "assert X_train_array.ndim == 2, f\"Expected a 2D array for features, got {X_train_array.ndim}D\"\n",
        "assert y_train_array.ndim == 1, f\"Expected a 1D array for labels, got {y_train_array.ndim}D\"\n",
        "\n",
        "# Apply SMOTE to balance the classes\n",
        "smote = SMOTE(random_state=42)\n",
        "X_train_smote, y_train_smote = smote.fit_resample(X_train_array, y_train_array)\n",
        "\n",
        "# Print information about the resampled data\n",
        "print(\"New shape of X_train after SMOTE:\", X_train_smote.shape)\n",
        "print(\"New shape of y_train after SMOTE:\", y_train_smote.shape)\n",
        "\n",
        "# Check class distribution after SMOTE\n",
        "unique, counts = np.unique(y_train_smote, return_counts=True)\n",
        "print(\"Class distribution after SMOTE:\", np.asarray((unique, counts)).T)"
      ]
    },
    {
      "cell_type": "code",
      "execution_count": null,
      "id": "b4b12af2",
      "metadata": {
        "execution": {
          "iopub.execute_input": "2024-05-09T00:02:39.418171Z",
          "iopub.status.busy": "2024-05-09T00:02:39.417621Z",
          "iopub.status.idle": "2024-05-09T00:02:39.430982Z",
          "shell.execute_reply": "2024-05-09T00:02:39.429650Z"
        },
        "papermill": {
          "duration": 0.0293,
          "end_time": "2024-05-09T00:02:39.432847",
          "exception": false,
          "start_time": "2024-05-09T00:02:39.403547",
          "status": "completed"
        },
        "tags": [],
        "id": "b4b12af2",
        "outputId": "c38e6e3c-da80-4b40-d747-31613949100c"
      },
      "outputs": [
        {
          "name": "stdout",
          "output_type": "stream",
          "text": [
            "New shape of X_train_smote after reshaping to 3D: (1774246, 1, 48)\n",
            "Class distribution after SMOTE: [[     0 887123]\n",
            " [     1 887123]]\n"
          ]
        }
      ],
      "source": [
        "# Define the desired sequence length and number of features\n",
        "seq_length = 1  # As per your initial assumption\n",
        "features = 48  # Match the flattened array's feature count\n",
        "\n",
        "# Calculate the number of expected samples\n",
        "expected_samples = X_train_smote.shape[0]\n",
        "\n",
        "# Reshape to 3D using the expected number of samples, sequence length, and features\n",
        "X_train_smote_3d = X_train_smote.reshape(expected_samples, seq_length, features)\n",
        "\n",
        "# Verify the new shape\n",
        "print(\"New shape of X_train_smote after reshaping to 3D:\", X_train_smote_3d.shape)\n",
        "\n",
        "# Check class distribution after SMOTE\n",
        "unique_smote, counts_smote = np.unique(y_train_smote, return_counts=True)\n",
        "print(\"Class distribution after SMOTE:\", np.asarray((unique_smote, counts_smote)).T)"
      ]
    },
    {
      "cell_type": "code",
      "execution_count": null,
      "id": "a792f7b8",
      "metadata": {
        "execution": {
          "iopub.execute_input": "2024-05-09T00:02:39.461277Z",
          "iopub.status.busy": "2024-05-09T00:02:39.460953Z",
          "iopub.status.idle": "2024-05-09T00:02:39.705335Z",
          "shell.execute_reply": "2024-05-09T00:02:39.704493Z"
        },
        "papermill": {
          "duration": 0.260708,
          "end_time": "2024-05-09T00:02:39.707570",
          "exception": false,
          "start_time": "2024-05-09T00:02:39.446862",
          "status": "completed"
        },
        "tags": [],
        "id": "a792f7b8"
      },
      "outputs": [],
      "source": [
        "import torch\n",
        "\n",
        "# Convert to a PyTorch tensor\n",
        "X_train_tensor = torch.tensor(X_train_smote_3d.astype('float32'))\n",
        "y_train_tensor = torch.tensor(y_train_smote.astype('float32'))"
      ]
    },
    {
      "cell_type": "markdown",
      "id": "787633f7",
      "metadata": {
        "id": "787633f7",
        "papermill": {
          "duration": 0.013442,
          "end_time": "2024-05-09T00:02:52.011045",
          "exception": false,
          "start_time": "2024-05-09T00:02:51.997603",
          "status": "completed"
        },
        "tags": []
      },
      "source": [
        "LSTM Neural Network"
      ]
    },
    {
      "cell_type": "code",
      "execution_count": null,
      "id": "1d3a7ce2",
      "metadata": {
        "execution": {
          "iopub.execute_input": "2024-05-09T00:02:39.770411Z",
          "iopub.status.busy": "2024-05-09T00:02:39.770151Z",
          "iopub.status.idle": "2024-05-09T00:02:51.981838Z",
          "shell.execute_reply": "2024-05-09T00:02:51.980717Z"
        },
        "papermill": {
          "duration": 12.227894,
          "end_time": "2024-05-09T00:02:51.983885",
          "exception": false,
          "start_time": "2024-05-09T00:02:39.755991",
          "status": "completed"
        },
        "tags": [],
        "id": "1d3a7ce2",
        "outputId": "415594f1-c39c-462e-82b1-19237b98055a"
      },
      "outputs": [
        {
          "name": "stderr",
          "output_type": "stream",
          "text": [
            "2024-05-09 00:02:41.812271: E external/local_xla/xla/stream_executor/cuda/cuda_dnn.cc:9261] Unable to register cuDNN factory: Attempting to register factory for plugin cuDNN when one has already been registered\n",
            "2024-05-09 00:02:41.812398: E external/local_xla/xla/stream_executor/cuda/cuda_fft.cc:607] Unable to register cuFFT factory: Attempting to register factory for plugin cuFFT when one has already been registered\n",
            "2024-05-09 00:02:41.943766: E external/local_xla/xla/stream_executor/cuda/cuda_blas.cc:1515] Unable to register cuBLAS factory: Attempting to register factory for plugin cuBLAS when one has already been registered\n"
          ]
        },
        {
          "name": "stdout",
          "output_type": "stream",
          "text": [
            "Output shape: torch.Size([32, 1])\n",
            "LSTMNetwork(\n",
            "  (lstm): LSTM(48, 128, num_layers=2, batch_first=True, bidirectional=True)\n",
            "  (fc): Linear(in_features=256, out_features=1, bias=True)\n",
            "  (activation): Sigmoid()\n",
            ")\n"
          ]
        }
      ],
      "source": [
        "import torch\n",
        "import torch.nn as nn\n",
        "import torch.optim as optim\n",
        "from torch.utils.tensorboard import SummaryWriter\n",
        "\n",
        "class LSTMNetwork(nn.Module):\n",
        "    def __init__(self, input_size, hidden_size, num_layers, bidirectional):\n",
        "        super(LSTMNetwork, self).__init__()\n",
        "        self.hidden_size = hidden_size\n",
        "        self.num_layers = num_layers\n",
        "        self.bidirectional = bidirectional\n",
        "\n",
        "        # LSTM layer\n",
        "        self.lstm = nn.LSTM(input_size, hidden_size, num_layers, batch_first=True, bidirectional=bidirectional)\n",
        "\n",
        "        # Fully connected layer\n",
        "        self.fc = nn.Linear(hidden_size * 2 if bidirectional else hidden_size, 1)\n",
        "\n",
        "        # Activation function\n",
        "        self.activation = nn.Sigmoid()\n",
        "\n",
        "    def init_hidden(self, batch_size, device):\n",
        "        # Initialize the number of directions based on bidirectional flag\n",
        "        num_directions = 2 if self.bidirectional else 1\n",
        "        h0 = torch.zeros(self.num_layers * num_directions, batch_size, self.hidden_size).to(device)\n",
        "        c0 = torch.zeros(self.num_layers * num_directions, batch_size, self.hidden_size).to(device)\n",
        "        return h0, c0\n",
        "\n",
        "    def forward(self, x):\n",
        "        batch_size = x.size(0)  # Extract the batch size from input tensor\n",
        "        h0, c0 = self.init_hidden(batch_size, x.device)  # Initialize hidden states\n",
        "        out, _ = self.lstm(x, (h0, c0))  # Pass the input and hidden states to the LSTM layer\n",
        "        out = self.fc(out[:, -1, :])  # Take only the final output of the sequence\n",
        "        return self.activation(out)\n",
        "\n",
        "# Define the model parameters\n",
        "input_size = 48\n",
        "hidden_size = 128\n",
        "num_layers = 2\n",
        "bidirectional = True  # Depending on your model architecture\n",
        "\n",
        "# Create the model and move to GPU if available\n",
        "device = torch.device('cuda' if torch.cuda.is_available() else 'cpu')\n",
        "model = LSTMNetwork(input_size, hidden_size, num_layers, bidirectional).to(device)\n",
        "\n",
        "# Example data\n",
        "batch_size = 32\n",
        "seq_length = 1  # Replace with your desired sequence length\n",
        "X_train_tensor = torch.randn(batch_size, seq_length, input_size).to(device)\n",
        "\n",
        "# Forward pass to verify everything is correct\n",
        "outputs = model(X_train_tensor)\n",
        "print(f\"Output shape: {outputs.shape}\")  # Check the output shape\n",
        "\n",
        "# Define the optimizer with added weight decay\n",
        "optimizer = optim.Adam(model.parameters(), lr=0.0001, weight_decay=1e-4)\n",
        "\n",
        "# Optionally add a learning rate scheduler\n",
        "scheduler = optim.lr_scheduler.StepLR(optimizer, step_size=10, gamma=0.1)\n",
        "\n",
        "# Define the loss function\n",
        "criterion = nn.BCELoss()  # Binary Cross-Entropy Loss\n",
        "\n",
        "# Set up TensorBoard\n",
        "tensorboard_writer = SummaryWriter(log_dir='logs')\n",
        "\n",
        "# Printing the model's architecture\n",
        "print(model)"
      ]
    },
    {
      "cell_type": "code",
      "execution_count": null,
      "id": "9aa0ff98",
      "metadata": {
        "execution": {
          "iopub.execute_input": "2024-05-09T00:02:52.040312Z",
          "iopub.status.busy": "2024-05-09T00:02:52.039814Z",
          "iopub.status.idle": "2024-05-09T00:02:52.044429Z",
          "shell.execute_reply": "2024-05-09T00:02:52.043639Z"
        },
        "papermill": {
          "duration": 0.022012,
          "end_time": "2024-05-09T00:02:52.046516",
          "exception": false,
          "start_time": "2024-05-09T00:02:52.024504",
          "status": "completed"
        },
        "tags": [],
        "id": "9aa0ff98",
        "outputId": "c7507066-d35b-4623-9b3e-5d041e0c3058"
      },
      "outputs": [
        {
          "name": "stdout",
          "output_type": "stream",
          "text": [
            "Shape of X_train: (915995, 48)\n",
            "Shape of y_train: (915995,)\n"
          ]
        }
      ],
      "source": [
        "print(\"Shape of X_train:\", X_train.shape)\n",
        "print(\"Shape of y_train:\", y_train.shape)"
      ]
    },
    {
      "cell_type": "code",
      "execution_count": null,
      "id": "b30189aa",
      "metadata": {
        "execution": {
          "iopub.execute_input": "2024-05-09T00:02:52.074595Z",
          "iopub.status.busy": "2024-05-09T00:02:52.074332Z",
          "iopub.status.idle": "2024-05-09T00:02:52.078963Z",
          "shell.execute_reply": "2024-05-09T00:02:52.078098Z"
        },
        "papermill": {
          "duration": 0.020898,
          "end_time": "2024-05-09T00:02:52.080956",
          "exception": false,
          "start_time": "2024-05-09T00:02:52.060058",
          "status": "completed"
        },
        "tags": [],
        "id": "b30189aa",
        "outputId": "28d62149-c1ce-4dc6-d92c-bd421fde9c0e"
      },
      "outputs": [
        {
          "name": "stdout",
          "output_type": "stream",
          "text": [
            "Shape of X_train_smote: (1774246, 48)\n",
            "Shape of y_train_smote: (1774246,)\n",
            "Shape of X_valid_tensor: torch.Size([305332, 48])\n",
            "Shape of y_valid_tensor: torch.Size([305332])\n"
          ]
        }
      ],
      "source": [
        "print(f\"Shape of X_train_smote: {X_train_smote.shape}\")\n",
        "print(f\"Shape of y_train_smote: {y_train_smote.shape}\")\n",
        "print(f\"Shape of X_valid_tensor: {X_valid_tensor.shape}\")\n",
        "print(f\"Shape of y_valid_tensor: {y_valid_tensor.shape}\")"
      ]
    },
    {
      "cell_type": "code",
      "execution_count": null,
      "id": "4a65803e",
      "metadata": {
        "execution": {
          "iopub.execute_input": "2024-05-09T00:02:52.148443Z",
          "iopub.status.busy": "2024-05-09T00:02:52.148133Z",
          "iopub.status.idle": "2024-05-09T00:02:52.275320Z",
          "shell.execute_reply": "2024-05-09T00:02:52.273855Z"
        },
        "papermill": {
          "duration": 0.144118,
          "end_time": "2024-05-09T00:02:52.277548",
          "exception": false,
          "start_time": "2024-05-09T00:02:52.133430",
          "status": "completed"
        },
        "tags": [],
        "id": "4a65803e",
        "outputId": "815b3768-888a-4155-8c52-db8612d170ca"
      },
      "outputs": [
        {
          "name": "stdout",
          "output_type": "stream",
          "text": [
            "Shape of X_train_smote_tensor: torch.Size([1774246, 1, 48])\n",
            "Shape of X_valid_tensor_3d: torch.Size([305332, 1, 48])\n"
          ]
        }
      ],
      "source": [
        "from torch.utils.data import TensorDataset, DataLoader\n",
        "\n",
        "# Reshape the training data to 3D\n",
        "expected_samples_train = X_train_smote.shape[0]\n",
        "seq_length = 1  # As each sample is a single sequence of length 1\n",
        "features = X_train_smote.shape[1]\n",
        "\n",
        "# Convert NumPy array to PyTorch tensor and reshape\n",
        "X_train_smote_tensor = torch.tensor(X_train_smote, dtype=torch.float32).view(expected_samples_train, seq_length, features)\n",
        "y_train_smote_tensor = torch.tensor(y_train_smote, dtype=torch.float32)\n",
        "\n",
        "# Reshape the validation data to 3D\n",
        "expected_samples_valid = X_valid_tensor.shape[0]\n",
        "X_valid_tensor_3d = X_valid_tensor.view(expected_samples_valid, seq_length, features)\n",
        "y_valid_tensor_3d = y_valid_tensor.view(expected_samples_valid)\n",
        "\n",
        "# Create TensorDataset objects\n",
        "train_dataset = TensorDataset(X_train_smote_tensor, y_train_smote_tensor)\n",
        "valid_dataset = TensorDataset(X_valid_tensor_3d, y_valid_tensor_3d)\n",
        "\n",
        "# Create DataLoader objects\n",
        "train_loader = DataLoader(train_dataset, batch_size=128, shuffle=True)\n",
        "valid_loader = DataLoader(valid_dataset, batch_size=128, shuffle=False)\n",
        "\n",
        "# Verify shapes for training and validation\n",
        "print(f\"Shape of X_train_smote_tensor: {X_train_smote_tensor.shape}\")\n",
        "print(f\"Shape of X_valid_tensor_3d: {X_valid_tensor_3d.shape}\")"
      ]
    },
    {
      "cell_type": "code",
      "execution_count": null,
      "id": "de57e6c5",
      "metadata": {
        "execution": {
          "iopub.execute_input": "2024-05-09T00:02:52.308115Z",
          "iopub.status.busy": "2024-05-09T00:02:52.307810Z",
          "iopub.status.idle": "2024-05-09T00:26:12.306176Z",
          "shell.execute_reply": "2024-05-09T00:26:12.305103Z"
        },
        "papermill": {
          "duration": 1400.031028,
          "end_time": "2024-05-09T00:26:12.323883",
          "exception": false,
          "start_time": "2024-05-09T00:02:52.292855",
          "status": "completed"
        },
        "tags": [],
        "id": "de57e6c5",
        "outputId": "e82ac055-5efe-44ec-ca5a-920302653569"
      },
      "outputs": [
        {
          "name": "stdout",
          "output_type": "stream",
          "text": [
            "Using device: cuda\n",
            "Epoch 1/20, Train Loss: 0.6327, Valid Loss: 0.6348, Train AUROC: 0.6915, Valid AUROC: 0.6826\n",
            "Epoch 2/20, Train Loss: 0.6230, Valid Loss: 0.6480, Train AUROC: 0.7048, Valid AUROC: 0.6863\n",
            "Epoch 3/20, Train Loss: 0.6198, Valid Loss: 0.6320, Train AUROC: 0.7092, Valid AUROC: 0.6868\n",
            "Epoch 4/20, Train Loss: 0.6195, Valid Loss: 0.6357, Train AUROC: 0.7092, Valid AUROC: 0.6890\n",
            "Epoch 5/20, Train Loss: 0.6172, Valid Loss: 0.6113, Train AUROC: 0.7120, Valid AUROC: 0.6893\n",
            "Epoch 6/20, Train Loss: 0.6181, Valid Loss: 0.6061, Train AUROC: 0.7110, Valid AUROC: 0.6895\n",
            "Epoch 7/20, Train Loss: 0.6182, Valid Loss: 0.6454, Train AUROC: 0.7110, Valid AUROC: 0.6916\n",
            "Epoch 8/20, Train Loss: 0.6172, Valid Loss: 0.6606, Train AUROC: 0.7124, Valid AUROC: 0.6933\n",
            "Epoch 9/20, Train Loss: 0.6170, Valid Loss: 0.6849, Train AUROC: 0.7127, Valid AUROC: 0.6906\n",
            "Epoch 10/20, Train Loss: 0.6172, Valid Loss: 0.6218, Train AUROC: 0.7126, Valid AUROC: 0.6927\n",
            "Epoch 11/20, Train Loss: 0.6160, Valid Loss: 0.6409, Train AUROC: 0.7141, Valid AUROC: 0.6923\n",
            "Epoch 12/20, Train Loss: 0.6160, Valid Loss: 0.6249, Train AUROC: 0.7142, Valid AUROC: 0.6921\n",
            "Epoch 13/20, Train Loss: 0.6130, Valid Loss: 0.6221, Train AUROC: 0.7179, Valid AUROC: 0.6949\n",
            "Epoch 14/20, Train Loss: 0.6109, Valid Loss: 0.6497, Train AUROC: 0.7211, Valid AUROC: 0.6979\n",
            "Epoch 15/20, Train Loss: 0.6084, Valid Loss: 0.6342, Train AUROC: 0.7242, Valid AUROC: 0.6976\n",
            "Epoch 16/20, Train Loss: 0.6095, Valid Loss: 0.6256, Train AUROC: 0.7229, Valid AUROC: 0.6970\n",
            "Epoch 17/20, Train Loss: 0.6089, Valid Loss: 0.5972, Train AUROC: 0.7237, Valid AUROC: 0.6973\n",
            "Epoch 18/20, Train Loss: 0.6077, Valid Loss: 0.6321, Train AUROC: 0.7250, Valid AUROC: 0.6987\n",
            "Epoch 19/20, Train Loss: 0.6074, Valid Loss: 0.5871, Train AUROC: 0.7253, Valid AUROC: 0.6962\n",
            "Epoch 20/20, Train Loss: 0.6052, Valid Loss: 0.6314, Train AUROC: 0.7281, Valid AUROC: 0.6970\n"
          ]
        }
      ],
      "source": [
        "import torch\n",
        "import torch.nn as nn\n",
        "import torch.optim as optim\n",
        "from torch.utils.data import DataLoader, TensorDataset\n",
        "import torchmetrics\n",
        "from torch.utils.tensorboard import SummaryWriter\n",
        "import numpy as np\n",
        "import pandas as pd\n",
        "\n",
        "# Determine if a GPU is available\n",
        "device = torch.device('cuda' if torch.cuda.is_available() else 'cpu')\n",
        "print(f\"Using device: {device}\")\n",
        "\n",
        "# Initialize global variables\n",
        "seq_length = 1  # Assuming each sample is treated as a sequence of length 1\n",
        "batch_size = 128\n",
        "epochs = 20\n",
        "early_stopping_patience = 5\n",
        "early_stopping_counter = 0\n",
        "best_valid_auroc = float('-inf')\n",
        "\n",
        "# Convert input data to PyTorch tensors and reshape to 3D if necessary\n",
        "def to_tensor_3d(X, seq_length, features):\n",
        "    num_samples = X.shape[0]\n",
        "    return torch.tensor(X, dtype=torch.float32).view(num_samples, seq_length, features)\n",
        "\n",
        "# Check and convert the input data\n",
        "expected_samples_train = X_train_smote.shape[0]\n",
        "expected_samples_valid = X_valid_tensor.shape[0]\n",
        "features = X_train_smote.shape[1]\n",
        "\n",
        "# Reshape to 3D\n",
        "X_train_smote_3d = to_tensor_3d(X_train_smote, seq_length, features)\n",
        "X_valid_tensor_3d = to_tensor_3d(X_valid_tensor, seq_length, features)\n",
        "\n",
        "# Convert labels to tensors\n",
        "y_train_smote_tensor = torch.tensor(y_train_smote, dtype=torch.float32)\n",
        "y_valid_tensor_3d = torch.tensor(y_valid_tensor, dtype=torch.float32)\n",
        "\n",
        "# Initialize AUROC metrics for binary classification\n",
        "train_auroc_metric = torchmetrics.AUROC(task='binary').to(device)\n",
        "valid_auroc_metric = torchmetrics.AUROC(task='binary').to(device)\n",
        "\n",
        "# Initialize the model with bidirectional=True and move it to the GPU (if available)\n",
        "model = LSTMNetwork(input_size=features, hidden_size=128, num_layers=2, bidirectional=True).to(device)\n",
        "\n",
        "# Optimizer and scheduler\n",
        "optimizer = optim.Adam(model.parameters(), lr=0.0001, weight_decay=1e-4)\n",
        "scheduler = optim.lr_scheduler.ReduceLROnPlateau(optimizer, 'max', patience=3, factor=0.5)\n",
        "\n",
        "# Loss function\n",
        "criterion = nn.BCELoss()\n",
        "\n",
        "# TensorBoard\n",
        "tensorboard_writer = SummaryWriter(log_dir='logs')\n",
        "\n",
        "# Training and validation functions with modifications for early stopping and checkpointing\n",
        "def train(model, criterion, optimizer, loader, auroc_metric):\n",
        "    model.train()\n",
        "    total_loss = 0\n",
        "    auroc_metric.reset()\n",
        "    for inputs, targets in loader:\n",
        "        inputs, targets = inputs.to(device), targets.to(device)  # Move batch to GPU\n",
        "        optimizer.zero_grad()\n",
        "        outputs = model(inputs)\n",
        "        loss = criterion(outputs.squeeze(), targets)\n",
        "        loss.backward()\n",
        "        optimizer.step()\n",
        "        total_loss += loss.item()\n",
        "        auroc_metric.update(outputs.sigmoid(), targets.int())  # Update the AUROC metric with new batch\n",
        "    train_auroc = auroc_metric.compute()  # Compute the aggregated AUROC\n",
        "    return total_loss / len(loader), train_auroc\n",
        "\n",
        "def validate(model, criterion, loader, auroc_metric):\n",
        "    model.eval()\n",
        "    total_loss = 0\n",
        "    auroc_metric.reset()\n",
        "    with torch.no_grad():\n",
        "        for inputs, targets in loader:\n",
        "            inputs, targets = inputs.to(device), targets.to(device)  # Move batch to GPU\n",
        "            outputs = model(inputs)\n",
        "            loss = criterion(outputs.squeeze(), targets)\n",
        "            total_loss += loss.item()\n",
        "            auroc_metric.update(outputs.sigmoid(), targets.int())  # Update the AUROC metric with new batch\n",
        "    val_auroc = auroc_metric.compute()  # Compute the aggregated AUROC\n",
        "    return total_loss / len(loader), val_auroc\n",
        "\n",
        "# Training and validation loop\n",
        "for epoch in range(epochs):\n",
        "    # Create TensorDataset objects\n",
        "    train_dataset = TensorDataset(X_train_smote_3d, y_train_smote_tensor)\n",
        "    valid_dataset = TensorDataset(X_valid_tensor_3d, y_valid_tensor_3d)\n",
        "\n",
        "    # Create DataLoader objects\n",
        "    train_loader = DataLoader(train_dataset, batch_size=batch_size, shuffle=True)\n",
        "    valid_loader = DataLoader(valid_dataset, batch_size=batch_size, shuffle=False)\n",
        "\n",
        "    # Train and validate\n",
        "    train_loss, train_auroc = train(model, criterion, optimizer, train_loader, train_auroc_metric)\n",
        "    valid_loss, valid_auroc = validate(model, criterion, valid_loader, valid_auroc_metric)\n",
        "\n",
        "    # Update scheduler\n",
        "    scheduler.step(valid_auroc)\n",
        "\n",
        "    # Save best model\n",
        "    if valid_auroc > best_valid_auroc:\n",
        "        best_valid_auroc = valid_auroc\n",
        "        torch.save(model.state_dict(), 'best_model.pth')\n",
        "        early_stopping_counter = 0\n",
        "    else:\n",
        "        early_stopping_counter += 1\n",
        "        if early_stopping_counter >= early_stopping_patience:\n",
        "            print(\"Early stopping triggered!\")\n",
        "            break\n",
        "\n",
        "    # Logging and printing\n",
        "    tensorboard_writer.add_scalar('Loss/train', train_loss, epoch)\n",
        "    tensorboard_writer.add_scalar('Loss/valid', valid_loss, epoch)\n",
        "    tensorboard_writer.add_scalar('AUROC/train', train_auroc, epoch)\n",
        "    tensorboard_writer.add_scalar('AUROC/valid', valid_auroc, epoch)\n",
        "\n",
        "    # Print statement\n",
        "    print(f'Epoch {epoch + 1}/{epochs}, Train Loss: {train_loss:.4f}, Valid Loss: {valid_loss:.4f}, Train AUROC: {train_auroc:.4f}, Valid AUROC: {valid_auroc:.4f}')"
      ]
    },
    {
      "cell_type": "code",
      "execution_count": null,
      "id": "f93b6e7b",
      "metadata": {
        "execution": {
          "iopub.execute_input": "2024-05-09T00:26:12.358131Z",
          "iopub.status.busy": "2024-05-09T00:26:12.357762Z",
          "iopub.status.idle": "2024-05-09T00:44:48.410969Z",
          "shell.execute_reply": "2024-05-09T00:44:48.409945Z"
        },
        "papermill": {
          "duration": 1116.089426,
          "end_time": "2024-05-09T00:44:48.429420",
          "exception": false,
          "start_time": "2024-05-09T00:26:12.339994",
          "status": "completed"
        },
        "tags": [],
        "id": "f93b6e7b",
        "outputId": "f1864ded-fe38-407f-961d-21bdab7dd52d"
      },
      "outputs": [
        {
          "name": "stdout",
          "output_type": "stream",
          "text": [
            "Epoch 1/20, Train Loss: 0.6060, Valid Loss: 0.6222, Train AUROC: 0.7270, Valid AUROC: 0.6968\n",
            "Epoch 2/20, Train Loss: 0.6044, Valid Loss: 0.6407, Train AUROC: 0.7289, Valid AUROC: 0.6968\n",
            "Epoch 3/20, Train Loss: 0.6024, Valid Loss: 0.6207, Train AUROC: 0.7316, Valid AUROC: 0.6994\n",
            "Epoch 4/20, Train Loss: 0.6006, Valid Loss: 0.6289, Train AUROC: 0.7344, Valid AUROC: 0.6974\n",
            "Epoch 5/20, Train Loss: 0.5998, Valid Loss: 0.5992, Train AUROC: 0.7350, Valid AUROC: 0.6989\n",
            "Epoch 6/20, Train Loss: 0.5992, Valid Loss: 0.6127, Train AUROC: 0.7356, Valid AUROC: 0.6994\n",
            "Epoch 7/20, Train Loss: 0.5980, Valid Loss: 0.6072, Train AUROC: 0.7373, Valid AUROC: 0.6986\n",
            "Epoch 8/20, Train Loss: 0.5951, Valid Loss: 0.6136, Train AUROC: 0.7412, Valid AUROC: 0.6992\n",
            "Epoch 9/20, Train Loss: 0.5933, Valid Loss: 0.6220, Train AUROC: 0.7431, Valid AUROC: 0.6996\n",
            "Epoch 10/20, Train Loss: 0.5926, Valid Loss: 0.6002, Train AUROC: 0.7440, Valid AUROC: 0.7016\n",
            "Epoch 11/20, Train Loss: 0.5914, Valid Loss: 0.5973, Train AUROC: 0.7455, Valid AUROC: 0.7019\n",
            "Epoch 12/20, Train Loss: 0.5895, Valid Loss: 0.6088, Train AUROC: 0.7477, Valid AUROC: 0.6992\n",
            "Epoch 13/20, Train Loss: 0.5885, Valid Loss: 0.6059, Train AUROC: 0.7488, Valid AUROC: 0.7018\n",
            "Epoch 14/20, Train Loss: 0.5874, Valid Loss: 0.5991, Train AUROC: 0.7501, Valid AUROC: 0.6992\n",
            "Epoch 15/20, Train Loss: 0.5864, Valid Loss: 0.5983, Train AUROC: 0.7512, Valid AUROC: 0.7009\n",
            "Early stopping triggered!\n"
          ]
        }
      ],
      "source": [
        "# Initialize lists to store metrics across epochs\n",
        "train_losses = []\n",
        "valid_losses = []\n",
        "train_aurocs = []\n",
        "valid_aurocs = []\n",
        "\n",
        "# Training and validation loop\n",
        "for epoch in range(epochs):\n",
        "    # Create TensorDataset objects\n",
        "    train_dataset = TensorDataset(X_train_smote_3d, y_train_smote_tensor)\n",
        "    valid_dataset = TensorDataset(X_valid_tensor_3d, y_valid_tensor_3d)\n",
        "\n",
        "    # Create DataLoader objects\n",
        "    train_loader = DataLoader(train_dataset, batch_size=batch_size, shuffle=True)\n",
        "    valid_loader = DataLoader(valid_dataset, batch_size=batch_size, shuffle=False)\n",
        "\n",
        "    # Train and validate\n",
        "    train_loss, train_auroc = train(model, criterion, optimizer, train_loader, train_auroc_metric)\n",
        "    valid_loss, valid_auroc = validate(model, criterion, valid_loader, valid_auroc_metric)\n",
        "\n",
        "    # Update scheduler\n",
        "    scheduler.step(valid_auroc)\n",
        "\n",
        "    # Save best model\n",
        "    if valid_auroc > best_valid_auroc:\n",
        "        best_valid_auroc = valid_auroc\n",
        "        torch.save(model.state_dict(), 'best_model.pth')\n",
        "        early_stopping_counter = 0\n",
        "    else:\n",
        "        early_stopping_counter += 1\n",
        "        if early_stopping_counter >= early_stopping_patience:\n",
        "            print(\"Early stopping triggered!\")\n",
        "            break\n",
        "\n",
        "    # Append metrics to lists for later visualization\n",
        "    train_losses.append(train_loss)\n",
        "    valid_losses.append(valid_loss)\n",
        "    train_aurocs.append(train_auroc.item())  # Ensure it's a scalar value\n",
        "    valid_aurocs.append(valid_auroc.item())\n",
        "\n",
        "    # Logging and printing\n",
        "    tensorboard_writer.add_scalar('Loss/train', train_loss, epoch)\n",
        "    tensorboard_writer.add_scalar('Loss/valid', valid_loss, epoch)\n",
        "    tensorboard_writer.add_scalar('AUROC/train', train_auroc, epoch)\n",
        "    tensorboard_writer.add_scalar('AUROC/valid', valid_auroc, epoch)\n",
        "\n",
        "    # Print statement\n",
        "    print(f'Epoch {epoch + 1}/{epochs}, Train Loss: {train_loss:.4f}, Valid Loss: {valid_loss:.4f}, Train AUROC: {train_auroc:.4f}, Valid AUROC: {valid_auroc:.4f}')\n",
        "\n",
        "# After the training loop ends, the lists contain all the epoch-wise metrics.\n",
        "# Use these lists to visualize the training process or analyze trends."
      ]
    },
    {
      "cell_type": "code",
      "execution_count": null,
      "id": "479047d6",
      "metadata": {
        "execution": {
          "iopub.execute_input": "2024-05-09T00:44:48.463996Z",
          "iopub.status.busy": "2024-05-09T00:44:48.463646Z",
          "iopub.status.idle": "2024-05-09T00:44:49.113748Z",
          "shell.execute_reply": "2024-05-09T00:44:49.112953Z"
        },
        "id": "479047d6",
        "outputId": "e4994795-b93b-4601-d9d1-cc8891ce88ca",
        "papermill": {
          "duration": 0.670297,
          "end_time": "2024-05-09T00:44:49.116235",
          "exception": false,
          "start_time": "2024-05-09T00:44:48.445938",
          "status": "completed"
        },
        "tags": []
      },
      "outputs": [
        {
          "data": {
            "image/png": "[encoded data removed]",
            "text/plain": [
              "<Figure size 1000x500 with 1 Axes>"
            ]
          },
          "metadata": {},
          "output_type": "display_data"
        },
        {
          "data": {
            "image/png": "[encoded data removed]",
            "text/plain": [
              "<Figure size 1000x500 with 1 Axes>"
            ]
          },
          "metadata": {},
          "output_type": "display_data"
        }
      ],
      "source": [
        "import matplotlib.pyplot as plt\n",
        "import numpy as np\n",
        "\n",
        "# Plot training and validation loss with standard deviation shading\n",
        "plt.figure(figsize=(10, 5))\n",
        "\n",
        "# Training loss and its standard deviation\n",
        "train_loss_std = np.std(train_losses)\n",
        "valid_loss_std = np.std(valid_losses)\n",
        "\n",
        "plt.plot(train_losses, label='Training Loss')\n",
        "plt.fill_between(range(len(train_losses)),\n",
        "                 np.array(train_losses) - train_loss_std,\n",
        "                 np.array(train_losses) + train_loss_std,\n",
        "                 color='gray', alpha=0.2)\n",
        "\n",
        "# Validation loss and its standard deviation\n",
        "plt.plot(valid_losses, label='Validation Loss')\n",
        "plt.fill_between(range(len(valid_losses)),\n",
        "                 np.array(valid_losses) - valid_loss_std,\n",
        "                 np.array(valid_losses) + valid_loss_std,\n",
        "                 color='gray', alpha=0.2)\n",
        "\n",
        "plt.title('Training and Validation Loss')\n",
        "plt.xlabel('Epochs')\n",
        "plt.ylabel('Loss')\n",
        "plt.legend()\n",
        "plt.show()\n",
        "\n",
        "# Plot training and validation AUC with standard deviation shading\n",
        "plt.figure(figsize=(10, 5))\n",
        "\n",
        "# AUC standard deviation\n",
        "train_auroc_std = np.std(train_aurocs)\n",
        "valid_auroc_std = np.std(valid_aurocs)\n",
        "\n",
        "plt.plot(train_aurocs, label='Training AUROC')\n",
        "plt.fill_between(range(len(train_aurocs)),\n",
        "                 np.array(train_aurocs) - train_auroc_std,\n",
        "                 np.array(train_aurocs) + train_auroc_std,\n",
        "                 color='gray', alpha=0.2)\n",
        "\n",
        "plt.plot(valid_aurocs, label='Validation AUROC')\n",
        "plt.fill_between(range(len(valid_aurocs)),\n",
        "                 np.array(valid_aurocs) - valid_auroc_std,\n",
        "                 np.array(valid_aurocs) + valid_auroc_std,\n",
        "                 color='gray', alpha=0.2)\n",
        "\n",
        "plt.title('Training and Validation AUROC')\n",
        "plt.xlabel('Epochs')\n",
        "plt.ylabel('AUROC')\n",
        "plt.legend()\n",
        "plt.show()"
      ]
    },
    {
      "cell_type": "markdown",
      "id": "f5b468fb",
      "metadata": {
        "id": "f5b468fb",
        "papermill": {
          "duration": 0.018014,
          "end_time": "2024-05-09T00:44:49.152931",
          "exception": false,
          "start_time": "2024-05-09T00:44:49.134917",
          "status": "completed"
        },
        "tags": []
      },
      "source": [
        "After running the code, TensorBoard logs can be visualized using the following command. This will open a web interface where you can view the loss and other metrics."
      ]
    },
    {
      "cell_type": "markdown",
      "id": "d6b4f531",
      "metadata": {
        "id": "d6b4f531",
        "papermill": {
          "duration": 0.017997,
          "end_time": "2024-05-09T00:44:49.232834",
          "exception": false,
          "start_time": "2024-05-09T00:44:49.214837",
          "status": "completed"
        },
        "tags": []
      },
      "source": [
        "We will now evaluate the neural network performance with AUC and gini stability below."
      ]
    },
    {
      "cell_type": "code",
      "execution_count": null,
      "id": "7edc684d",
      "metadata": {
        "execution": {
          "iopub.execute_input": "2024-05-09T00:44:49.270612Z",
          "iopub.status.busy": "2024-05-09T00:44:49.270319Z",
          "iopub.status.idle": "2024-05-09T00:45:20.053751Z",
          "shell.execute_reply": "2024-05-09T00:45:20.052565Z"
        },
        "id": "7edc684d",
        "outputId": "4aea4713-07d6-4169-c2ef-a25a0b2c07b9",
        "papermill": {
          "duration": 30.804955,
          "end_time": "2024-05-09T00:45:20.055883",
          "exception": false,
          "start_time": "2024-05-09T00:44:49.250928",
          "status": "completed"
        },
        "tags": []
      },
      "outputs": [
        {
          "name": "stdout",
          "output_type": "stream",
          "text": [
            "The AUC score on the train set is: 0.718079921054649\n",
            "The AUC score on the valid set is: 0.7004601950914495\n",
            "The AUC score on the test set is: 0.702618635085889\n"
          ]
        }
      ],
      "source": [
        "import torch\n",
        "from torch.utils.data import TensorDataset, DataLoader\n",
        "from sklearn.metrics import roc_auc_score\n",
        "\n",
        "# Function to create 3D tensors from 2D input data\n",
        "def to_tensor_3d(X, seq_length, features):\n",
        "    num_samples = X.shape[0]\n",
        "    return torch.tensor(X, dtype=torch.float32).view(num_samples, seq_length, features)\n",
        "\n",
        "# Set batch size for prediction\n",
        "batch_size = 128\n",
        "\n",
        "# Process each dataset (train, validation, test) using batching\n",
        "for base, X in [(base_train, X_train), (base_valid, X_valid), (base_test, X_test)]:\n",
        "    seq_length = 1  # Assuming a single time step sequence length\n",
        "    features = X.shape[1]  # Number of features per sample\n",
        "\n",
        "    # Convert to 3D tensor\n",
        "    X_tensor_3d = to_tensor_3d(X, seq_length, features)\n",
        "\n",
        "    # Create a TensorDataset and DataLoader for batch processing\n",
        "    dataset = TensorDataset(X_tensor_3d)\n",
        "    dataloader = DataLoader(dataset, batch_size=batch_size, shuffle=False)\n",
        "\n",
        "    # Initialize an empty list to store predictions\n",
        "    all_predictions = []\n",
        "\n",
        "    # Set model to evaluation mode and predict in batches\n",
        "    model.eval()\n",
        "    with torch.no_grad():  # Disable gradients for prediction\n",
        "        for batch in dataloader:\n",
        "            X_batch = batch[0].to(device)\n",
        "            y_pred = model(X_batch).squeeze().cpu().numpy()\n",
        "            all_predictions.extend(y_pred)\n",
        "\n",
        "    # Store predictions in the DataFrame\n",
        "    base[\"score\"] = all_predictions\n",
        "\n",
        "# Print AUC scores using scikit-learn's roc_auc_score function\n",
        "print(f'The AUC score on the train set is: {roc_auc_score(base_train[\"target\"], base_train[\"score\"])}')\n",
        "print(f'The AUC score on the valid set is: {roc_auc_score(base_valid[\"target\"], base_valid[\"score\"])}')\n",
        "print(f'The AUC score on the test set is: {roc_auc_score(base_test[\"target\"], base_test[\"score\"])}')"
      ]
    },
    {
      "cell_type": "code",
      "execution_count": null,
      "id": "190ec332",
      "metadata": {
        "execution": {
          "iopub.execute_input": "2024-05-09T00:45:20.095316Z",
          "iopub.status.busy": "2024-05-09T00:45:20.094515Z",
          "iopub.status.idle": "2024-05-09T00:45:21.095468Z",
          "shell.execute_reply": "2024-05-09T00:45:21.094538Z"
        },
        "id": "190ec332",
        "outputId": "d72723c7-253a-4115-ce61-a935d34a1b29",
        "papermill": {
          "duration": 1.023171,
          "end_time": "2024-05-09T00:45:21.097852",
          "exception": false,
          "start_time": "2024-05-09T00:45:20.074681",
          "status": "completed"
        },
        "tags": []
      },
      "outputs": [
        {
          "name": "stdout",
          "output_type": "stream",
          "text": [
            "The stability score on the train set is: 0.4107\n",
            "The stability score on the valid set is: 0.3687\n",
            "The stability score on the test set is: 0.3618\n"
          ]
        }
      ],
      "source": [
        "import numpy as np\n",
        "from sklearn.metrics import roc_auc_score\n",
        "\n",
        "def gini_stability(base, w_fallingrate=88.0, w_resstd=-0.5):\n",
        "    # Calculate Gini coefficient per week (2 * AUC - 1)\n",
        "    gini_in_time = base.loc[:, [\"WEEK_NUM\", \"target\", \"score\"]] \\\n",
        "        .sort_values(\"WEEK_NUM\") \\\n",
        "        .groupby(\"WEEK_NUM\")[[\"target\", \"score\"]] \\\n",
        "        .apply(lambda x: 2 * roc_auc_score(x[\"target\"], x[\"score\"]) - 1).tolist()\n",
        "\n",
        "    # Linear trend analysis (slope)\n",
        "    x = np.arange(len(gini_in_time))\n",
        "    y = gini_in_time\n",
        "    a, b = np.polyfit(x, y, 1)  # Linear regression to find slope and intercept\n",
        "    y_hat = a * x + b\n",
        "    residuals = y - y_hat\n",
        "    res_std = np.std(residuals)\n",
        "    avg_gini = np.mean(gini_in_time)\n",
        "\n",
        "    # Calculate the stability score\n",
        "    return avg_gini + w_fallingrate * min(0, a) + w_resstd * res_std\n",
        "\n",
        "# Calculate stability scores for each dataset\n",
        "stability_score_train = gini_stability(base_train)\n",
        "stability_score_valid = gini_stability(base_valid)\n",
        "stability_score_test = gini_stability(base_test)\n",
        "\n",
        "# Print out the stability scores\n",
        "print(f'The stability score on the train set is: {stability_score_train:.4f}')\n",
        "print(f'The stability score on the valid set is: {stability_score_valid:.4f}')\n",
        "print(f'The stability score on the test set is: {stability_score_test:.4f}')"
      ]
    },
    {
      "cell_type": "markdown",
      "id": "17e1cabc",
      "metadata": {
        "id": "17e1cabc",
        "papermill": {
          "duration": 0.018351,
          "end_time": "2024-05-09T00:45:21.134994",
          "exception": false,
          "start_time": "2024-05-09T00:45:21.116643",
          "status": "completed"
        },
        "tags": []
      },
      "source": [
        "## **Submission**\n",
        "\n",
        "We will now make predictions with the neural network for the submission dataset."
      ]
    },
    {
      "cell_type": "code",
      "execution_count": null,
      "id": "74bf91f1",
      "metadata": {
        "execution": {
          "iopub.execute_input": "2024-05-09T00:45:21.172896Z",
          "iopub.status.busy": "2024-05-09T00:45:21.172583Z",
          "iopub.status.idle": "2024-05-09T00:45:21.205773Z",
          "shell.execute_reply": "2024-05-09T00:45:21.204670Z"
        },
        "id": "74bf91f1",
        "outputId": "68658b76-b7b1-4a55-881a-f01fee547e92",
        "papermill": {
          "duration": 0.054512,
          "end_time": "2024-05-09T00:45:21.207821",
          "exception": false,
          "start_time": "2024-05-09T00:45:21.153309",
          "status": "completed"
        },
        "tags": []
      },
      "outputs": [
        {
          "name": "stdout",
          "output_type": "stream",
          "text": [
            "Submission saved to: /kaggle/working/submission.csv\n"
          ]
        }
      ],
      "source": [
        "import torch\n",
        "import pandas as pd\n",
        "from torch.utils.data import DataLoader, TensorDataset\n",
        "\n",
        "# Ensure the model is on the correct device\n",
        "device = torch.device('cuda' if torch.cuda.is_available() else 'cpu')\n",
        "model = model.to(device)\n",
        "model.eval()  # Set the model to evaluation mode\n",
        "\n",
        "# Convert the submission input to a PyTorch tensor and ensure it's the right shape\n",
        "# Add an extra dimension for sequence length of 1 (if necessary for your model)\n",
        "X_submission_tensor = torch.tensor(X_submission.astype('float32')).unsqueeze(1).to(device)\n",
        "\n",
        "# Set batch size for predictions\n",
        "batch_size = 128\n",
        "\n",
        "# Create a DataLoader for the submission data\n",
        "dataset = TensorDataset(X_submission_tensor)\n",
        "dataloader = DataLoader(dataset, batch_size=batch_size, shuffle=False)\n",
        "\n",
        "# Initialize an empty list to collect predictions\n",
        "submission_preds = []\n",
        "\n",
        "# Get predictions using batches\n",
        "with torch.no_grad():  # No need to track gradients for prediction\n",
        "    for batch in dataloader:\n",
        "        X_batch = batch[0].to(device)\n",
        "\n",
        "        # Pass through the model and convert to NumPy\n",
        "        y_batch_pred = model(X_batch).cpu().numpy()\n",
        "\n",
        "        # Extract the first item from the list or array, assuming each prediction is wrapped in a list\n",
        "        if y_batch_pred.ndim == 0:\n",
        "            submission_preds.append(y_batch_pred.item())  # Handle scalar values\n",
        "        else:\n",
        "            submission_preds.extend(y_batch_pred.flatten())  # Extract single values\n",
        "\n",
        "# Ensure the 'case_id' and predictions have matching lengths\n",
        "if len(submission_preds) != len(data_submission[\"case_id\"]):\n",
        "    raise ValueError(\"The number of predictions does not match the number of case IDs.\")\n",
        "\n",
        "# Create a pandas DataFrame for submission\n",
        "submission = pd.DataFrame({\n",
        "    \"case_id\": data_submission[\"case_id\"].to_numpy(),\n",
        "    \"score\": submission_preds\n",
        "}).set_index(\"case_id\")\n",
        "\n",
        "# Save the submission DataFrame to a CSV file\n",
        "submission_file_path = \"/kaggle/working/submission.csv\"\n",
        "submission.to_csv(submission_file_path)\n",
        "\n",
        "# Confirm that the file has been saved\n",
        "print(f\"Submission saved to: {submission_file_path}\")\n"
      ]
    },
    {
      "cell_type": "markdown",
      "id": "d8998f62",
      "metadata": {
        "id": "d8998f62",
        "papermill": {
          "duration": 0.018247,
          "end_time": "2024-05-09T00:45:21.244730",
          "exception": false,
          "start_time": "2024-05-09T00:45:21.226483",
          "status": "completed"
        },
        "tags": []
      },
      "source": [
        "View the submission dataframe."
      ]
    },
    {
      "cell_type": "code",
      "execution_count": null,
      "id": "cab4fe94",
      "metadata": {
        "execution": {
          "iopub.execute_input": "2024-05-09T00:45:21.283369Z",
          "iopub.status.busy": "2024-05-09T00:45:21.283092Z",
          "iopub.status.idle": "2024-05-09T00:45:21.286770Z",
          "shell.execute_reply": "2024-05-09T00:45:21.285953Z"
        },
        "papermill": {
          "duration": 0.025156,
          "end_time": "2024-05-09T00:45:21.288753",
          "exception": false,
          "start_time": "2024-05-09T00:45:21.263597",
          "status": "completed"
        },
        "tags": [],
        "id": "cab4fe94"
      },
      "outputs": [],
      "source": [
        "# import pandas as pd\n",
        "# import ast\n",
        "\n",
        "# sub = pd.read_csv(\"/kaggle/working/submission.csv\")\n",
        "# sub['score'] = sub['score'].apply(lambda x: float(ast.literal_eval(x)[0]))\n",
        "# sub.to_csv(\"./submission.csv\")"
      ]
    },
    {
      "cell_type": "code",
      "execution_count": null,
      "id": "0485aeba",
      "metadata": {
        "execution": {
          "iopub.execute_input": "2024-05-09T00:45:21.326848Z",
          "iopub.status.busy": "2024-05-09T00:45:21.326571Z",
          "iopub.status.idle": "2024-05-09T00:45:21.337890Z",
          "shell.execute_reply": "2024-05-09T00:45:21.337034Z"
        },
        "id": "0485aeba",
        "outputId": "f2f118f7-6c78-4100-b78d-994102d94be1",
        "papermill": {
          "duration": 0.032703,
          "end_time": "2024-05-09T00:45:21.339838",
          "exception": false,
          "start_time": "2024-05-09T00:45:21.307135",
          "status": "completed"
        },
        "tags": []
      },
      "outputs": [
        {
          "data": {
            "text/html": [
              "<div>\n",
              "<style scoped>\n",
              "    .dataframe tbody tr th:only-of-type {\n",
              "        vertical-align: middle;\n",
              "    }\n",
              "\n",
              "    .dataframe tbody tr th {\n",
              "        vertical-align: top;\n",
              "    }\n",
              "\n",
              "    .dataframe thead th {\n",
              "        text-align: right;\n",
              "    }\n",
              "</style>\n",
              "<table border=\"1\" class=\"dataframe\">\n",
              "  <thead>\n",
              "    <tr style=\"text-align: right;\">\n",
              "      <th></th>\n",
              "      <th>score</th>\n",
              "    </tr>\n",
              "    <tr>\n",
              "      <th>case_id</th>\n",
              "      <th></th>\n",
              "    </tr>\n",
              "  </thead>\n",
              "  <tbody>\n",
              "    <tr>\n",
              "      <th>57543</th>\n",
              "      <td>0.349886</td>\n",
              "    </tr>\n",
              "    <tr>\n",
              "      <th>57549</th>\n",
              "      <td>0.629672</td>\n",
              "    </tr>\n",
              "    <tr>\n",
              "      <th>57551</th>\n",
              "      <td>0.024286</td>\n",
              "    </tr>\n",
              "    <tr>\n",
              "      <th>57552</th>\n",
              "      <td>0.614060</td>\n",
              "    </tr>\n",
              "    <tr>\n",
              "      <th>57569</th>\n",
              "      <td>0.576578</td>\n",
              "    </tr>\n",
              "    <tr>\n",
              "      <th>57630</th>\n",
              "      <td>0.649102</td>\n",
              "    </tr>\n",
              "    <tr>\n",
              "      <th>57631</th>\n",
              "      <td>0.712613</td>\n",
              "    </tr>\n",
              "    <tr>\n",
              "      <th>57632</th>\n",
              "      <td>0.066065</td>\n",
              "    </tr>\n",
              "    <tr>\n",
              "      <th>57633</th>\n",
              "      <td>0.697855</td>\n",
              "    </tr>\n",
              "    <tr>\n",
              "      <th>57634</th>\n",
              "      <td>0.115913</td>\n",
              "    </tr>\n",
              "  </tbody>\n",
              "</table>\n",
              "</div>"
            ],
            "text/plain": [
              "            score\n",
              "case_id          \n",
              "57543    0.349886\n",
              "57549    0.629672\n",
              "57551    0.024286\n",
              "57552    0.614060\n",
              "57569    0.576578\n",
              "57630    0.649102\n",
              "57631    0.712613\n",
              "57632    0.066065\n",
              "57633    0.697855\n",
              "57634    0.115913"
            ]
          },
          "execution_count": 37,
          "metadata": {},
          "output_type": "execute_result"
        }
      ],
      "source": [
        "submission"
      ]
    },
    {
      "cell_type": "code",
      "execution_count": null,
      "id": "9650fcc3",
      "metadata": {
        "execution": {
          "iopub.execute_input": "2024-05-09T00:45:21.378959Z",
          "iopub.status.busy": "2024-05-09T00:45:21.378381Z",
          "iopub.status.idle": "2024-05-09T00:45:21.384571Z",
          "shell.execute_reply": "2024-05-09T00:45:21.383654Z"
        },
        "papermill": {
          "duration": 0.027765,
          "end_time": "2024-05-09T00:45:21.386431",
          "exception": false,
          "start_time": "2024-05-09T00:45:21.358666",
          "status": "completed"
        },
        "tags": [],
        "id": "9650fcc3",
        "outputId": "bc37c52b-ac22-41e6-9581-ac0894764ddd"
      },
      "outputs": [
        {
          "data": {
            "text/plain": [
              "score    float32\n",
              "dtype: object"
            ]
          },
          "execution_count": 38,
          "metadata": {},
          "output_type": "execute_result"
        }
      ],
      "source": [
        "submission.dtypes"
      ]
    }
  ],
  "metadata": {
    "colab": {
      "provenance": []
    },
    "kaggle": {
      "accelerator": "gpu",
      "dataSources": [
        {
          "databundleVersionId": 7921029,
          "sourceId": 50160,
          "sourceType": "competition"
        }
      ],
      "dockerImageVersionId": 30698,
      "isGpuEnabled": true,
      "isInternetEnabled": false,
      "language": "python",
      "sourceType": "notebook"
    },
    "kernelspec": {
      "display_name": "Python 3",
      "language": "python",
      "name": "python3"
    },
    "language_info": {
      "codemirror_mode": {
        "name": "ipython",
        "version": 3
      },
      "file_extension": ".py",
      "mimetype": "text/x-python",
      "name": "python",
      "nbconvert_exporter": "python",
      "pygments_lexer": "ipython3",
      "version": "3.10.13"
    },
    "papermill": {
      "default_parameters": {},
      "duration": 2645.255425,
      "end_time": "2024-05-09T00:45:24.502127",
      "environment_variables": {},
      "exception": null,
      "input_path": "__notebook__.ipynb",
      "output_path": "__notebook__.ipynb",
      "parameters": {},
      "start_time": "2024-05-09T00:01:19.246702",
      "version": "2.5.0"
    }
  },
  "nbformat": 4,
  "nbformat_minor": 5
}