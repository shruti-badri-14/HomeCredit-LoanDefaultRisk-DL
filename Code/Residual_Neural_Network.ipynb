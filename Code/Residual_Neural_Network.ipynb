{
 "cells": [
  {
   "cell_type": "code",
   "execution_count": 1,
   "id": "d321954d",
   "metadata": {
    "_cell_guid": "b1076dfc-b9ad-4769-8c92-a6c4dae69d19",
    "_kg_hide-input": true,
    "_kg_hide-output": true,
    "_uuid": "8f2839f25d086af736a60e9eeb907d3b93b6e0e5",
    "execution": {
     "iopub.execute_input": "2024-05-07T15:25:44.666101Z",
     "iopub.status.busy": "2024-05-07T15:25:44.665747Z",
     "iopub.status.idle": "2024-05-07T15:25:46.680046Z",
     "shell.execute_reply": "2024-05-07T15:25:46.679146Z"
    },
    "papermill": {
     "duration": 2.028277,
     "end_time": "2024-05-07T15:25:46.683098",
     "exception": false,
     "start_time": "2024-05-07T15:25:44.654821",
     "status": "completed"
    },
    "tags": []
   },
   "outputs": [
    {
     "name": "stdout",
     "output_type": "stream",
     "text": [
      "/kaggle/input/home-credit-credit-risk-model-stability/sample_submission.csv\n",
      "/kaggle/input/home-credit-credit-risk-model-stability/feature_definitions.csv\n",
      "/kaggle/input/home-credit-credit-risk-model-stability/parquet_files/test/test_deposit_1.parquet\n",
      "/kaggle/input/home-credit-credit-risk-model-stability/parquet_files/test/test_applprev_2.parquet\n",
      "/kaggle/input/home-credit-credit-risk-model-stability/parquet_files/test/test_static_cb_0.parquet\n",
      "/kaggle/input/home-credit-credit-risk-model-stability/parquet_files/test/test_static_0_0.parquet\n",
      "/kaggle/input/home-credit-credit-risk-model-stability/parquet_files/test/test_credit_bureau_a_1_3.parquet\n",
      "/kaggle/input/home-credit-credit-risk-model-stability/parquet_files/test/test_credit_bureau_a_1_2.parquet\n",
      "/kaggle/input/home-credit-credit-risk-model-stability/parquet_files/test/test_tax_registry_b_1.parquet\n",
      "/kaggle/input/home-credit-credit-risk-model-stability/parquet_files/test/test_static_0_2.parquet\n",
      "/kaggle/input/home-credit-credit-risk-model-stability/parquet_files/test/test_credit_bureau_a_2_3.parquet\n",
      "/kaggle/input/home-credit-credit-risk-model-stability/parquet_files/test/test_credit_bureau_a_2_9.parquet\n",
      "/kaggle/input/home-credit-credit-risk-model-stability/parquet_files/test/test_debitcard_1.parquet\n",
      "/kaggle/input/home-credit-credit-risk-model-stability/parquet_files/test/test_credit_bureau_a_1_1.parquet\n",
      "/kaggle/input/home-credit-credit-risk-model-stability/parquet_files/test/test_credit_bureau_a_2_2.parquet\n",
      "/kaggle/input/home-credit-credit-risk-model-stability/parquet_files/test/test_credit_bureau_a_2_11.parquet\n",
      "/kaggle/input/home-credit-credit-risk-model-stability/parquet_files/test/test_applprev_1_2.parquet\n",
      "/kaggle/input/home-credit-credit-risk-model-stability/parquet_files/test/test_credit_bureau_a_2_1.parquet\n",
      "/kaggle/input/home-credit-credit-risk-model-stability/parquet_files/test/test_credit_bureau_a_1_4.parquet\n",
      "/kaggle/input/home-credit-credit-risk-model-stability/parquet_files/test/test_tax_registry_c_1.parquet\n",
      "/kaggle/input/home-credit-credit-risk-model-stability/parquet_files/test/test_applprev_1_0.parquet\n",
      "/kaggle/input/home-credit-credit-risk-model-stability/parquet_files/test/test_tax_registry_a_1.parquet\n",
      "/kaggle/input/home-credit-credit-risk-model-stability/parquet_files/test/test_credit_bureau_a_2_6.parquet\n",
      "/kaggle/input/home-credit-credit-risk-model-stability/parquet_files/test/test_credit_bureau_a_2_5.parquet\n",
      "/kaggle/input/home-credit-credit-risk-model-stability/parquet_files/test/test_credit_bureau_b_1.parquet\n",
      "/kaggle/input/home-credit-credit-risk-model-stability/parquet_files/test/test_other_1.parquet\n",
      "/kaggle/input/home-credit-credit-risk-model-stability/parquet_files/test/test_static_0_1.parquet\n",
      "/kaggle/input/home-credit-credit-risk-model-stability/parquet_files/test/test_credit_bureau_a_2_0.parquet\n",
      "/kaggle/input/home-credit-credit-risk-model-stability/parquet_files/test/test_applprev_1_1.parquet\n",
      "/kaggle/input/home-credit-credit-risk-model-stability/parquet_files/test/test_base.parquet\n",
      "/kaggle/input/home-credit-credit-risk-model-stability/parquet_files/test/test_person_1.parquet\n",
      "/kaggle/input/home-credit-credit-risk-model-stability/parquet_files/test/test_credit_bureau_a_2_7.parquet\n",
      "/kaggle/input/home-credit-credit-risk-model-stability/parquet_files/test/test_credit_bureau_a_2_10.parquet\n",
      "/kaggle/input/home-credit-credit-risk-model-stability/parquet_files/test/test_credit_bureau_b_2.parquet\n",
      "/kaggle/input/home-credit-credit-risk-model-stability/parquet_files/test/test_credit_bureau_a_2_8.parquet\n",
      "/kaggle/input/home-credit-credit-risk-model-stability/parquet_files/test/test_credit_bureau_a_1_0.parquet\n",
      "/kaggle/input/home-credit-credit-risk-model-stability/parquet_files/test/test_credit_bureau_a_2_4.parquet\n",
      "/kaggle/input/home-credit-credit-risk-model-stability/parquet_files/test/test_person_2.parquet\n",
      "/kaggle/input/home-credit-credit-risk-model-stability/parquet_files/train/train_tax_registry_c_1.parquet\n",
      "/kaggle/input/home-credit-credit-risk-model-stability/parquet_files/train/train_static_0_0.parquet\n",
      "/kaggle/input/home-credit-credit-risk-model-stability/parquet_files/train/train_credit_bureau_a_1_3.parquet\n",
      "/kaggle/input/home-credit-credit-risk-model-stability/parquet_files/train/train_credit_bureau_b_2.parquet\n",
      "/kaggle/input/home-credit-credit-risk-model-stability/parquet_files/train/train_applprev_1_1.parquet\n",
      "/kaggle/input/home-credit-credit-risk-model-stability/parquet_files/train/train_static_cb_0.parquet\n",
      "/kaggle/input/home-credit-credit-risk-model-stability/parquet_files/train/train_other_1.parquet\n",
      "/kaggle/input/home-credit-credit-risk-model-stability/parquet_files/train/train_credit_bureau_a_2_6.parquet\n",
      "/kaggle/input/home-credit-credit-risk-model-stability/parquet_files/train/train_tax_registry_a_1.parquet\n",
      "/kaggle/input/home-credit-credit-risk-model-stability/parquet_files/train/train_tax_registry_b_1.parquet\n",
      "/kaggle/input/home-credit-credit-risk-model-stability/parquet_files/train/train_credit_bureau_a_2_1.parquet\n",
      "/kaggle/input/home-credit-credit-risk-model-stability/parquet_files/train/train_person_1.parquet\n",
      "/kaggle/input/home-credit-credit-risk-model-stability/parquet_files/train/train_person_2.parquet\n",
      "/kaggle/input/home-credit-credit-risk-model-stability/parquet_files/train/train_credit_bureau_b_1.parquet\n",
      "/kaggle/input/home-credit-credit-risk-model-stability/parquet_files/train/train_credit_bureau_a_2_0.parquet\n",
      "/kaggle/input/home-credit-credit-risk-model-stability/parquet_files/train/train_credit_bureau_a_2_7.parquet\n",
      "/kaggle/input/home-credit-credit-risk-model-stability/parquet_files/train/train_deposit_1.parquet\n",
      "/kaggle/input/home-credit-credit-risk-model-stability/parquet_files/train/train_debitcard_1.parquet\n",
      "/kaggle/input/home-credit-credit-risk-model-stability/parquet_files/train/train_credit_bureau_a_2_5.parquet\n",
      "/kaggle/input/home-credit-credit-risk-model-stability/parquet_files/train/train_credit_bureau_a_2_2.parquet\n",
      "/kaggle/input/home-credit-credit-risk-model-stability/parquet_files/train/train_credit_bureau_a_2_4.parquet\n",
      "/kaggle/input/home-credit-credit-risk-model-stability/parquet_files/train/train_base.parquet\n",
      "/kaggle/input/home-credit-credit-risk-model-stability/parquet_files/train/train_credit_bureau_a_2_9.parquet\n",
      "/kaggle/input/home-credit-credit-risk-model-stability/parquet_files/train/train_credit_bureau_a_2_3.parquet\n",
      "/kaggle/input/home-credit-credit-risk-model-stability/parquet_files/train/train_applprev_2.parquet\n",
      "/kaggle/input/home-credit-credit-risk-model-stability/parquet_files/train/train_credit_bureau_a_2_10.parquet\n",
      "/kaggle/input/home-credit-credit-risk-model-stability/parquet_files/train/train_credit_bureau_a_2_8.parquet\n",
      "/kaggle/input/home-credit-credit-risk-model-stability/parquet_files/train/train_credit_bureau_a_1_2.parquet\n",
      "/kaggle/input/home-credit-credit-risk-model-stability/parquet_files/train/train_static_0_1.parquet\n",
      "/kaggle/input/home-credit-credit-risk-model-stability/parquet_files/train/train_credit_bureau_a_1_0.parquet\n",
      "/kaggle/input/home-credit-credit-risk-model-stability/parquet_files/train/train_credit_bureau_a_1_1.parquet\n",
      "/kaggle/input/home-credit-credit-risk-model-stability/parquet_files/train/train_applprev_1_0.parquet\n",
      "/kaggle/input/home-credit-credit-risk-model-stability/csv_files/test/test_credit_bureau_a_2_6.csv\n",
      "/kaggle/input/home-credit-credit-risk-model-stability/csv_files/test/test_credit_bureau_a_2_11.csv\n",
      "/kaggle/input/home-credit-credit-risk-model-stability/csv_files/test/test_credit_bureau_a_2_0.csv\n",
      "/kaggle/input/home-credit-credit-risk-model-stability/csv_files/test/test_credit_bureau_a_2_9.csv\n",
      "/kaggle/input/home-credit-credit-risk-model-stability/csv_files/test/test_base.csv\n",
      "/kaggle/input/home-credit-credit-risk-model-stability/csv_files/test/test_credit_bureau_a_1_1.csv\n",
      "/kaggle/input/home-credit-credit-risk-model-stability/csv_files/test/test_credit_bureau_b_2.csv\n",
      "/kaggle/input/home-credit-credit-risk-model-stability/csv_files/test/test_credit_bureau_a_2_10.csv\n",
      "/kaggle/input/home-credit-credit-risk-model-stability/csv_files/test/test_credit_bureau_a_2_4.csv\n",
      "/kaggle/input/home-credit-credit-risk-model-stability/csv_files/test/test_static_0_0.csv\n",
      "/kaggle/input/home-credit-credit-risk-model-stability/csv_files/test/test_static_cb_0.csv\n",
      "/kaggle/input/home-credit-credit-risk-model-stability/csv_files/test/test_credit_bureau_a_2_2.csv\n",
      "/kaggle/input/home-credit-credit-risk-model-stability/csv_files/test/test_credit_bureau_b_1.csv\n",
      "/kaggle/input/home-credit-credit-risk-model-stability/csv_files/test/test_tax_registry_b_1.csv\n",
      "/kaggle/input/home-credit-credit-risk-model-stability/csv_files/test/test_person_2.csv\n",
      "/kaggle/input/home-credit-credit-risk-model-stability/csv_files/test/test_person_1.csv\n",
      "/kaggle/input/home-credit-credit-risk-model-stability/csv_files/test/test_credit_bureau_a_2_8.csv\n",
      "/kaggle/input/home-credit-credit-risk-model-stability/csv_files/test/test_applprev_1_2.csv\n",
      "/kaggle/input/home-credit-credit-risk-model-stability/csv_files/test/test_applprev_1_1.csv\n",
      "/kaggle/input/home-credit-credit-risk-model-stability/csv_files/test/test_credit_bureau_a_1_0.csv\n",
      "/kaggle/input/home-credit-credit-risk-model-stability/csv_files/test/test_applprev_2.csv\n",
      "/kaggle/input/home-credit-credit-risk-model-stability/csv_files/test/test_credit_bureau_a_2_7.csv\n",
      "/kaggle/input/home-credit-credit-risk-model-stability/csv_files/test/test_other_1.csv\n",
      "/kaggle/input/home-credit-credit-risk-model-stability/csv_files/test/test_tax_registry_c_1.csv\n",
      "/kaggle/input/home-credit-credit-risk-model-stability/csv_files/test/test_credit_bureau_a_1_3.csv\n",
      "/kaggle/input/home-credit-credit-risk-model-stability/csv_files/test/test_static_0_2.csv\n",
      "/kaggle/input/home-credit-credit-risk-model-stability/csv_files/test/test_credit_bureau_a_2_5.csv\n",
      "/kaggle/input/home-credit-credit-risk-model-stability/csv_files/test/test_credit_bureau_a_1_2.csv\n",
      "/kaggle/input/home-credit-credit-risk-model-stability/csv_files/test/test_debitcard_1.csv\n",
      "/kaggle/input/home-credit-credit-risk-model-stability/csv_files/test/test_credit_bureau_a_1_4.csv\n",
      "/kaggle/input/home-credit-credit-risk-model-stability/csv_files/test/test_deposit_1.csv\n",
      "/kaggle/input/home-credit-credit-risk-model-stability/csv_files/test/test_static_0_1.csv\n",
      "/kaggle/input/home-credit-credit-risk-model-stability/csv_files/test/test_credit_bureau_a_2_1.csv\n",
      "/kaggle/input/home-credit-credit-risk-model-stability/csv_files/test/test_applprev_1_0.csv\n",
      "/kaggle/input/home-credit-credit-risk-model-stability/csv_files/test/test_tax_registry_a_1.csv\n",
      "/kaggle/input/home-credit-credit-risk-model-stability/csv_files/test/test_credit_bureau_a_2_3.csv\n",
      "/kaggle/input/home-credit-credit-risk-model-stability/csv_files/train/train_credit_bureau_a_1_3.csv\n",
      "/kaggle/input/home-credit-credit-risk-model-stability/csv_files/train/train_static_cb_0.csv\n",
      "/kaggle/input/home-credit-credit-risk-model-stability/csv_files/train/train_applprev_1_0.csv\n",
      "/kaggle/input/home-credit-credit-risk-model-stability/csv_files/train/train_person_2.csv\n",
      "/kaggle/input/home-credit-credit-risk-model-stability/csv_files/train/train_base.csv\n",
      "/kaggle/input/home-credit-credit-risk-model-stability/csv_files/train/train_tax_registry_a_1.csv\n",
      "/kaggle/input/home-credit-credit-risk-model-stability/csv_files/train/train_static_0_0.csv\n",
      "/kaggle/input/home-credit-credit-risk-model-stability/csv_files/train/train_credit_bureau_a_1_0.csv\n",
      "/kaggle/input/home-credit-credit-risk-model-stability/csv_files/train/train_applprev_2.csv\n",
      "/kaggle/input/home-credit-credit-risk-model-stability/csv_files/train/train_credit_bureau_a_2_6.csv\n",
      "/kaggle/input/home-credit-credit-risk-model-stability/csv_files/train/train_credit_bureau_a_1_2.csv\n",
      "/kaggle/input/home-credit-credit-risk-model-stability/csv_files/train/train_person_1.csv\n",
      "/kaggle/input/home-credit-credit-risk-model-stability/csv_files/train/train_credit_bureau_a_1_1.csv\n",
      "/kaggle/input/home-credit-credit-risk-model-stability/csv_files/train/train_tax_registry_c_1.csv\n",
      "/kaggle/input/home-credit-credit-risk-model-stability/csv_files/train/train_credit_bureau_a_2_4.csv\n",
      "/kaggle/input/home-credit-credit-risk-model-stability/csv_files/train/train_credit_bureau_a_2_9.csv\n",
      "/kaggle/input/home-credit-credit-risk-model-stability/csv_files/train/train_credit_bureau_a_2_3.csv\n",
      "/kaggle/input/home-credit-credit-risk-model-stability/csv_files/train/train_credit_bureau_a_2_7.csv\n",
      "/kaggle/input/home-credit-credit-risk-model-stability/csv_files/train/train_credit_bureau_b_2.csv\n",
      "/kaggle/input/home-credit-credit-risk-model-stability/csv_files/train/train_credit_bureau_a_2_2.csv\n",
      "/kaggle/input/home-credit-credit-risk-model-stability/csv_files/train/train_static_0_1.csv\n",
      "/kaggle/input/home-credit-credit-risk-model-stability/csv_files/train/train_deposit_1.csv\n",
      "/kaggle/input/home-credit-credit-risk-model-stability/csv_files/train/train_credit_bureau_a_2_10.csv\n",
      "/kaggle/input/home-credit-credit-risk-model-stability/csv_files/train/train_tax_registry_b_1.csv\n",
      "/kaggle/input/home-credit-credit-risk-model-stability/csv_files/train/train_applprev_1_1.csv\n",
      "/kaggle/input/home-credit-credit-risk-model-stability/csv_files/train/train_credit_bureau_a_2_1.csv\n",
      "/kaggle/input/home-credit-credit-risk-model-stability/csv_files/train/train_credit_bureau_a_2_8.csv\n",
      "/kaggle/input/home-credit-credit-risk-model-stability/csv_files/train/train_credit_bureau_a_2_5.csv\n",
      "/kaggle/input/home-credit-credit-risk-model-stability/csv_files/train/train_credit_bureau_b_1.csv\n",
      "/kaggle/input/home-credit-credit-risk-model-stability/csv_files/train/train_credit_bureau_a_2_0.csv\n",
      "/kaggle/input/home-credit-credit-risk-model-stability/csv_files/train/train_other_1.csv\n",
      "/kaggle/input/home-credit-credit-risk-model-stability/csv_files/train/train_debitcard_1.csv\n"
     ]
    }
   ],
   "source": [
    "# This Python 3 environment comes with many helpful analytics libraries installed\n",
    "# It is defined by the kaggle/python Docker image: https://github.com/kaggle/docker-python\n",
    "# For example, here's several helpful packages to load\n",
    "\n",
    "import polars as pl\n",
    "import numpy as np\n",
    "import pandas as pd\n",
    "from sklearn.model_selection import train_test_split\n",
    "from sklearn.metrics import roc_auc_score \n",
    "import warnings\n",
    "\n",
    "warnings.filterwarnings('ignore')\n",
    "\n",
    "dataPath = \"/kaggle/input/home-credit-credit-risk-model-stability/\"\n",
    "\n",
    "# Input data files are available in the read-only \"../input/\" directory\n",
    "# For example, running this (by clicking run or pressing Shift+Enter) will list all files under the input directory\n",
    "\n",
    "import os\n",
    "for dirname, _, filenames in os.walk('/kaggle/input'):\n",
    "    for filename in filenames:\n",
    "        print(os.path.join(dirname, filename))\n",
    "        \n",
    "# You can write up to 20GB to the current directory (/kaggle/working/) that gets preserved as output when you create a version using \"Save & Run All\" \n",
    "# You can also write temporary files to /kaggle/temp/, but they won't be saved outside of the current session"
   ]
  },
  {
   "cell_type": "markdown",
   "id": "65e5b01e",
   "metadata": {
    "papermill": {
     "duration": 0.008837,
     "end_time": "2024-05-07T15:25:46.701982",
     "exception": false,
     "start_time": "2024-05-07T15:25:46.693145",
     "status": "completed"
    },
    "tags": []
   },
   "source": [
    "## **Goal of the Competition**\n",
    "\n",
    "The goal of this competition is to predict which clients are more likely to default on their loans. The evaluation will favor solutions that are stable over time.\n",
    "\n",
    "Your participation may offer consumer finance providers a more reliable and longer-lasting way to assess a potential client’s default risk.\n",
    "\n",
    "## **Loading the Data**\n",
    "\n",
    "We will now load the data and get it in the right format. We will conduct exploratory data analysis and create a baseline submission that we can iterate and improve on."
   ]
  },
  {
   "cell_type": "code",
   "execution_count": 2,
   "id": "e0da9030",
   "metadata": {
    "execution": {
     "iopub.execute_input": "2024-05-07T15:25:46.722847Z",
     "iopub.status.busy": "2024-05-07T15:25:46.722355Z",
     "iopub.status.idle": "2024-05-07T15:25:46.731676Z",
     "shell.execute_reply": "2024-05-07T15:25:46.730869Z"
    },
    "papermill": {
     "duration": 0.022707,
     "end_time": "2024-05-07T15:25:46.733787",
     "exception": false,
     "start_time": "2024-05-07T15:25:46.711080",
     "status": "completed"
    },
    "tags": []
   },
   "outputs": [],
   "source": [
    "def set_table_dtypes(df: pl.DataFrame) -> pl.DataFrame:\n",
    "    # implement here all desired dtypes for tables\n",
    "    # the following is just an example\n",
    "    for col in df.columns:\n",
    "        # last letter of column name will help you determine the type\n",
    "        if col[-1] in (\"P\", \"A\"):\n",
    "            df = df.with_columns(pl.col(col).cast(pl.Float64).alias(col))\n",
    "\n",
    "    return df\n",
    "\n",
    "def convert_strings(df: pd.DataFrame) -> pd.DataFrame:\n",
    "    for col in df.columns:  \n",
    "        if df[col].dtype.name in ['object', 'string']:\n",
    "            df[col] = df[col].astype(\"string\").astype('category')\n",
    "            current_categories = df[col].cat.categories\n",
    "            new_categories = current_categories.to_list() + [\"Unknown\"]\n",
    "            new_dtype = pd.CategoricalDtype(categories=new_categories, ordered=True)\n",
    "            df[col] = df[col].astype(new_dtype)\n",
    "    return df"
   ]
  },
  {
   "cell_type": "code",
   "execution_count": 3,
   "id": "a323e2e0",
   "metadata": {
    "execution": {
     "iopub.execute_input": "2024-05-07T15:25:46.755983Z",
     "iopub.status.busy": "2024-05-07T15:25:46.755655Z",
     "iopub.status.idle": "2024-05-07T15:26:01.311553Z",
     "shell.execute_reply": "2024-05-07T15:26:01.310370Z"
    },
    "papermill": {
     "duration": 14.569711,
     "end_time": "2024-05-07T15:26:01.314075",
     "exception": false,
     "start_time": "2024-05-07T15:25:46.744364",
     "status": "completed"
    },
    "tags": []
   },
   "outputs": [],
   "source": [
    "train_basetable = pl.read_csv(dataPath + \"csv_files/train/train_base.csv\")\n",
    "train_static = pl.concat(\n",
    "    [\n",
    "        pl.read_csv(dataPath + \"csv_files/train/train_static_0_0.csv\").pipe(set_table_dtypes),\n",
    "        pl.read_csv(dataPath + \"csv_files/train/train_static_0_1.csv\").pipe(set_table_dtypes),\n",
    "    ],\n",
    "    how=\"vertical_relaxed\",\n",
    ")\n",
    "train_static_cb = pl.read_csv(dataPath + \"csv_files/train/train_static_cb_0.csv\").pipe(set_table_dtypes)\n",
    "train_person_1 = pl.read_csv(dataPath + \"csv_files/train/train_person_1.csv\").pipe(set_table_dtypes) \n",
    "train_credit_bureau_b_2 = pl.read_csv(dataPath + \"csv_files/train/train_credit_bureau_b_2.csv\").pipe(set_table_dtypes) "
   ]
  },
  {
   "cell_type": "code",
   "execution_count": 4,
   "id": "39436889",
   "metadata": {
    "execution": {
     "iopub.execute_input": "2024-05-07T15:26:01.334246Z",
     "iopub.status.busy": "2024-05-07T15:26:01.333906Z",
     "iopub.status.idle": "2024-05-07T15:26:01.378450Z",
     "shell.execute_reply": "2024-05-07T15:26:01.377641Z"
    },
    "papermill": {
     "duration": 0.0571,
     "end_time": "2024-05-07T15:26:01.380782",
     "exception": false,
     "start_time": "2024-05-07T15:26:01.323682",
     "status": "completed"
    },
    "tags": []
   },
   "outputs": [],
   "source": [
    "test_basetable = pl.read_csv(dataPath + \"csv_files/test/test_base.csv\")\n",
    "test_static = pl.concat(\n",
    "    [\n",
    "        pl.read_csv(dataPath + \"csv_files/test/test_static_0_0.csv\").pipe(set_table_dtypes),\n",
    "        pl.read_csv(dataPath + \"csv_files/test/test_static_0_1.csv\").pipe(set_table_dtypes),\n",
    "        pl.read_csv(dataPath + \"csv_files/test/test_static_0_2.csv\").pipe(set_table_dtypes),\n",
    "    ],\n",
    "    how=\"vertical_relaxed\",\n",
    ")\n",
    "test_static_cb = pl.read_csv(dataPath + \"csv_files/test/test_static_cb_0.csv\").pipe(set_table_dtypes)\n",
    "test_person_1 = pl.read_csv(dataPath + \"csv_files/test/test_person_1.csv\").pipe(set_table_dtypes) \n",
    "test_credit_bureau_b_2 = pl.read_csv(dataPath + \"csv_files/test/test_credit_bureau_b_2.csv\").pipe(set_table_dtypes) "
   ]
  },
  {
   "cell_type": "markdown",
   "id": "110b2577",
   "metadata": {
    "papermill": {
     "duration": 0.008874,
     "end_time": "2024-05-07T15:26:01.399256",
     "exception": false,
     "start_time": "2024-05-07T15:26:01.390382",
     "status": "completed"
    },
    "tags": []
   },
   "source": [
    "## **Feature Engineering**\n",
    "\n",
    "We will join the tables on case_id. (There are additional ways we can work with the data, but we will leave this as is for now.)"
   ]
  },
  {
   "cell_type": "code",
   "execution_count": 5,
   "id": "5d68d640",
   "metadata": {
    "execution": {
     "iopub.execute_input": "2024-05-07T15:26:01.419617Z",
     "iopub.status.busy": "2024-05-07T15:26:01.419290Z",
     "iopub.status.idle": "2024-05-07T15:26:03.233098Z",
     "shell.execute_reply": "2024-05-07T15:26:03.232022Z"
    },
    "papermill": {
     "duration": 1.826389,
     "end_time": "2024-05-07T15:26:03.235584",
     "exception": false,
     "start_time": "2024-05-07T15:26:01.409195",
     "status": "completed"
    },
    "tags": []
   },
   "outputs": [
    {
     "name": "stdout",
     "output_type": "stream",
     "text": [
      "['amtinstpaidbefduel24m_4187115A', 'annuity_780A', 'annuitynextmonth_57A', 'avginstallast24m_3658937A', 'avglnamtstart24m_4525187A', 'avgoutstandbalancel6m_4187114A', 'avgpmtlast12m_4525200A', 'credamount_770A', 'currdebt_22A', 'currdebtcredtyperange_828A', 'disbursedcredamount_1113A', 'downpmt_116A', 'inittransactionamount_650A', 'lastapprcommoditycat_1041M', 'lastapprcommoditytypec_5251766M', 'lastapprcredamount_781A', 'lastcancelreason_561M', 'lastotherinc_902A', 'lastotherlnsexpense_631A', 'lastrejectcommoditycat_161M', 'lastrejectcommodtypec_5251769M', 'lastrejectcredamount_222A', 'lastrejectreason_759M', 'lastrejectreasonclient_4145040M', 'maininc_215A', 'maxannuity_159A', 'maxannuity_4075009A', 'maxdebt4_972A', 'maxinstallast24m_3658928A', 'maxlnamtstart6m_4525199A', 'maxoutstandbalancel12m_4187113A', 'maxpmtlast3m_4525190A', 'previouscontdistrict_112M', 'price_1097A', 'sumoutstandtotal_3546847A', 'sumoutstandtotalest_4493215A', 'totaldebt_9A', 'totalsettled_863A', 'totinstallast1m_4525188A']\n",
      "['description_5085714M', 'education_1103M', 'education_88M', 'maritalst_385M', 'maritalst_893M', 'pmtaverage_3A', 'pmtaverage_4527227A', 'pmtaverage_4955615A', 'pmtssum_45A']\n"
     ]
    }
   ],
   "source": [
    "# We need to use aggregation functions in tables with depth > 1, so tables that contain num_group1 column or \n",
    "# also num_group2 column.\n",
    "train_person_1_feats_1 = train_person_1.group_by(\"case_id\").agg(\n",
    "    pl.col(\"mainoccupationinc_384A\").max().alias(\"mainoccupationinc_384A_max\"),\n",
    "    (pl.col(\"incometype_1044T\") == \"SELFEMPLOYED\").max().alias(\"mainoccupationinc_384A_any_selfemployed\")\n",
    ")\n",
    "\n",
    "# Here num_group1=0 has special meaning, it is the person who applied for the loan.\n",
    "train_person_1_feats_2 = train_person_1.select([\"case_id\", \"num_group1\", \"housetype_905L\"]).filter(\n",
    "    pl.col(\"num_group1\") == 0\n",
    ").drop(\"num_group1\").rename({\"housetype_905L\": \"person_housetype\"})\n",
    "\n",
    "# Here we have num_goup1 and num_group2, so we need to aggregate again.\n",
    "train_credit_bureau_b_2_feats = train_credit_bureau_b_2.group_by(\"case_id\").agg(\n",
    "    pl.col(\"pmts_pmtsoverdue_635A\").max().alias(\"pmts_pmtsoverdue_635A_max\"),\n",
    "    (pl.col(\"pmts_dpdvalue_108P\") > 31).max().alias(\"pmts_dpdvalue_108P_over31\")\n",
    ")\n",
    "\n",
    "# We will process in this examples only A-type and M-type columns, so we need to select them.\n",
    "selected_static_cols = []\n",
    "for col in train_static.columns:\n",
    "    if col[-1] in (\"A\", \"M\"):\n",
    "        selected_static_cols.append(col)\n",
    "print(selected_static_cols)\n",
    "\n",
    "selected_static_cb_cols = []\n",
    "for col in train_static_cb.columns:\n",
    "    if col[-1] in (\"A\", \"M\"):\n",
    "        selected_static_cb_cols.append(col)\n",
    "print(selected_static_cb_cols)\n",
    "\n",
    "# Join all tables together.\n",
    "data = train_basetable.join(\n",
    "    train_static.select([\"case_id\"]+selected_static_cols), how=\"left\", on=\"case_id\"\n",
    ").join(\n",
    "    train_static_cb.select([\"case_id\"]+selected_static_cb_cols), how=\"left\", on=\"case_id\"\n",
    ").join(\n",
    "    train_person_1_feats_1, how=\"left\", on=\"case_id\"\n",
    ").join(\n",
    "    train_person_1_feats_2, how=\"left\", on=\"case_id\"\n",
    ").join(\n",
    "    train_credit_bureau_b_2_feats, how=\"left\", on=\"case_id\"\n",
    ")"
   ]
  },
  {
   "cell_type": "code",
   "execution_count": 6,
   "id": "3b0e862e",
   "metadata": {
    "execution": {
     "iopub.execute_input": "2024-05-07T15:26:03.256746Z",
     "iopub.status.busy": "2024-05-07T15:26:03.256281Z",
     "iopub.status.idle": "2024-05-07T15:26:03.270693Z",
     "shell.execute_reply": "2024-05-07T15:26:03.269903Z"
    },
    "papermill": {
     "duration": 0.02738,
     "end_time": "2024-05-07T15:26:03.272953",
     "exception": false,
     "start_time": "2024-05-07T15:26:03.245573",
     "status": "completed"
    },
    "tags": []
   },
   "outputs": [],
   "source": [
    "test_person_1_feats_1 = test_person_1.group_by(\"case_id\").agg(\n",
    "    pl.col(\"mainoccupationinc_384A\").max().alias(\"mainoccupationinc_384A_max\"),\n",
    "    (pl.col(\"incometype_1044T\") == \"SELFEMPLOYED\").max().alias(\"mainoccupationinc_384A_any_selfemployed\")\n",
    ")\n",
    "\n",
    "test_person_1_feats_2 = test_person_1.select([\"case_id\", \"num_group1\", \"housetype_905L\"]).filter(\n",
    "    pl.col(\"num_group1\") == 0\n",
    ").drop(\"num_group1\").rename({\"housetype_905L\": \"person_housetype\"})\n",
    "\n",
    "test_credit_bureau_b_2_feats = test_credit_bureau_b_2.group_by(\"case_id\").agg(\n",
    "    pl.col(\"pmts_pmtsoverdue_635A\").max().alias(\"pmts_pmtsoverdue_635A_max\"),\n",
    "    (pl.col(\"pmts_dpdvalue_108P\") > 31).max().alias(\"pmts_dpdvalue_108P_over31\")\n",
    ")\n",
    "\n",
    "data_submission = test_basetable.join(\n",
    "    test_static.select([\"case_id\"]+selected_static_cols), how=\"left\", on=\"case_id\"\n",
    ").join(\n",
    "    test_static_cb.select([\"case_id\"]+selected_static_cb_cols), how=\"left\", on=\"case_id\"\n",
    ").join(\n",
    "    test_person_1_feats_1, how=\"left\", on=\"case_id\"\n",
    ").join(\n",
    "    test_person_1_feats_2, how=\"left\", on=\"case_id\"\n",
    ").join(\n",
    "    test_credit_bureau_b_2_feats, how=\"left\", on=\"case_id\"\n",
    ")"
   ]
  },
  {
   "cell_type": "code",
   "execution_count": 7,
   "id": "00c3d260",
   "metadata": {
    "execution": {
     "iopub.execute_input": "2024-05-07T15:26:03.293812Z",
     "iopub.status.busy": "2024-05-07T15:26:03.293507Z",
     "iopub.status.idle": "2024-05-07T15:26:10.312397Z",
     "shell.execute_reply": "2024-05-07T15:26:10.311342Z"
    },
    "papermill": {
     "duration": 7.031669,
     "end_time": "2024-05-07T15:26:10.315082",
     "exception": false,
     "start_time": "2024-05-07T15:26:03.283413",
     "status": "completed"
    },
    "tags": []
   },
   "outputs": [
    {
     "name": "stdout",
     "output_type": "stream",
     "text": [
      "['amtinstpaidbefduel24m_4187115A', 'annuity_780A', 'annuitynextmonth_57A', 'avginstallast24m_3658937A', 'avglnamtstart24m_4525187A', 'avgoutstandbalancel6m_4187114A', 'avgpmtlast12m_4525200A', 'credamount_770A', 'currdebt_22A', 'currdebtcredtyperange_828A', 'disbursedcredamount_1113A', 'downpmt_116A', 'inittransactionamount_650A', 'lastapprcommoditycat_1041M', 'lastapprcommoditytypec_5251766M', 'lastapprcredamount_781A', 'lastcancelreason_561M', 'lastotherinc_902A', 'lastotherlnsexpense_631A', 'lastrejectcommoditycat_161M', 'lastrejectcommodtypec_5251769M', 'lastrejectcredamount_222A', 'lastrejectreason_759M', 'lastrejectreasonclient_4145040M', 'maininc_215A', 'maxannuity_159A', 'maxannuity_4075009A', 'maxdebt4_972A', 'maxinstallast24m_3658928A', 'maxlnamtstart6m_4525199A', 'maxoutstandbalancel12m_4187113A', 'maxpmtlast3m_4525190A', 'previouscontdistrict_112M', 'price_1097A', 'sumoutstandtotal_3546847A', 'sumoutstandtotalest_4493215A', 'totaldebt_9A', 'totalsettled_863A', 'totinstallast1m_4525188A', 'description_5085714M', 'education_1103M', 'education_88M', 'maritalst_385M', 'maritalst_893M', 'pmtaverage_3A', 'pmtaverage_4527227A', 'pmtaverage_4955615A', 'pmtssum_45A']\n"
     ]
    }
   ],
   "source": [
    "case_ids = data[\"case_id\"].unique().shuffle(seed=1)\n",
    "case_ids_train, case_ids_test = train_test_split(case_ids, train_size=0.6, random_state=1)\n",
    "case_ids_valid, case_ids_test = train_test_split(case_ids_test, train_size=0.5, random_state=1)\n",
    "\n",
    "cols_pred = []\n",
    "for col in data.columns:\n",
    "    if col[-1].isupper() and col[:-1].islower():\n",
    "        cols_pred.append(col)\n",
    "\n",
    "print(cols_pred)\n",
    "\n",
    "def from_polars_to_pandas(case_ids: pl.DataFrame) -> pl.DataFrame:\n",
    "    return (\n",
    "        data.filter(pl.col(\"case_id\").is_in(case_ids))[[\"case_id\", \"WEEK_NUM\", \"target\"]].to_pandas(),\n",
    "        data.filter(pl.col(\"case_id\").is_in(case_ids))[cols_pred].to_pandas(),\n",
    "        data.filter(pl.col(\"case_id\").is_in(case_ids))[\"target\"].to_pandas()\n",
    "    )\n",
    "\n",
    "base_train, X_train, y_train = from_polars_to_pandas(case_ids_train)\n",
    "base_valid, X_valid, y_valid = from_polars_to_pandas(case_ids_valid)\n",
    "base_test, X_test, y_test = from_polars_to_pandas(case_ids_test)\n",
    "\n",
    "for df in [X_train, X_valid, X_test]:\n",
    "    df = convert_strings(df)"
   ]
  },
  {
   "cell_type": "code",
   "execution_count": 8,
   "id": "8939ee87",
   "metadata": {
    "execution": {
     "iopub.execute_input": "2024-05-07T15:26:10.337516Z",
     "iopub.status.busy": "2024-05-07T15:26:10.337177Z",
     "iopub.status.idle": "2024-05-07T15:26:10.366557Z",
     "shell.execute_reply": "2024-05-07T15:26:10.365749Z"
    },
    "papermill": {
     "duration": 0.042817,
     "end_time": "2024-05-07T15:26:10.368758",
     "exception": false,
     "start_time": "2024-05-07T15:26:10.325941",
     "status": "completed"
    },
    "tags": []
   },
   "outputs": [],
   "source": [
    "X_submission = data_submission[cols_pred].to_pandas()\n",
    "X_submission = convert_strings(X_submission)"
   ]
  },
  {
   "cell_type": "code",
   "execution_count": 9,
   "id": "f952bd95",
   "metadata": {
    "execution": {
     "iopub.execute_input": "2024-05-07T15:26:10.389279Z",
     "iopub.status.busy": "2024-05-07T15:26:10.388603Z",
     "iopub.status.idle": "2024-05-07T15:26:10.393846Z",
     "shell.execute_reply": "2024-05-07T15:26:10.392980Z"
    },
    "papermill": {
     "duration": 0.018261,
     "end_time": "2024-05-07T15:26:10.396336",
     "exception": false,
     "start_time": "2024-05-07T15:26:10.378075",
     "status": "completed"
    },
    "tags": []
   },
   "outputs": [
    {
     "name": "stdout",
     "output_type": "stream",
     "text": [
      "Train: (915995, 48)\n",
      "Valid: (305332, 48)\n",
      "Test: (305332, 48)\n"
     ]
    }
   ],
   "source": [
    "print(f\"Train: {X_train.shape}\")\n",
    "print(f\"Valid: {X_valid.shape}\")\n",
    "print(f\"Test: {X_test.shape}\")"
   ]
  },
  {
   "cell_type": "code",
   "execution_count": 10,
   "id": "32d215f3",
   "metadata": {
    "execution": {
     "iopub.execute_input": "2024-05-07T15:26:10.417688Z",
     "iopub.status.busy": "2024-05-07T15:26:10.416961Z",
     "iopub.status.idle": "2024-05-07T15:26:10.982067Z",
     "shell.execute_reply": "2024-05-07T15:26:10.981155Z"
    },
    "papermill": {
     "duration": 0.578526,
     "end_time": "2024-05-07T15:26:10.984882",
     "exception": false,
     "start_time": "2024-05-07T15:26:10.406356",
     "status": "completed"
    },
    "tags": []
   },
   "outputs": [],
   "source": [
    "def fill_na(df, fill_value_numeric=0, fill_value_categorical='Missing', fill_value_default='Unknown'):\n",
    "    \"\"\"\n",
    "    Fills missing values in a DataFrame.\n",
    "\n",
    "    Parameters:\n",
    "    df (pd.DataFrame): The DataFrame to fill missing values in.\n",
    "    fill_value_numeric (int or float): The value to fill missing values with in numeric columns.\n",
    "    fill_value_categorical (str): The value to fill missing values with in categorical columns.\n",
    "    fill_value_default (str): The value to fill missing values with in other types of columns.\n",
    "\n",
    "    Returns:\n",
    "    pd.DataFrame: DataFrame with missing values filled.\n",
    "    \"\"\"\n",
    "    for col in df.columns:\n",
    "        if df[col].dtype.name == 'category':\n",
    "            # Add a new category for missing values and fill with it\n",
    "            df[col] = df[col].cat.add_categories([fill_value_categorical]).fillna(fill_value_categorical)\n",
    "        elif pd.api.types.is_numeric_dtype(df[col]):\n",
    "            # Fill numeric columns with the specified numeric value\n",
    "            df[col] = df[col].fillna(fill_value_numeric)\n",
    "        else:\n",
    "            # Fill other types of columns with the specified default value\n",
    "            df[col] = df[col].fillna(fill_value_default)\n",
    "    return df\n",
    "\n",
    "\n",
    "X_train= fill_na(X_train)\n",
    "X_valid = fill_na(X_valid)\n",
    "X_test = fill_na(X_test)\n",
    "X_submission = fill_na(X_submission)"
   ]
  },
  {
   "cell_type": "code",
   "execution_count": 11,
   "id": "c06da111",
   "metadata": {
    "execution": {
     "iopub.execute_input": "2024-05-07T15:26:11.014218Z",
     "iopub.status.busy": "2024-05-07T15:26:11.013811Z",
     "iopub.status.idle": "2024-05-07T15:26:11.021342Z",
     "shell.execute_reply": "2024-05-07T15:26:11.020317Z"
    },
    "papermill": {
     "duration": 0.022948,
     "end_time": "2024-05-07T15:26:11.023668",
     "exception": false,
     "start_time": "2024-05-07T15:26:11.000720",
     "status": "completed"
    },
    "tags": []
   },
   "outputs": [],
   "source": [
    "cat_cols = [col for col in X_train.columns if X_train[col].dtype == 'category']\n",
    "num_cols = [col for col in X_train.columns if col not in cat_cols]"
   ]
  },
  {
   "cell_type": "code",
   "execution_count": 12,
   "id": "6dbb6179",
   "metadata": {
    "execution": {
     "iopub.execute_input": "2024-05-07T15:26:11.045733Z",
     "iopub.status.busy": "2024-05-07T15:26:11.045446Z",
     "iopub.status.idle": "2024-05-07T15:26:21.577817Z",
     "shell.execute_reply": "2024-05-07T15:26:21.576905Z"
    },
    "papermill": {
     "duration": 10.546081,
     "end_time": "2024-05-07T15:26:21.580190",
     "exception": false,
     "start_time": "2024-05-07T15:26:11.034109",
     "status": "completed"
    },
    "tags": []
   },
   "outputs": [],
   "source": [
    "from sklearn.preprocessing import LabelEncoder\n",
    "\n",
    "label_encoders = {}\n",
    "for col in cat_cols:\n",
    "    le = LabelEncoder()\n",
    "    all_values = pd.concat([X_train[col], X_valid[col],X_test[col],X_submission[col]], axis=0).astype(str)\n",
    "    le.fit(all_values)\n",
    "    X_train[col] = le.transform(X_train[col].astype(str))\n",
    "    X_valid[col] = le.transform(X_valid[col].astype(str))\n",
    "    X_test[col] = le.transform(X_test[col].astype(str))\n",
    "    X_submission[col] = le.transform(X_submission[col].astype(str))\n",
    "    label_encoders[col] = le\n",
    "\n",
    "X_test_combined = np.hstack([X_test[cat_cols].values, X_test[num_cols].values])\n",
    "X_train_combined = np.hstack([X_train[cat_cols].values, X_train[num_cols].values])\n",
    "X_valid_combined = np.hstack([X_valid[cat_cols].values, X_valid[num_cols].values])\n",
    "X_submission_combined = np.hstack([X_submission[cat_cols].values, X_submission[num_cols].values])\n",
    "\n",
    "X_test = X_test_combined.astype('float32')\n",
    "X_train = X_train_combined.astype('float32')\n",
    "X_valid = X_valid_combined.astype('float32')\n",
    "X_submission = X_submission_combined.astype('float32')"
   ]
  },
  {
   "cell_type": "code",
   "execution_count": 13,
   "id": "7cf0fafe",
   "metadata": {
    "execution": {
     "iopub.execute_input": "2024-05-07T15:26:21.600594Z",
     "iopub.status.busy": "2024-05-07T15:26:21.600252Z",
     "iopub.status.idle": "2024-05-07T15:26:21.605503Z",
     "shell.execute_reply": "2024-05-07T15:26:21.604591Z"
    },
    "papermill": {
     "duration": 0.017627,
     "end_time": "2024-05-07T15:26:21.607566",
     "exception": false,
     "start_time": "2024-05-07T15:26:21.589939",
     "status": "completed"
    },
    "tags": []
   },
   "outputs": [
    {
     "name": "stdout",
     "output_type": "stream",
     "text": [
      "<class 'numpy.ndarray'>\n",
      "<class 'pandas.core.series.Series'>\n",
      "<class 'numpy.ndarray'>\n",
      "<class 'pandas.core.series.Series'>\n"
     ]
    }
   ],
   "source": [
    "print(type(X_train))\n",
    "print(type(y_train))\n",
    "print(type(X_valid))\n",
    "print(type(y_valid))"
   ]
  },
  {
   "cell_type": "markdown",
   "id": "28e7a7fc",
   "metadata": {
    "papermill": {
     "duration": 0.009162,
     "end_time": "2024-05-07T15:26:21.626062",
     "exception": false,
     "start_time": "2024-05-07T15:26:21.616900",
     "status": "completed"
    },
    "tags": []
   },
   "source": [
    "## **Deep Learning**\n",
    "\n",
    "Deep learning is a type of machine learning that is used to teach artificial neural networks how to learn from vast amounts of data. These neural networks are designed to mimic the structure of the human brain, and they are composed of layers of interconnected nodes called neurons that work in concert to process and analyze information.\n",
    "\n",
    "In the process of deep learning, the neural network is fed large amounts of data and then adjusts its parameters through a process called backpropagation to minimize the difference between its predicted output and the actual output. This allows the neural network to recognize patterns and make accurate predictions.\n",
    "\n",
    "Deep learning has many practical applications, such as image and speech recognition, natural language processing, and self-driving cars. It has revolutionized the field of artificial intelligence and has contributed to significant advancements in research and development."
   ]
  },
  {
   "cell_type": "code",
   "execution_count": null,
   "id": "f185992a",
   "metadata": {
    "papermill": {
     "duration": 0.008875,
     "end_time": "2024-05-07T15:26:21.643990",
     "exception": false,
     "start_time": "2024-05-07T15:26:21.635115",
     "status": "completed"
    },
    "tags": []
   },
   "outputs": [],
   "source": []
  },
  {
   "cell_type": "markdown",
   "id": "ba206ee0",
   "metadata": {
    "papermill": {
     "duration": 0.00897,
     "end_time": "2024-05-07T15:26:21.662216",
     "exception": false,
     "start_time": "2024-05-07T15:26:21.653246",
     "status": "completed"
    },
    "tags": []
   },
   "source": [
    "Basic"
   ]
  },
  {
   "cell_type": "markdown",
   "id": "ff6ed8fc",
   "metadata": {
    "papermill": {
     "duration": 0.009451,
     "end_time": "2024-05-07T15:26:21.680934",
     "exception": false,
     "start_time": "2024-05-07T15:26:21.671483",
     "status": "completed"
    },
    "tags": []
   },
   "source": [
    "advanced NN"
   ]
  },
  {
   "cell_type": "code",
   "execution_count": null,
   "id": "a933ee85",
   "metadata": {
    "papermill": {
     "duration": 0.009002,
     "end_time": "2024-05-07T15:26:21.699173",
     "exception": false,
     "start_time": "2024-05-07T15:26:21.690171",
     "status": "completed"
    },
    "tags": []
   },
   "outputs": [],
   "source": []
  },
  {
   "cell_type": "markdown",
   "id": "2bf800fd",
   "metadata": {
    "papermill": {
     "duration": 0.009068,
     "end_time": "2024-05-07T15:26:21.717413",
     "exception": false,
     "start_time": "2024-05-07T15:26:21.708345",
     "status": "completed"
    },
    "tags": []
   },
   "source": [
    "simplified ANN"
   ]
  },
  {
   "cell_type": "code",
   "execution_count": 14,
   "id": "3696db07",
   "metadata": {
    "execution": {
     "iopub.execute_input": "2024-05-07T15:26:21.738175Z",
     "iopub.status.busy": "2024-05-07T15:26:21.737437Z",
     "iopub.status.idle": "2024-05-07T15:26:37.836348Z",
     "shell.execute_reply": "2024-05-07T15:26:37.835283Z"
    },
    "papermill": {
     "duration": 16.111977,
     "end_time": "2024-05-07T15:26:37.838719",
     "exception": false,
     "start_time": "2024-05-07T15:26:21.726742",
     "status": "completed"
    },
    "tags": []
   },
   "outputs": [
    {
     "name": "stderr",
     "output_type": "stream",
     "text": [
      "2024-05-07 15:26:27.601969: E external/local_xla/xla/stream_executor/cuda/cuda_dnn.cc:9261] Unable to register cuDNN factory: Attempting to register factory for plugin cuDNN when one has already been registered\n",
      "2024-05-07 15:26:27.602076: E external/local_xla/xla/stream_executor/cuda/cuda_fft.cc:607] Unable to register cuFFT factory: Attempting to register factory for plugin cuFFT when one has already been registered\n",
      "2024-05-07 15:26:27.739598: E external/local_xla/xla/stream_executor/cuda/cuda_blas.cc:1515] Unable to register cuBLAS factory: Attempting to register factory for plugin cuBLAS when one has already been registered\n"
     ]
    },
    {
     "name": "stdout",
     "output_type": "stream",
     "text": [
      "SimplifiedAdvancedNeuralNetwork(\n",
      "  (initial_layer): Sequential(\n",
      "    (0): Linear(in_features=48, out_features=256, bias=True)\n",
      "    (1): BatchNorm1d(256, eps=1e-05, momentum=0.1, affine=True, track_running_stats=True)\n",
      "    (2): LeakyReLU(negative_slope=0.01)\n",
      "  )\n",
      "  (residual_stack): Sequential(\n",
      "    (0): SimplifiedResidualBlock(\n",
      "      (block): Sequential(\n",
      "        (0): Linear(in_features=256, out_features=128, bias=True)\n",
      "        (1): BatchNorm1d(128, eps=1e-05, momentum=0.1, affine=True, track_running_stats=True)\n",
      "        (2): LeakyReLU(negative_slope=0.01)\n",
      "        (3): Linear(in_features=128, out_features=128, bias=True)\n",
      "        (4): BatchNorm1d(128, eps=1e-05, momentum=0.1, affine=True, track_running_stats=True)\n",
      "      )\n",
      "      (shortcut): Sequential(\n",
      "        (0): Linear(in_features=256, out_features=128, bias=True)\n",
      "        (1): BatchNorm1d(128, eps=1e-05, momentum=0.1, affine=True, track_running_stats=True)\n",
      "      )\n",
      "    )\n",
      "    (1): Dropout(p=0.1, inplace=False)\n",
      "    (2): SimplifiedResidualBlock(\n",
      "      (block): Sequential(\n",
      "        (0): Linear(in_features=128, out_features=64, bias=True)\n",
      "        (1): BatchNorm1d(64, eps=1e-05, momentum=0.1, affine=True, track_running_stats=True)\n",
      "        (2): LeakyReLU(negative_slope=0.01)\n",
      "        (3): Linear(in_features=64, out_features=64, bias=True)\n",
      "        (4): BatchNorm1d(64, eps=1e-05, momentum=0.1, affine=True, track_running_stats=True)\n",
      "      )\n",
      "      (shortcut): Sequential(\n",
      "        (0): Linear(in_features=128, out_features=64, bias=True)\n",
      "        (1): BatchNorm1d(64, eps=1e-05, momentum=0.1, affine=True, track_running_stats=True)\n",
      "      )\n",
      "    )\n",
      "  )\n",
      "  (final_layers): Sequential(\n",
      "    (0): Linear(in_features=64, out_features=16, bias=True)\n",
      "    (1): LeakyReLU(negative_slope=0.01)\n",
      "    (2): Linear(in_features=16, out_features=1, bias=True)\n",
      "    (3): Sigmoid()\n",
      "  )\n",
      ")\n"
     ]
    }
   ],
   "source": [
    "import torch\n",
    "import torch.nn as nn\n",
    "import torch.optim as optim\n",
    "from torch.utils.tensorboard import SummaryWriter\n",
    "\n",
    "class SimplifiedResidualBlock(nn.Module):\n",
    "    def __init__(self, in_features, out_features):\n",
    "        super(SimplifiedResidualBlock, self).__init__()\n",
    "        self.block = nn.Sequential(\n",
    "            nn.Linear(in_features, out_features),\n",
    "            nn.BatchNorm1d(out_features),\n",
    "            nn.LeakyReLU(),\n",
    "            nn.Linear(out_features, out_features),\n",
    "            nn.BatchNorm1d(out_features)\n",
    "        )\n",
    "        self.shortcut = nn.Sequential()\n",
    "        if in_features != out_features:\n",
    "            self.shortcut = nn.Sequential(\n",
    "                nn.Linear(in_features, out_features),\n",
    "                nn.BatchNorm1d(out_features),\n",
    "            )\n",
    "\n",
    "    def forward(self, x):\n",
    "        identity = x\n",
    "        out = self.block(x)\n",
    "        out += self.shortcut(identity)\n",
    "        return nn.ReLU()(out)\n",
    "\n",
    "class SimplifiedAdvancedNeuralNetwork(nn.Module):\n",
    "    def __init__(self, num_features):\n",
    "        super(SimplifiedAdvancedNeuralNetwork, self).__init__()\n",
    "        self.initial_layer = nn.Sequential(\n",
    "            nn.Linear(num_features, 256),  # Reduced from 512 to 256\n",
    "            nn.BatchNorm1d(256),\n",
    "            nn.LeakyReLU()\n",
    "        )\n",
    "        self.residual_stack = nn.Sequential(\n",
    "            SimplifiedResidualBlock(256, 128),\n",
    "            nn.Dropout(0.1),  # Reduced dropout\n",
    "            SimplifiedResidualBlock(128, 64)\n",
    "        )\n",
    "        self.final_layers = nn.Sequential(\n",
    "            nn.Linear(64, 16),\n",
    "            nn.LeakyReLU(),\n",
    "            nn.Linear(16, 1),\n",
    "            nn.Sigmoid()\n",
    "        )\n",
    "\n",
    "    def forward(self, x):\n",
    "        out = self.initial_layer(x)\n",
    "        out = self.residual_stack(out)\n",
    "        out = self.final_layers(out)\n",
    "        return out\n",
    "\n",
    "# Assuming X_train is properly defined and is a tensor\n",
    "num_features = X_train.shape[1]  # Adjust this according to your dataset\n",
    "\n",
    "# Create the simplified model\n",
    "model = SimplifiedAdvancedNeuralNetwork(num_features)\n",
    "\n",
    "# Define the optimizer with weight decay for regularization\n",
    "optimizer = optim.Adam(model.parameters(), lr=0.001, weight_decay=1e-4)\n",
    "\n",
    "# Optionally use a cosine annealing learning rate scheduler\n",
    "scheduler = optim.lr_scheduler.CosineAnnealingLR(optimizer, T_max=50)\n",
    "\n",
    "# Define the loss function\n",
    "criterion = nn.BCELoss()\n",
    "\n",
    "# Set up TensorBoard\n",
    "tensorboard_writer = SummaryWriter(log_dir='logs')\n",
    "\n",
    "# Print the simplified model's architecture\n",
    "print(model)\n"
   ]
  },
  {
   "cell_type": "code",
   "execution_count": 15,
   "id": "c4f7defb",
   "metadata": {
    "execution": {
     "iopub.execute_input": "2024-05-07T15:26:37.860357Z",
     "iopub.status.busy": "2024-05-07T15:26:37.859794Z",
     "iopub.status.idle": "2024-05-07T16:17:27.057406Z",
     "shell.execute_reply": "2024-05-07T16:17:27.056111Z"
    },
    "papermill": {
     "duration": 3049.222143,
     "end_time": "2024-05-07T16:17:27.070579",
     "exception": false,
     "start_time": "2024-05-07T15:26:37.848436",
     "status": "completed"
    },
    "tags": []
   },
   "outputs": [
    {
     "name": "stdout",
     "output_type": "stream",
     "text": [
      "tensor finished\n",
      "dataset finished\n",
      "dataloader finished\n",
      "getting into loop\n",
      "epoch: 0\n",
      "Epoch 1/8, Train Loss: 0.1345, Valid Loss: 0.1301, Train AUROC: 0.6750, Valid AUROC: 0.6989\n",
      "epoch: 1\n",
      "Epoch 2/8, Train Loss: 0.1323, Valid Loss: 0.1301, Train AUROC: 0.6941, Valid AUROC: 0.7066\n",
      "epoch: 2\n",
      "Epoch 3/8, Train Loss: 0.1318, Valid Loss: 0.1296, Train AUROC: 0.6997, Valid AUROC: 0.7049\n",
      "epoch: 3\n",
      "Epoch 4/8, Train Loss: 0.1316, Valid Loss: 0.1295, Train AUROC: 0.7015, Valid AUROC: 0.7039\n",
      "epoch: 4\n",
      "Epoch 5/8, Train Loss: 0.1317, Valid Loss: 0.1295, Train AUROC: 0.7010, Valid AUROC: 0.7067\n",
      "epoch: 5\n",
      "Epoch 6/8, Train Loss: 0.1315, Valid Loss: 0.1294, Train AUROC: 0.7030, Valid AUROC: 0.7064\n",
      "epoch: 6\n",
      "Epoch 7/8, Train Loss: 0.1314, Valid Loss: 0.1295, Train AUROC: 0.7038, Valid AUROC: 0.7097\n",
      "epoch: 7\n",
      "Epoch 8/8, Train Loss: 0.1313, Valid Loss: 0.1295, Train AUROC: 0.7049, Valid AUROC: 0.7059\n"
     ]
    }
   ],
   "source": [
    "import torch\n",
    "from torch.utils.data import DataLoader, TensorDataset\n",
    "import torchmetrics\n",
    "import numpy as np\n",
    "\n",
    "# Convert your data to PyTorch tensors\n",
    "X_train_tensor = torch.tensor(X_train.astype('float32'))\n",
    "y_train_tensor = torch.tensor(y_train.astype('float32'))\n",
    "X_valid_tensor = torch.tensor(X_valid.astype('float32'))\n",
    "y_valid_tensor = torch.tensor(y_valid.astype('float32'))\n",
    "\n",
    "print(\"tensor finished\")\n",
    "# Create TensorDataset objects\n",
    "train_dataset = TensorDataset(X_train_tensor, y_train_tensor)\n",
    "valid_dataset = TensorDataset(X_valid_tensor, y_valid_tensor)\n",
    "print(\"dataset finished\")\n",
    "# Create DataLoader objects\n",
    "train_loader = DataLoader(train_dataset, batch_size=128, shuffle=True, num_workers=4)\n",
    "valid_loader = DataLoader(valid_dataset, batch_size=128, shuffle=False, num_workers=4)\n",
    "print(\"dataloader finished\")\n",
    "# Training and Validation Functions with AUROC calculation\n",
    "def train(model, criterion, optimizer, loader, auroc_metric):\n",
    "    model.train()\n",
    "    total_loss = 0\n",
    "    auroc_metric.reset()\n",
    "    for inputs, targets in loader:\n",
    "        optimizer.zero_grad()\n",
    "        outputs = model(inputs)\n",
    "        loss = criterion(outputs.squeeze(), targets)\n",
    "        loss.backward()\n",
    "        optimizer.step()\n",
    "        total_loss += loss.item()\n",
    "        auroc_metric.update(outputs.sigmoid(), targets.int())  # Ensure outputs are sigmoid probabilities and targets are integers\n",
    "    train_auroc = auroc_metric.compute()\n",
    "    return total_loss / len(loader), train_auroc\n",
    "\n",
    "def validate(model, criterion, loader, auroc_metric):\n",
    "    model.eval()\n",
    "    total_loss = 0\n",
    "    auroc_metric.reset()\n",
    "    with torch.no_grad():\n",
    "        for inputs, targets in loader:\n",
    "            outputs = model(inputs)\n",
    "            loss = criterion(outputs.squeeze(), targets)\n",
    "            total_loss += loss.item()\n",
    "            auroc_metric.update(outputs.sigmoid(), targets.int())  # Ensure outputs are sigmoid probabilities and targets are integers\n",
    "    val_auroc = auroc_metric.compute()\n",
    "    return total_loss / len(loader), val_auroc\n",
    "\n",
    "# Metrics initialized correctly for binary classification\n",
    "train_auroc_metric = torchmetrics.AUROC(task='binary')\n",
    "valid_auroc_metric = torchmetrics.AUROC(task='binary')\n",
    "\n",
    "# Initialize lists to store per-epoch training and validation loss and AUROC\n",
    "train_losses = []\n",
    "valid_losses = []\n",
    "train_aurocs = []\n",
    "valid_aurocs = []\n",
    "\n",
    "print(\"getting into loop\")\n",
    "# Main training loop\n",
    "epochs = 8\n",
    "for epoch in range(epochs):\n",
    "    print(\"epoch:\",epoch)\n",
    "    train_loss, train_auroc = train(model, criterion, optimizer, train_loader, train_auroc_metric)\n",
    "    valid_loss, valid_auroc = validate(model, criterion, valid_loader, valid_auroc_metric)\n",
    "    train_losses.append(train_loss)\n",
    "    valid_losses.append(valid_loss)\n",
    "    train_aurocs.append(train_auroc)\n",
    "    valid_aurocs.append(valid_auroc)\n",
    "    print(f'Epoch {epoch+1}/{epochs}, Train Loss: {train_loss:.4f}, Valid Loss: {valid_loss:.4f}, Train AUROC: {train_auroc:.4f}, Valid AUROC: {valid_auroc:.4f}')\n",
    "\n",
    "tensorboard_writer.close()"
   ]
  },
  {
   "cell_type": "code",
   "execution_count": 16,
   "id": "a7f2d200",
   "metadata": {
    "execution": {
     "iopub.execute_input": "2024-05-07T16:17:27.093794Z",
     "iopub.status.busy": "2024-05-07T16:17:27.093369Z",
     "iopub.status.idle": "2024-05-07T16:17:27.099490Z",
     "shell.execute_reply": "2024-05-07T16:17:27.098486Z"
    },
    "papermill": {
     "duration": 0.020233,
     "end_time": "2024-05-07T16:17:27.101581",
     "exception": false,
     "start_time": "2024-05-07T16:17:27.081348",
     "status": "completed"
    },
    "tags": []
   },
   "outputs": [
    {
     "name": "stdout",
     "output_type": "stream",
     "text": [
      "48\n"
     ]
    }
   ],
   "source": [
    "# Assuming X_train is a numpy array or a similar data structure where .shape[1] gives the number of features\n",
    "num_columns = X_train.shape[1]\n",
    "print(num_columns)"
   ]
  },
  {
   "cell_type": "code",
   "execution_count": 17,
   "id": "f17d28ca",
   "metadata": {
    "execution": {
     "iopub.execute_input": "2024-05-07T16:17:27.124724Z",
     "iopub.status.busy": "2024-05-07T16:17:27.124052Z",
     "iopub.status.idle": "2024-05-07T16:17:27.810295Z",
     "shell.execute_reply": "2024-05-07T16:17:27.809291Z"
    },
    "papermill": {
     "duration": 0.700177,
     "end_time": "2024-05-07T16:17:27.812461",
     "exception": false,
     "start_time": "2024-05-07T16:17:27.112284",
     "status": "completed"
    },
    "tags": []
   },
   "outputs": [
    {
     "data": {
      "image/png": "[encoded data removed]",
      "text/plain": [
       "<Figure size 1000x500 with 1 Axes>"
      ]
     },
     "metadata": {},
     "output_type": "display_data"
    },
    {
     "data": {
      "image/png": "[encoded data removed]",
      "text/plain": [
       "<Figure size 1000x500 with 1 Axes>"
      ]
     },
     "metadata": {},
     "output_type": "display_data"
    }
   ],
   "source": [
    "import matplotlib.pyplot as plt\n",
    "import numpy as np\n",
    "\n",
    "# Plot training and validation loss with standard deviation shading\n",
    "plt.figure(figsize=(10, 5))\n",
    "\n",
    "# Training loss and its standard deviation\n",
    "train_loss_std = np.std(train_losses)\n",
    "valid_loss_std = np.std(valid_losses)\n",
    "\n",
    "plt.plot(train_losses, label='Training Loss')\n",
    "plt.fill_between(range(len(train_losses)),\n",
    "                 np.array(train_losses) - train_loss_std,\n",
    "                 np.array(train_losses) + train_loss_std,\n",
    "                 color='gray', alpha=0.2)\n",
    "\n",
    "# Validation loss and its standard deviation\n",
    "plt.plot(valid_losses, label='Validation Loss')\n",
    "plt.fill_between(range(len(valid_losses)),\n",
    "                 np.array(valid_losses) - valid_loss_std,\n",
    "                 np.array(valid_losses) + valid_loss_std,\n",
    "                 color='gray', alpha=0.2)\n",
    "\n",
    "plt.title('Training and Validation Loss')\n",
    "plt.xlabel('Epochs')\n",
    "plt.ylabel('Loss')\n",
    "plt.legend()\n",
    "plt.show()\n",
    "\n",
    "# Plot training and validation AUC with standard deviation shading\n",
    "plt.figure(figsize=(10, 5))\n",
    "\n",
    "# AUC standard deviation\n",
    "train_auroc_std = np.std(train_aurocs)\n",
    "valid_auroc_std = np.std(valid_aurocs)\n",
    "\n",
    "plt.plot(train_aurocs, label='Training AUROC')\n",
    "plt.fill_between(range(len(train_aurocs)),\n",
    "                 np.array(train_aurocs) - train_auroc_std,\n",
    "                 np.array(train_aurocs) + train_auroc_std,\n",
    "                 color='gray', alpha=0.2)\n",
    "\n",
    "plt.plot(valid_aurocs, label='Validation AUROC')\n",
    "plt.fill_between(range(len(valid_aurocs)),\n",
    "                 np.array(valid_aurocs) - valid_auroc_std,\n",
    "                 np.array(valid_aurocs) + valid_auroc_std,\n",
    "                 color='gray', alpha=0.2)\n",
    "\n",
    "plt.title('Training and Validation AUROC')\n",
    "plt.xlabel('Epochs')\n",
    "plt.ylabel('AUROC')\n",
    "plt.legend()\n",
    "plt.show()"
   ]
  },
  {
   "cell_type": "markdown",
   "id": "3c7e410a",
   "metadata": {
    "papermill": {
     "duration": 0.012071,
     "end_time": "2024-05-07T16:17:27.836833",
     "exception": false,
     "start_time": "2024-05-07T16:17:27.824762",
     "status": "completed"
    },
    "tags": []
   },
   "source": [
    "After running the code, TensorBoard logs can be visualized using the following command. This will open a web interface where you can view the loss and other metrics."
   ]
  },
  {
   "cell_type": "code",
   "execution_count": 18,
   "id": "b36c75f3",
   "metadata": {
    "execution": {
     "iopub.execute_input": "2024-05-07T16:17:27.862674Z",
     "iopub.status.busy": "2024-05-07T16:17:27.862299Z",
     "iopub.status.idle": "2024-05-07T16:17:27.866530Z",
     "shell.execute_reply": "2024-05-07T16:17:27.865599Z"
    },
    "papermill": {
     "duration": 0.019543,
     "end_time": "2024-05-07T16:17:27.868641",
     "exception": false,
     "start_time": "2024-05-07T16:17:27.849098",
     "status": "completed"
    },
    "tags": []
   },
   "outputs": [],
   "source": [
    "# %load_ext tensorboard\n",
    "# %tensorboard --logdir logs"
   ]
  },
  {
   "cell_type": "markdown",
   "id": "698f812b",
   "metadata": {
    "papermill": {
     "duration": 0.011573,
     "end_time": "2024-05-07T16:17:27.892224",
     "exception": false,
     "start_time": "2024-05-07T16:17:27.880651",
     "status": "completed"
    },
    "tags": []
   },
   "source": [
    "We will now evaluate the neural network performance with AUC and gini stability below."
   ]
  },
  {
   "cell_type": "code",
   "execution_count": 19,
   "id": "d8274ef9",
   "metadata": {
    "execution": {
     "iopub.execute_input": "2024-05-07T16:17:27.918580Z",
     "iopub.status.busy": "2024-05-07T16:17:27.917902Z",
     "iopub.status.idle": "2024-05-07T16:22:04.739937Z",
     "shell.execute_reply": "2024-05-07T16:22:04.738642Z"
    },
    "papermill": {
     "duration": 276.837888,
     "end_time": "2024-05-07T16:22:04.742246",
     "exception": false,
     "start_time": "2024-05-07T16:17:27.904358",
     "status": "completed"
    },
    "tags": []
   },
   "outputs": [
    {
     "name": "stdout",
     "output_type": "stream",
     "text": [
      "The AUC score on the train set is: 0.7116795176909101\n",
      "The AUC score on the valid set is: 0.7059289855214705\n",
      "The AUC score on the test set is: 0.7063531815674403\n"
     ]
    }
   ],
   "source": [
    "import torch\n",
    "from sklearn.metrics import roc_auc_score\n",
    "\n",
    "# Assuming model is your trained PyTorch model\n",
    "model.eval()  # Set the model to evaluation mode\n",
    "\n",
    "for base, X in [(base_train, X_train), (base_valid, X_valid), (base_test, X_test)]:\n",
    "    # Convert data to PyTorch tensor\n",
    "    X_tensor = torch.tensor(X.astype('float32'))\n",
    "    \n",
    "    # If using GPU, transfer data to GPU\n",
    "    # X_tensor = X_tensor.to(device)  # Uncomment if you are using a device (GPU/CPU)\n",
    "\n",
    "    # Get predictions from the neural network model\n",
    "    with torch.no_grad():  # No need to track gradients for prediction\n",
    "        y_pred = model(X_tensor).squeeze().numpy()  # .squeeze() to remove extra dimensions, .numpy() to convert to NumPy array\n",
    "    \n",
    "    # Store predictions in the DataFrame\n",
    "    base[\"score\"] = y_pred\n",
    "\n",
    "# Print AUC scores using scikit-learn's roc_auc_score function\n",
    "print(f'The AUC score on the train set is: {roc_auc_score(base_train[\"target\"], base_train[\"score\"])}') \n",
    "print(f'The AUC score on the valid set is: {roc_auc_score(base_valid[\"target\"], base_valid[\"score\"])}') \n",
    "print(f'The AUC score on the test set is: {roc_auc_score(base_test[\"target\"], base_test[\"score\"])}')"
   ]
  },
  {
   "cell_type": "code",
   "execution_count": 20,
   "id": "10588e08",
   "metadata": {
    "execution": {
     "iopub.execute_input": "2024-05-07T16:22:04.768810Z",
     "iopub.status.busy": "2024-05-07T16:22:04.768478Z",
     "iopub.status.idle": "2024-05-07T16:22:05.898413Z",
     "shell.execute_reply": "2024-05-07T16:22:05.897259Z"
    },
    "papermill": {
     "duration": 1.145249,
     "end_time": "2024-05-07T16:22:05.900599",
     "exception": false,
     "start_time": "2024-05-07T16:22:04.755350",
     "status": "completed"
    },
    "tags": []
   },
   "outputs": [
    {
     "name": "stdout",
     "output_type": "stream",
     "text": [
      "The stability score on the train set is: 0.3978097947642462\n",
      "The stability score on the valid set is: 0.3797369627585283\n",
      "The stability score on the test set is: 0.3800129314028726\n"
     ]
    }
   ],
   "source": [
    "def gini_stability(base, w_fallingrate=88.0, w_resstd=-0.5):\n",
    "    gini_in_time = base.loc[:, [\"WEEK_NUM\", \"target\", \"score\"]]\\\n",
    "        .sort_values(\"WEEK_NUM\")\\\n",
    "        .groupby(\"WEEK_NUM\")[[\"target\", \"score\"]]\\\n",
    "        .apply(lambda x: 2*roc_auc_score(x[\"target\"], x[\"score\"])-1).tolist()\n",
    "    \n",
    "    x = np.arange(len(gini_in_time))\n",
    "    y = gini_in_time\n",
    "    a, b = np.polyfit(x, y, 1)\n",
    "    y_hat = a*x + b\n",
    "    residuals = y - y_hat\n",
    "    res_std = np.std(residuals)\n",
    "    avg_gini = np.mean(gini_in_time)\n",
    "    return avg_gini + w_fallingrate * min(0, a) + w_resstd * res_std\n",
    "\n",
    "stability_score_train = gini_stability(base_train)\n",
    "stability_score_valid = gini_stability(base_valid)\n",
    "stability_score_test = gini_stability(base_test)\n",
    "\n",
    "print(f'The stability score on the train set is: {stability_score_train}') \n",
    "print(f'The stability score on the valid set is: {stability_score_valid}') \n",
    "print(f'The stability score on the test set is: {stability_score_test}')  "
   ]
  },
  {
   "cell_type": "markdown",
   "id": "bcaa1b38",
   "metadata": {
    "papermill": {
     "duration": 0.01195,
     "end_time": "2024-05-07T16:22:05.924886",
     "exception": false,
     "start_time": "2024-05-07T16:22:05.912936",
     "status": "completed"
    },
    "tags": []
   },
   "source": [
    "## **Submission**\n",
    "\n",
    "We will now make predictions with the neural network for the submission dataset."
   ]
  },
  {
   "cell_type": "code",
   "execution_count": 21,
   "id": "97c5c5a3",
   "metadata": {
    "execution": {
     "iopub.execute_input": "2024-05-07T16:22:05.950537Z",
     "iopub.status.busy": "2024-05-07T16:22:05.950158Z",
     "iopub.status.idle": "2024-05-07T16:22:05.968784Z",
     "shell.execute_reply": "2024-05-07T16:22:05.967666Z"
    },
    "papermill": {
     "duration": 0.034035,
     "end_time": "2024-05-07T16:22:05.970778",
     "exception": false,
     "start_time": "2024-05-07T16:22:05.936743",
     "status": "completed"
    },
    "tags": []
   },
   "outputs": [
    {
     "name": "stdout",
     "output_type": "stream",
     "text": [
      "Submission saved to: /kaggle/working//submission.csv\n"
     ]
    }
   ],
   "source": [
    "import torch\n",
    "import pandas as pd\n",
    "\n",
    "# Assuming model is your trained PyTorch model and X_submission is your input features as a numpy array\n",
    "model.eval()  # Set the model to evaluation mode\n",
    "\n",
    "# Convert X_submission to a PyTorch tensor\n",
    "X_submission_tensor = torch.tensor(X_submission.astype('float32'))\n",
    "\n",
    "# Get predictions from the PyTorch model\n",
    "with torch.no_grad():  # No need to track gradients for prediction\n",
    "    y_submission_pred = model(X_submission_tensor).squeeze().numpy()\n",
    "\n",
    "# Create a pandas DataFrame for submission\n",
    "submission = pd.DataFrame({\n",
    "    \"case_id\": data_submission[\"case_id\"].to_numpy(),\n",
    "    \"score\": y_submission_pred\n",
    "}).set_index('case_id')\n",
    "\n",
    "# # Save submission DataFrame to a CSV file\n",
    "submission.to_csv(\"/kaggle/working/submission.csv\")\n",
    "\n",
    "# If you need to retrieve the file path to the saved CSV:\n",
    "submission_file_path = \"/kaggle/working//submission.csv\"\n",
    "print(f\"Submission saved to: {submission_file_path}\")"
   ]
  },
  {
   "cell_type": "markdown",
   "id": "7da62558",
   "metadata": {
    "papermill": {
     "duration": 0.011574,
     "end_time": "2024-05-07T16:22:05.994336",
     "exception": false,
     "start_time": "2024-05-07T16:22:05.982762",
     "status": "completed"
    },
    "tags": []
   },
   "source": [
    "View the submission dataframe."
   ]
  },
  {
   "cell_type": "code",
   "execution_count": 22,
   "id": "722f57a2",
   "metadata": {
    "execution": {
     "iopub.execute_input": "2024-05-07T16:22:06.019583Z",
     "iopub.status.busy": "2024-05-07T16:22:06.019252Z",
     "iopub.status.idle": "2024-05-07T16:22:06.031826Z",
     "shell.execute_reply": "2024-05-07T16:22:06.030904Z"
    },
    "papermill": {
     "duration": 0.027601,
     "end_time": "2024-05-07T16:22:06.033753",
     "exception": false,
     "start_time": "2024-05-07T16:22:06.006152",
     "status": "completed"
    },
    "tags": []
   },
   "outputs": [
    {
     "data": {
      "text/html": [
       "<div>\n",
       "<style scoped>\n",
       "    .dataframe tbody tr th:only-of-type {\n",
       "        vertical-align: middle;\n",
       "    }\n",
       "\n",
       "    .dataframe tbody tr th {\n",
       "        vertical-align: top;\n",
       "    }\n",
       "\n",
       "    .dataframe thead th {\n",
       "        text-align: right;\n",
       "    }\n",
       "</style>\n",
       "<table border=\"1\" class=\"dataframe\">\n",
       "  <thead>\n",
       "    <tr style=\"text-align: right;\">\n",
       "      <th></th>\n",
       "      <th>score</th>\n",
       "    </tr>\n",
       "    <tr>\n",
       "      <th>case_id</th>\n",
       "      <th></th>\n",
       "    </tr>\n",
       "  </thead>\n",
       "  <tbody>\n",
       "    <tr>\n",
       "      <th>57543</th>\n",
       "      <td>0.032840</td>\n",
       "    </tr>\n",
       "    <tr>\n",
       "      <th>57549</th>\n",
       "      <td>0.031281</td>\n",
       "    </tr>\n",
       "    <tr>\n",
       "      <th>57551</th>\n",
       "      <td>0.009203</td>\n",
       "    </tr>\n",
       "    <tr>\n",
       "      <th>57552</th>\n",
       "      <td>0.022379</td>\n",
       "    </tr>\n",
       "    <tr>\n",
       "      <th>57569</th>\n",
       "      <td>0.039482</td>\n",
       "    </tr>\n",
       "    <tr>\n",
       "      <th>57630</th>\n",
       "      <td>0.030001</td>\n",
       "    </tr>\n",
       "    <tr>\n",
       "      <th>57631</th>\n",
       "      <td>0.051642</td>\n",
       "    </tr>\n",
       "    <tr>\n",
       "      <th>57632</th>\n",
       "      <td>0.004048</td>\n",
       "    </tr>\n",
       "    <tr>\n",
       "      <th>57633</th>\n",
       "      <td>0.042205</td>\n",
       "    </tr>\n",
       "    <tr>\n",
       "      <th>57634</th>\n",
       "      <td>0.011179</td>\n",
       "    </tr>\n",
       "  </tbody>\n",
       "</table>\n",
       "</div>"
      ],
      "text/plain": [
       "            score\n",
       "case_id          \n",
       "57543    0.032840\n",
       "57549    0.031281\n",
       "57551    0.009203\n",
       "57552    0.022379\n",
       "57569    0.039482\n",
       "57630    0.030001\n",
       "57631    0.051642\n",
       "57632    0.004048\n",
       "57633    0.042205\n",
       "57634    0.011179"
      ]
     },
     "execution_count": 22,
     "metadata": {},
     "output_type": "execute_result"
    }
   ],
   "source": [
    "submission"
   ]
  }
 ],
 "metadata": {
  "kaggle": {
   "accelerator": "gpu",
   "dataSources": [
    {
     "databundleVersionId": 7921029,
     "sourceId": 50160,
     "sourceType": "competition"
    }
   ],
   "dockerImageVersionId": 30698,
   "isGpuEnabled": true,
   "isInternetEnabled": false,
   "language": "python",
   "sourceType": "notebook"
  },
  "kernelspec": {
   "display_name": "Python 3",
   "language": "python",
   "name": "python3"
  },
  "language_info": {
   "codemirror_mode": {
    "name": "ipython",
    "version": 3
   },
   "file_extension": ".py",
   "mimetype": "text/x-python",
   "name": "python",
   "nbconvert_exporter": "python",
   "pygments_lexer": "ipython3",
   "version": "3.10.13"
  },
  "papermill": {
   "default_parameters": {},
   "duration": 3387.922571,
   "end_time": "2024-05-07T16:22:09.714417",
   "environment_variables": {},
   "exception": null,
   "input_path": "__notebook__.ipynb",
   "output_path": "__notebook__.ipynb",
   "parameters": {},
   "start_time": "2024-05-07T15:25:41.791846",
   "version": "2.5.0"
  }
 },
 "nbformat": 4,
 "nbformat_minor": 5
}
